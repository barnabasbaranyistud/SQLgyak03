{
    "metadata": {
        "kernelspec": {
            "name": "SQL",
            "display_name": "SQL",
            "language": "sql"
        },
        "language_info": {
            "name": "sql",
            "version": ""
        }
    },
    "nbformat_minor": 2,
    "nbformat": 4,
    "cells": [
        {
            "cell_type": "markdown",
            "source": [
                "1. <span style=\"color: rgb(36, 41, 47); font-family: -apple-system, BlinkMacSystemFont, &quot;Segoe UI&quot;, Helvetica, Arial, sans-serif, &quot;Apple Color Emoji&quot;, &quot;Segoe UI Emoji&quot;; font-size: 16px;\">Készítsünk listát éves bontásban norbert2 azonosítójú ügyfél rendeléseinek értékéről!</span>\n",
                "\n",
                "1. A lista megfelelően jelölve tartalmazza a végösszeget is!"
            ],
            "metadata": {
                "azdata_cell_guid": "363cd270-6577-449b-9c89-d4b7c7972d52"
            },
            "attachments": {}
        },
        {
            "cell_type": "code",
            "source": [
                "SELECT IIF(GROUPING_ID(YEAR(r.REND_DATUM)) = 1,\r\n",
                "'Összesen', CAST(YEAR(r.REND_DATUM) AS nvarchar(4))),\r\n",
                "sum(rt.EGYSEGAR*rt.MENNYISEG) AS 'Egységár'\r\n",
                "FROM Rendeles r JOIN Rendeles_tetel rt\r\n",
                "ON r.SORSZAM = rt.SORSZAM\r\n",
                "WHERE r.[LOGIN] = 'norbert2'\r\n",
                "GROUP BY CUBE (YEAR(r.REND_DATUM))"
            ],
            "metadata": {
                "azdata_cell_guid": "6ab9f633-a3b5-48c9-a1dc-4fb8235ae85b",
                "language": "sql"
            },
            "outputs": [
                {
                    "output_type": "display_data",
                    "data": {
                        "text/html": "(3 rows affected)"
                    },
                    "metadata": {}
                },
                {
                    "output_type": "display_data",
                    "data": {
                        "text/html": "Total execution time: 00:00:00.086"
                    },
                    "metadata": {}
                },
                {
                    "output_type": "execute_result",
                    "metadata": {},
                    "execution_count": 6,
                    "data": {
                        "application/vnd.dataresource+json": {
                            "schema": {
                                "fields": [
                                    {
                                        "name": "(No column name)"
                                    },
                                    {
                                        "name": "Egységár"
                                    }
                                ]
                            },
                            "data": [
                                {
                                    "(No column name)": "2015",
                                    "Egységár": "483473"
                                },
                                {
                                    "(No column name)": "2017",
                                    "Egységár": "614340"
                                },
                                {
                                    "(No column name)": "Összesen",
                                    "Egységár": "1097813"
                                }
                            ]
                        },
                        "text/html": [
                            "<table>",
                            "<tr><th>(No column name)</th><th>Egységár</th></tr>",
                            "<tr><td>2015</td><td>483473</td></tr>",
                            "<tr><td>2017</td><td>614340</td></tr>",
                            "<tr><td>Összesen</td><td>1097813</td></tr>",
                            "</table>"
                        ]
                    }
                }
            ],
            "execution_count": 6
        },
        {
            "cell_type": "markdown",
            "source": [
                "2. <span style=\"color: rgb(36, 41, 47); font-family: -apple-system, BlinkMacSystemFont, &quot;Segoe UI&quot;, Helvetica, Arial, sans-serif, &quot;Apple Color Emoji&quot;, &quot;Segoe UI Emoji&quot;; font-size: 16px;\">Készítsünk listát szállítási dátumonként, azon belül szállítási módonként az egyes rendelések összmennyiségéről!</span>\n",
                "\n",
                "1. Csak azokat a termékeket vegyük figyelembe, amelyek mennyiségi egysége db!\n",
                "2. A listát szűrjük úgy, hogy az csak a részösszeg sorokat és a végösszeget tartalmazza!"
            ],
            "metadata": {
                "azdata_cell_guid": "ea75c103-911f-41a3-a32c-3d40fb3e4e4a"
            },
            "attachments": {}
        },
        {
            "cell_type": "code",
            "source": [
                "SELECT r.SZALL_DATUM, r.SZALL_MOD,\r\n",
                "Count(*) AS 'Mennyiség'\r\n",
                "FROM Rendeles r JOIN Rendeles_tetel rt\r\n",
                "ON r.SORSZAM = rt.SORSZAM\r\n",
                "JOIN Termek t ON t.TERMEKKOD = rt.TERMEKKOD\r\n",
                "WHERE t.MEGYS = 'db'\r\n",
                "GROUP BY rollup(r.SZALL_DATUM, r.SZALL_MOD)\r\n",
                "HAVING grouping_id(r.SZALL_DATUM, r.SZALL_MOD) > 0"
            ],
            "metadata": {
                "azdata_cell_guid": "222b9618-a8e8-42b4-a8e8-d002257122b7",
                "language": "sql"
            },
            "outputs": [
                {
                    "output_type": "display_data",
                    "data": {
                        "text/html": "(711 rows affected)"
                    },
                    "metadata": {}
                },
                {
                    "output_type": "display_data",
                    "data": {
                        "text/html": "Total execution time: 00:00:04.139"
                    },
                    "metadata": {}
                },
                {
                    "output_type": "execute_result",
                    "metadata": {},
                    "execution_count": 14,
                    "data": {
                        "application/vnd.dataresource+json": {
                            "schema": {
                                "fields": [
                                    {
                                        "name": "SZALL_DATUM"
                                    },
                                    {
                                        "name": "SZALL_MOD"
                                    },
                                    {
                                        "name": "Mennyiség"
                                    }
                                ]
                            },
                            "data": [
                                {
                                    "SZALL_DATUM": "2015-05-03",
                                    "SZALL_MOD": "NULL",
                                    "Mennyiség": "4"
                                },
                                {
                                    "SZALL_DATUM": "2015-05-04",
                                    "SZALL_MOD": "NULL",
                                    "Mennyiség": "31"
                                },
                                {
                                    "SZALL_DATUM": "2015-05-05",
                                    "SZALL_MOD": "NULL",
                                    "Mennyiség": "81"
                                },
                                {
                                    "SZALL_DATUM": "2015-05-06",
                                    "SZALL_MOD": "NULL",
                                    "Mennyiség": "126"
                                },
                                {
                                    "SZALL_DATUM": "2015-05-07",
                                    "SZALL_MOD": "NULL",
                                    "Mennyiség": "94"
                                },
                                {
                                    "SZALL_DATUM": "2015-05-08",
                                    "SZALL_MOD": "NULL",
                                    "Mennyiség": "106"
                                },
                                {
                                    "SZALL_DATUM": "2015-05-09",
                                    "SZALL_MOD": "NULL",
                                    "Mennyiség": "159"
                                },
                                {
                                    "SZALL_DATUM": "2015-05-10",
                                    "SZALL_MOD": "NULL",
                                    "Mennyiség": "168"
                                },
                                {
                                    "SZALL_DATUM": "2015-05-11",
                                    "SZALL_MOD": "NULL",
                                    "Mennyiség": "195"
                                },
                                {
                                    "SZALL_DATUM": "2015-05-12",
                                    "SZALL_MOD": "NULL",
                                    "Mennyiség": "196"
                                },
                                {
                                    "SZALL_DATUM": "2015-05-13",
                                    "SZALL_MOD": "NULL",
                                    "Mennyiség": "198"
                                },
                                {
                                    "SZALL_DATUM": "2015-05-14",
                                    "SZALL_MOD": "NULL",
                                    "Mennyiség": "277"
                                },
                                {
                                    "SZALL_DATUM": "2015-05-15",
                                    "SZALL_MOD": "NULL",
                                    "Mennyiség": "188"
                                },
                                {
                                    "SZALL_DATUM": "2015-05-16",
                                    "SZALL_MOD": "NULL",
                                    "Mennyiség": "198"
                                },
                                {
                                    "SZALL_DATUM": "2015-05-17",
                                    "SZALL_MOD": "NULL",
                                    "Mennyiség": "129"
                                },
                                {
                                    "SZALL_DATUM": "2015-05-18",
                                    "SZALL_MOD": "NULL",
                                    "Mennyiség": "225"
                                },
                                {
                                    "SZALL_DATUM": "2015-05-19",
                                    "SZALL_MOD": "NULL",
                                    "Mennyiség": "199"
                                },
                                {
                                    "SZALL_DATUM": "2015-05-20",
                                    "SZALL_MOD": "NULL",
                                    "Mennyiség": "245"
                                },
                                {
                                    "SZALL_DATUM": "2015-05-21",
                                    "SZALL_MOD": "NULL",
                                    "Mennyiség": "198"
                                },
                                {
                                    "SZALL_DATUM": "2015-05-22",
                                    "SZALL_MOD": "NULL",
                                    "Mennyiség": "202"
                                },
                                {
                                    "SZALL_DATUM": "2015-05-23",
                                    "SZALL_MOD": "NULL",
                                    "Mennyiség": "139"
                                },
                                {
                                    "SZALL_DATUM": "2015-05-24",
                                    "SZALL_MOD": "NULL",
                                    "Mennyiség": "150"
                                },
                                {
                                    "SZALL_DATUM": "2015-05-25",
                                    "SZALL_MOD": "NULL",
                                    "Mennyiség": "173"
                                },
                                {
                                    "SZALL_DATUM": "2015-05-26",
                                    "SZALL_MOD": "NULL",
                                    "Mennyiség": "204"
                                },
                                {
                                    "SZALL_DATUM": "2015-05-27",
                                    "SZALL_MOD": "NULL",
                                    "Mennyiség": "231"
                                },
                                {
                                    "SZALL_DATUM": "2015-05-28",
                                    "SZALL_MOD": "NULL",
                                    "Mennyiség": "229"
                                },
                                {
                                    "SZALL_DATUM": "2015-05-29",
                                    "SZALL_MOD": "NULL",
                                    "Mennyiség": "263"
                                },
                                {
                                    "SZALL_DATUM": "2015-05-30",
                                    "SZALL_MOD": "NULL",
                                    "Mennyiség": "203"
                                },
                                {
                                    "SZALL_DATUM": "2015-05-31",
                                    "SZALL_MOD": "NULL",
                                    "Mennyiség": "123"
                                },
                                {
                                    "SZALL_DATUM": "2015-06-01",
                                    "SZALL_MOD": "NULL",
                                    "Mennyiség": "181"
                                },
                                {
                                    "SZALL_DATUM": "2015-06-02",
                                    "SZALL_MOD": "NULL",
                                    "Mennyiség": "175"
                                },
                                {
                                    "SZALL_DATUM": "2015-06-03",
                                    "SZALL_MOD": "NULL",
                                    "Mennyiség": "220"
                                },
                                {
                                    "SZALL_DATUM": "2015-06-04",
                                    "SZALL_MOD": "NULL",
                                    "Mennyiség": "210"
                                },
                                {
                                    "SZALL_DATUM": "2015-06-05",
                                    "SZALL_MOD": "NULL",
                                    "Mennyiség": "230"
                                },
                                {
                                    "SZALL_DATUM": "2015-06-06",
                                    "SZALL_MOD": "NULL",
                                    "Mennyiség": "236"
                                },
                                {
                                    "SZALL_DATUM": "2015-06-07",
                                    "SZALL_MOD": "NULL",
                                    "Mennyiség": "221"
                                },
                                {
                                    "SZALL_DATUM": "2015-06-08",
                                    "SZALL_MOD": "NULL",
                                    "Mennyiség": "149"
                                },
                                {
                                    "SZALL_DATUM": "2015-06-09",
                                    "SZALL_MOD": "NULL",
                                    "Mennyiség": "172"
                                },
                                {
                                    "SZALL_DATUM": "2015-06-10",
                                    "SZALL_MOD": "NULL",
                                    "Mennyiség": "221"
                                },
                                {
                                    "SZALL_DATUM": "2015-06-11",
                                    "SZALL_MOD": "NULL",
                                    "Mennyiség": "173"
                                },
                                {
                                    "SZALL_DATUM": "2015-06-12",
                                    "SZALL_MOD": "NULL",
                                    "Mennyiség": "231"
                                },
                                {
                                    "SZALL_DATUM": "2015-06-13",
                                    "SZALL_MOD": "NULL",
                                    "Mennyiség": "215"
                                },
                                {
                                    "SZALL_DATUM": "2015-06-14",
                                    "SZALL_MOD": "NULL",
                                    "Mennyiség": "207"
                                },
                                {
                                    "SZALL_DATUM": "2015-06-15",
                                    "SZALL_MOD": "NULL",
                                    "Mennyiség": "205"
                                },
                                {
                                    "SZALL_DATUM": "2015-06-16",
                                    "SZALL_MOD": "NULL",
                                    "Mennyiség": "133"
                                },
                                {
                                    "SZALL_DATUM": "2015-06-17",
                                    "SZALL_MOD": "NULL",
                                    "Mennyiség": "229"
                                },
                                {
                                    "SZALL_DATUM": "2015-06-18",
                                    "SZALL_MOD": "NULL",
                                    "Mennyiség": "238"
                                },
                                {
                                    "SZALL_DATUM": "2015-06-19",
                                    "SZALL_MOD": "NULL",
                                    "Mennyiség": "176"
                                },
                                {
                                    "SZALL_DATUM": "2015-06-20",
                                    "SZALL_MOD": "NULL",
                                    "Mennyiség": "198"
                                },
                                {
                                    "SZALL_DATUM": "2015-06-21",
                                    "SZALL_MOD": "NULL",
                                    "Mennyiség": "179"
                                },
                                {
                                    "SZALL_DATUM": "2015-06-22",
                                    "SZALL_MOD": "NULL",
                                    "Mennyiség": "240"
                                },
                                {
                                    "SZALL_DATUM": "2015-06-23",
                                    "SZALL_MOD": "NULL",
                                    "Mennyiség": "227"
                                },
                                {
                                    "SZALL_DATUM": "2015-06-24",
                                    "SZALL_MOD": "NULL",
                                    "Mennyiség": "129"
                                },
                                {
                                    "SZALL_DATUM": "2015-06-25",
                                    "SZALL_MOD": "NULL",
                                    "Mennyiség": "247"
                                },
                                {
                                    "SZALL_DATUM": "2015-06-26",
                                    "SZALL_MOD": "NULL",
                                    "Mennyiség": "271"
                                },
                                {
                                    "SZALL_DATUM": "2015-06-27",
                                    "SZALL_MOD": "NULL",
                                    "Mennyiség": "173"
                                },
                                {
                                    "SZALL_DATUM": "2015-06-28",
                                    "SZALL_MOD": "NULL",
                                    "Mennyiség": "163"
                                },
                                {
                                    "SZALL_DATUM": "2015-06-29",
                                    "SZALL_MOD": "NULL",
                                    "Mennyiség": "207"
                                },
                                {
                                    "SZALL_DATUM": "2015-06-30",
                                    "SZALL_MOD": "NULL",
                                    "Mennyiség": "208"
                                },
                                {
                                    "SZALL_DATUM": "2015-07-01",
                                    "SZALL_MOD": "NULL",
                                    "Mennyiség": "138"
                                },
                                {
                                    "SZALL_DATUM": "2015-07-02",
                                    "SZALL_MOD": "NULL",
                                    "Mennyiség": "183"
                                },
                                {
                                    "SZALL_DATUM": "2015-07-03",
                                    "SZALL_MOD": "NULL",
                                    "Mennyiség": "175"
                                },
                                {
                                    "SZALL_DATUM": "2015-07-04",
                                    "SZALL_MOD": "NULL",
                                    "Mennyiség": "221"
                                },
                                {
                                    "SZALL_DATUM": "2015-07-05",
                                    "SZALL_MOD": "NULL",
                                    "Mennyiség": "220"
                                },
                                {
                                    "SZALL_DATUM": "2015-07-06",
                                    "SZALL_MOD": "NULL",
                                    "Mennyiség": "231"
                                },
                                {
                                    "SZALL_DATUM": "2015-07-07",
                                    "SZALL_MOD": "NULL",
                                    "Mennyiség": "266"
                                },
                                {
                                    "SZALL_DATUM": "2015-07-08",
                                    "SZALL_MOD": "NULL",
                                    "Mennyiség": "177"
                                },
                                {
                                    "SZALL_DATUM": "2015-07-09",
                                    "SZALL_MOD": "NULL",
                                    "Mennyiség": "198"
                                },
                                {
                                    "SZALL_DATUM": "2015-07-10",
                                    "SZALL_MOD": "NULL",
                                    "Mennyiség": "182"
                                },
                                {
                                    "SZALL_DATUM": "2015-07-11",
                                    "SZALL_MOD": "NULL",
                                    "Mennyiség": "175"
                                },
                                {
                                    "SZALL_DATUM": "2015-07-12",
                                    "SZALL_MOD": "NULL",
                                    "Mennyiség": "218"
                                },
                                {
                                    "SZALL_DATUM": "2015-07-13",
                                    "SZALL_MOD": "NULL",
                                    "Mennyiség": "208"
                                },
                                {
                                    "SZALL_DATUM": "2015-07-14",
                                    "SZALL_MOD": "NULL",
                                    "Mennyiség": "188"
                                },
                                {
                                    "SZALL_DATUM": "2015-07-15",
                                    "SZALL_MOD": "NULL",
                                    "Mennyiség": "256"
                                },
                                {
                                    "SZALL_DATUM": "2015-07-16",
                                    "SZALL_MOD": "NULL",
                                    "Mennyiség": "187"
                                },
                                {
                                    "SZALL_DATUM": "2015-07-17",
                                    "SZALL_MOD": "NULL",
                                    "Mennyiség": "176"
                                },
                                {
                                    "SZALL_DATUM": "2015-07-18",
                                    "SZALL_MOD": "NULL",
                                    "Mennyiség": "159"
                                },
                                {
                                    "SZALL_DATUM": "2015-07-19",
                                    "SZALL_MOD": "NULL",
                                    "Mennyiség": "187"
                                },
                                {
                                    "SZALL_DATUM": "2015-07-20",
                                    "SZALL_MOD": "NULL",
                                    "Mennyiség": "260"
                                },
                                {
                                    "SZALL_DATUM": "2015-07-21",
                                    "SZALL_MOD": "NULL",
                                    "Mennyiség": "242"
                                },
                                {
                                    "SZALL_DATUM": "2015-07-22",
                                    "SZALL_MOD": "NULL",
                                    "Mennyiség": "163"
                                },
                                {
                                    "SZALL_DATUM": "2015-07-23",
                                    "SZALL_MOD": "NULL",
                                    "Mennyiség": "180"
                                },
                                {
                                    "SZALL_DATUM": "2015-07-24",
                                    "SZALL_MOD": "NULL",
                                    "Mennyiség": "219"
                                },
                                {
                                    "SZALL_DATUM": "2015-07-25",
                                    "SZALL_MOD": "NULL",
                                    "Mennyiség": "200"
                                },
                                {
                                    "SZALL_DATUM": "2015-07-26",
                                    "SZALL_MOD": "NULL",
                                    "Mennyiség": "236"
                                },
                                {
                                    "SZALL_DATUM": "2015-07-27",
                                    "SZALL_MOD": "NULL",
                                    "Mennyiség": "155"
                                },
                                {
                                    "SZALL_DATUM": "2015-07-28",
                                    "SZALL_MOD": "NULL",
                                    "Mennyiség": "180"
                                },
                                {
                                    "SZALL_DATUM": "2015-07-29",
                                    "SZALL_MOD": "NULL",
                                    "Mennyiség": "161"
                                },
                                {
                                    "SZALL_DATUM": "2015-07-30",
                                    "SZALL_MOD": "NULL",
                                    "Mennyiség": "238"
                                },
                                {
                                    "SZALL_DATUM": "2015-07-31",
                                    "SZALL_MOD": "NULL",
                                    "Mennyiség": "270"
                                },
                                {
                                    "SZALL_DATUM": "2015-08-01",
                                    "SZALL_MOD": "NULL",
                                    "Mennyiség": "248"
                                },
                                {
                                    "SZALL_DATUM": "2015-08-02",
                                    "SZALL_MOD": "NULL",
                                    "Mennyiség": "229"
                                },
                                {
                                    "SZALL_DATUM": "2015-08-03",
                                    "SZALL_MOD": "NULL",
                                    "Mennyiség": "229"
                                },
                                {
                                    "SZALL_DATUM": "2015-08-04",
                                    "SZALL_MOD": "NULL",
                                    "Mennyiség": "250"
                                },
                                {
                                    "SZALL_DATUM": "2015-08-05",
                                    "SZALL_MOD": "NULL",
                                    "Mennyiség": "233"
                                },
                                {
                                    "SZALL_DATUM": "2015-08-06",
                                    "SZALL_MOD": "NULL",
                                    "Mennyiség": "140"
                                },
                                {
                                    "SZALL_DATUM": "2015-08-07",
                                    "SZALL_MOD": "NULL",
                                    "Mennyiség": "259"
                                },
                                {
                                    "SZALL_DATUM": "2015-08-08",
                                    "SZALL_MOD": "NULL",
                                    "Mennyiség": "258"
                                },
                                {
                                    "SZALL_DATUM": "2015-08-09",
                                    "SZALL_MOD": "NULL",
                                    "Mennyiség": "187"
                                },
                                {
                                    "SZALL_DATUM": "2015-08-10",
                                    "SZALL_MOD": "NULL",
                                    "Mennyiség": "196"
                                },
                                {
                                    "SZALL_DATUM": "2015-08-11",
                                    "SZALL_MOD": "NULL",
                                    "Mennyiség": "241"
                                },
                                {
                                    "SZALL_DATUM": "2015-08-12",
                                    "SZALL_MOD": "NULL",
                                    "Mennyiség": "202"
                                },
                                {
                                    "SZALL_DATUM": "2015-08-13",
                                    "SZALL_MOD": "NULL",
                                    "Mennyiség": "250"
                                },
                                {
                                    "SZALL_DATUM": "2015-08-14",
                                    "SZALL_MOD": "NULL",
                                    "Mennyiség": "255"
                                },
                                {
                                    "SZALL_DATUM": "2015-08-15",
                                    "SZALL_MOD": "NULL",
                                    "Mennyiség": "172"
                                },
                                {
                                    "SZALL_DATUM": "2015-08-16",
                                    "SZALL_MOD": "NULL",
                                    "Mennyiség": "189"
                                },
                                {
                                    "SZALL_DATUM": "2015-08-17",
                                    "SZALL_MOD": "NULL",
                                    "Mennyiség": "203"
                                },
                                {
                                    "SZALL_DATUM": "2015-08-18",
                                    "SZALL_MOD": "NULL",
                                    "Mennyiség": "167"
                                },
                                {
                                    "SZALL_DATUM": "2015-08-19",
                                    "SZALL_MOD": "NULL",
                                    "Mennyiség": "170"
                                },
                                {
                                    "SZALL_DATUM": "2015-08-20",
                                    "SZALL_MOD": "NULL",
                                    "Mennyiség": "227"
                                },
                                {
                                    "SZALL_DATUM": "2015-08-21",
                                    "SZALL_MOD": "NULL",
                                    "Mennyiség": "199"
                                },
                                {
                                    "SZALL_DATUM": "2015-08-22",
                                    "SZALL_MOD": "NULL",
                                    "Mennyiség": "251"
                                },
                                {
                                    "SZALL_DATUM": "2015-08-23",
                                    "SZALL_MOD": "NULL",
                                    "Mennyiség": "173"
                                },
                                {
                                    "SZALL_DATUM": "2015-08-24",
                                    "SZALL_MOD": "NULL",
                                    "Mennyiség": "191"
                                },
                                {
                                    "SZALL_DATUM": "2015-08-25",
                                    "SZALL_MOD": "NULL",
                                    "Mennyiség": "235"
                                },
                                {
                                    "SZALL_DATUM": "2015-08-26",
                                    "SZALL_MOD": "NULL",
                                    "Mennyiség": "267"
                                },
                                {
                                    "SZALL_DATUM": "2015-08-27",
                                    "SZALL_MOD": "NULL",
                                    "Mennyiség": "152"
                                },
                                {
                                    "SZALL_DATUM": "2015-08-28",
                                    "SZALL_MOD": "NULL",
                                    "Mennyiség": "221"
                                },
                                {
                                    "SZALL_DATUM": "2015-08-29",
                                    "SZALL_MOD": "NULL",
                                    "Mennyiség": "183"
                                },
                                {
                                    "SZALL_DATUM": "2015-08-30",
                                    "SZALL_MOD": "NULL",
                                    "Mennyiség": "236"
                                },
                                {
                                    "SZALL_DATUM": "2015-08-31",
                                    "SZALL_MOD": "NULL",
                                    "Mennyiség": "205"
                                },
                                {
                                    "SZALL_DATUM": "2015-09-01",
                                    "SZALL_MOD": "NULL",
                                    "Mennyiség": "246"
                                },
                                {
                                    "SZALL_DATUM": "2015-09-02",
                                    "SZALL_MOD": "NULL",
                                    "Mennyiség": "165"
                                },
                                {
                                    "SZALL_DATUM": "2015-09-03",
                                    "SZALL_MOD": "NULL",
                                    "Mennyiség": "234"
                                },
                                {
                                    "SZALL_DATUM": "2015-09-04",
                                    "SZALL_MOD": "NULL",
                                    "Mennyiség": "256"
                                },
                                {
                                    "SZALL_DATUM": "2015-09-05",
                                    "SZALL_MOD": "NULL",
                                    "Mennyiség": "187"
                                },
                                {
                                    "SZALL_DATUM": "2015-09-06",
                                    "SZALL_MOD": "NULL",
                                    "Mennyiség": "209"
                                },
                                {
                                    "SZALL_DATUM": "2015-09-07",
                                    "SZALL_MOD": "NULL",
                                    "Mennyiség": "237"
                                },
                                {
                                    "SZALL_DATUM": "2015-09-08",
                                    "SZALL_MOD": "NULL",
                                    "Mennyiség": "193"
                                },
                                {
                                    "SZALL_DATUM": "2015-09-09",
                                    "SZALL_MOD": "NULL",
                                    "Mennyiség": "204"
                                },
                                {
                                    "SZALL_DATUM": "2015-09-10",
                                    "SZALL_MOD": "NULL",
                                    "Mennyiség": "265"
                                },
                                {
                                    "SZALL_DATUM": "2015-09-11",
                                    "SZALL_MOD": "NULL",
                                    "Mennyiség": "219"
                                },
                                {
                                    "SZALL_DATUM": "2015-09-12",
                                    "SZALL_MOD": "NULL",
                                    "Mennyiség": "240"
                                },
                                {
                                    "SZALL_DATUM": "2015-09-13",
                                    "SZALL_MOD": "NULL",
                                    "Mennyiség": "195"
                                },
                                {
                                    "SZALL_DATUM": "2015-09-14",
                                    "SZALL_MOD": "NULL",
                                    "Mennyiség": "210"
                                },
                                {
                                    "SZALL_DATUM": "2015-09-15",
                                    "SZALL_MOD": "NULL",
                                    "Mennyiség": "140"
                                },
                                {
                                    "SZALL_DATUM": "2015-09-16",
                                    "SZALL_MOD": "NULL",
                                    "Mennyiség": "199"
                                },
                                {
                                    "SZALL_DATUM": "2015-09-17",
                                    "SZALL_MOD": "NULL",
                                    "Mennyiség": "226"
                                },
                                {
                                    "SZALL_DATUM": "2015-09-18",
                                    "SZALL_MOD": "NULL",
                                    "Mennyiség": "212"
                                },
                                {
                                    "SZALL_DATUM": "2015-09-19",
                                    "SZALL_MOD": "NULL",
                                    "Mennyiség": "196"
                                },
                                {
                                    "SZALL_DATUM": "2015-09-20",
                                    "SZALL_MOD": "NULL",
                                    "Mennyiség": "263"
                                },
                                {
                                    "SZALL_DATUM": "2015-09-21",
                                    "SZALL_MOD": "NULL",
                                    "Mennyiség": "164"
                                },
                                {
                                    "SZALL_DATUM": "2015-09-22",
                                    "SZALL_MOD": "NULL",
                                    "Mennyiség": "221"
                                },
                                {
                                    "SZALL_DATUM": "2015-09-23",
                                    "SZALL_MOD": "NULL",
                                    "Mennyiség": "187"
                                },
                                {
                                    "SZALL_DATUM": "2015-09-24",
                                    "SZALL_MOD": "NULL",
                                    "Mennyiség": "264"
                                },
                                {
                                    "SZALL_DATUM": "2015-09-25",
                                    "SZALL_MOD": "NULL",
                                    "Mennyiség": "186"
                                },
                                {
                                    "SZALL_DATUM": "2015-09-26",
                                    "SZALL_MOD": "NULL",
                                    "Mennyiség": "240"
                                },
                                {
                                    "SZALL_DATUM": "2015-09-27",
                                    "SZALL_MOD": "NULL",
                                    "Mennyiség": "194"
                                },
                                {
                                    "SZALL_DATUM": "2015-09-28",
                                    "SZALL_MOD": "NULL",
                                    "Mennyiség": "269"
                                },
                                {
                                    "SZALL_DATUM": "2015-09-29",
                                    "SZALL_MOD": "NULL",
                                    "Mennyiség": "252"
                                },
                                {
                                    "SZALL_DATUM": "2015-09-30",
                                    "SZALL_MOD": "NULL",
                                    "Mennyiség": "151"
                                },
                                {
                                    "SZALL_DATUM": "2015-10-01",
                                    "SZALL_MOD": "NULL",
                                    "Mennyiség": "207"
                                },
                                {
                                    "SZALL_DATUM": "2015-10-02",
                                    "SZALL_MOD": "NULL",
                                    "Mennyiség": "153"
                                },
                                {
                                    "SZALL_DATUM": "2015-10-03",
                                    "SZALL_MOD": "NULL",
                                    "Mennyiség": "242"
                                },
                                {
                                    "SZALL_DATUM": "2015-10-04",
                                    "SZALL_MOD": "NULL",
                                    "Mennyiség": "197"
                                },
                                {
                                    "SZALL_DATUM": "2015-10-05",
                                    "SZALL_MOD": "NULL",
                                    "Mennyiség": "226"
                                },
                                {
                                    "SZALL_DATUM": "2015-10-06",
                                    "SZALL_MOD": "NULL",
                                    "Mennyiség": "163"
                                },
                                {
                                    "SZALL_DATUM": "2015-10-07",
                                    "SZALL_MOD": "NULL",
                                    "Mennyiség": "230"
                                },
                                {
                                    "SZALL_DATUM": "2015-10-08",
                                    "SZALL_MOD": "NULL",
                                    "Mennyiség": "216"
                                },
                                {
                                    "SZALL_DATUM": "2015-10-09",
                                    "SZALL_MOD": "NULL",
                                    "Mennyiség": "235"
                                },
                                {
                                    "SZALL_DATUM": "2015-10-10",
                                    "SZALL_MOD": "NULL",
                                    "Mennyiség": "216"
                                },
                                {
                                    "SZALL_DATUM": "2015-10-11",
                                    "SZALL_MOD": "NULL",
                                    "Mennyiség": "184"
                                },
                                {
                                    "SZALL_DATUM": "2015-10-12",
                                    "SZALL_MOD": "NULL",
                                    "Mennyiség": "237"
                                },
                                {
                                    "SZALL_DATUM": "2015-10-13",
                                    "SZALL_MOD": "NULL",
                                    "Mennyiség": "174"
                                },
                                {
                                    "SZALL_DATUM": "2015-10-14",
                                    "SZALL_MOD": "NULL",
                                    "Mennyiség": "163"
                                },
                                {
                                    "SZALL_DATUM": "2015-10-15",
                                    "SZALL_MOD": "NULL",
                                    "Mennyiség": "251"
                                },
                                {
                                    "SZALL_DATUM": "2015-10-16",
                                    "SZALL_MOD": "NULL",
                                    "Mennyiség": "258"
                                },
                                {
                                    "SZALL_DATUM": "2015-10-17",
                                    "SZALL_MOD": "NULL",
                                    "Mennyiség": "186"
                                },
                                {
                                    "SZALL_DATUM": "2015-10-18",
                                    "SZALL_MOD": "NULL",
                                    "Mennyiség": "219"
                                },
                                {
                                    "SZALL_DATUM": "2015-10-19",
                                    "SZALL_MOD": "NULL",
                                    "Mennyiség": "184"
                                },
                                {
                                    "SZALL_DATUM": "2015-10-20",
                                    "SZALL_MOD": "NULL",
                                    "Mennyiség": "260"
                                },
                                {
                                    "SZALL_DATUM": "2015-10-21",
                                    "SZALL_MOD": "NULL",
                                    "Mennyiség": "191"
                                },
                                {
                                    "SZALL_DATUM": "2015-10-22",
                                    "SZALL_MOD": "NULL",
                                    "Mennyiség": "153"
                                },
                                {
                                    "SZALL_DATUM": "2015-10-23",
                                    "SZALL_MOD": "NULL",
                                    "Mennyiség": "207"
                                },
                                {
                                    "SZALL_DATUM": "2015-10-24",
                                    "SZALL_MOD": "NULL",
                                    "Mennyiség": "186"
                                },
                                {
                                    "SZALL_DATUM": "2015-10-25",
                                    "SZALL_MOD": "NULL",
                                    "Mennyiség": "234"
                                },
                                {
                                    "SZALL_DATUM": "2015-10-26",
                                    "SZALL_MOD": "NULL",
                                    "Mennyiség": "221"
                                },
                                {
                                    "SZALL_DATUM": "2015-10-27",
                                    "SZALL_MOD": "NULL",
                                    "Mennyiség": "188"
                                },
                                {
                                    "SZALL_DATUM": "2015-10-28",
                                    "SZALL_MOD": "NULL",
                                    "Mennyiség": "194"
                                },
                                {
                                    "SZALL_DATUM": "2015-10-29",
                                    "SZALL_MOD": "NULL",
                                    "Mennyiség": "191"
                                },
                                {
                                    "SZALL_DATUM": "2015-10-30",
                                    "SZALL_MOD": "NULL",
                                    "Mennyiség": "214"
                                },
                                {
                                    "SZALL_DATUM": "2015-10-31",
                                    "SZALL_MOD": "NULL",
                                    "Mennyiség": "176"
                                },
                                {
                                    "SZALL_DATUM": "2015-11-01",
                                    "SZALL_MOD": "NULL",
                                    "Mennyiség": "148"
                                },
                                {
                                    "SZALL_DATUM": "2015-11-02",
                                    "SZALL_MOD": "NULL",
                                    "Mennyiség": "191"
                                },
                                {
                                    "SZALL_DATUM": "2015-11-03",
                                    "SZALL_MOD": "NULL",
                                    "Mennyiség": "304"
                                },
                                {
                                    "SZALL_DATUM": "2015-11-04",
                                    "SZALL_MOD": "NULL",
                                    "Mennyiség": "181"
                                },
                                {
                                    "SZALL_DATUM": "2015-11-05",
                                    "SZALL_MOD": "NULL",
                                    "Mennyiség": "173"
                                },
                                {
                                    "SZALL_DATUM": "2015-11-06",
                                    "SZALL_MOD": "NULL",
                                    "Mennyiség": "211"
                                },
                                {
                                    "SZALL_DATUM": "2015-11-07",
                                    "SZALL_MOD": "NULL",
                                    "Mennyiség": "206"
                                },
                                {
                                    "SZALL_DATUM": "2015-11-08",
                                    "SZALL_MOD": "NULL",
                                    "Mennyiség": "210"
                                },
                                {
                                    "SZALL_DATUM": "2015-11-09",
                                    "SZALL_MOD": "NULL",
                                    "Mennyiség": "206"
                                },
                                {
                                    "SZALL_DATUM": "2015-11-10",
                                    "SZALL_MOD": "NULL",
                                    "Mennyiség": "219"
                                },
                                {
                                    "SZALL_DATUM": "2015-11-11",
                                    "SZALL_MOD": "NULL",
                                    "Mennyiség": "200"
                                },
                                {
                                    "SZALL_DATUM": "2015-11-12",
                                    "SZALL_MOD": "NULL",
                                    "Mennyiség": "149"
                                },
                                {
                                    "SZALL_DATUM": "2015-11-13",
                                    "SZALL_MOD": "NULL",
                                    "Mennyiség": "188"
                                },
                                {
                                    "SZALL_DATUM": "2015-11-14",
                                    "SZALL_MOD": "NULL",
                                    "Mennyiség": "230"
                                },
                                {
                                    "SZALL_DATUM": "2015-11-15",
                                    "SZALL_MOD": "NULL",
                                    "Mennyiség": "164"
                                },
                                {
                                    "SZALL_DATUM": "2015-11-16",
                                    "SZALL_MOD": "NULL",
                                    "Mennyiség": "230"
                                },
                                {
                                    "SZALL_DATUM": "2015-11-17",
                                    "SZALL_MOD": "NULL",
                                    "Mennyiség": "195"
                                },
                                {
                                    "SZALL_DATUM": "2015-11-18",
                                    "SZALL_MOD": "NULL",
                                    "Mennyiség": "219"
                                },
                                {
                                    "SZALL_DATUM": "2015-11-19",
                                    "SZALL_MOD": "NULL",
                                    "Mennyiség": "190"
                                },
                                {
                                    "SZALL_DATUM": "2015-11-20",
                                    "SZALL_MOD": "NULL",
                                    "Mennyiség": "168"
                                },
                                {
                                    "SZALL_DATUM": "2015-11-21",
                                    "SZALL_MOD": "NULL",
                                    "Mennyiség": "205"
                                },
                                {
                                    "SZALL_DATUM": "2015-11-22",
                                    "SZALL_MOD": "NULL",
                                    "Mennyiség": "240"
                                },
                                {
                                    "SZALL_DATUM": "2015-11-23",
                                    "SZALL_MOD": "NULL",
                                    "Mennyiség": "209"
                                },
                                {
                                    "SZALL_DATUM": "2015-11-24",
                                    "SZALL_MOD": "NULL",
                                    "Mennyiség": "245"
                                },
                                {
                                    "SZALL_DATUM": "2015-11-25",
                                    "SZALL_MOD": "NULL",
                                    "Mennyiség": "167"
                                },
                                {
                                    "SZALL_DATUM": "2015-11-26",
                                    "SZALL_MOD": "NULL",
                                    "Mennyiség": "186"
                                },
                                {
                                    "SZALL_DATUM": "2015-11-27",
                                    "SZALL_MOD": "NULL",
                                    "Mennyiség": "177"
                                },
                                {
                                    "SZALL_DATUM": "2015-11-28",
                                    "SZALL_MOD": "NULL",
                                    "Mennyiség": "266"
                                },
                                {
                                    "SZALL_DATUM": "2015-11-29",
                                    "SZALL_MOD": "NULL",
                                    "Mennyiség": "167"
                                },
                                {
                                    "SZALL_DATUM": "2015-11-30",
                                    "SZALL_MOD": "NULL",
                                    "Mennyiség": "205"
                                },
                                {
                                    "SZALL_DATUM": "2015-12-01",
                                    "SZALL_MOD": "NULL",
                                    "Mennyiség": "185"
                                },
                                {
                                    "SZALL_DATUM": "2015-12-02",
                                    "SZALL_MOD": "NULL",
                                    "Mennyiség": "226"
                                },
                                {
                                    "SZALL_DATUM": "2015-12-03",
                                    "SZALL_MOD": "NULL",
                                    "Mennyiség": "217"
                                },
                                {
                                    "SZALL_DATUM": "2015-12-04",
                                    "SZALL_MOD": "NULL",
                                    "Mennyiség": "185"
                                },
                                {
                                    "SZALL_DATUM": "2015-12-05",
                                    "SZALL_MOD": "NULL",
                                    "Mennyiség": "267"
                                },
                                {
                                    "SZALL_DATUM": "2015-12-06",
                                    "SZALL_MOD": "NULL",
                                    "Mennyiség": "150"
                                },
                                {
                                    "SZALL_DATUM": "2015-12-07",
                                    "SZALL_MOD": "NULL",
                                    "Mennyiség": "263"
                                },
                                {
                                    "SZALL_DATUM": "2015-12-08",
                                    "SZALL_MOD": "NULL",
                                    "Mennyiség": "207"
                                },
                                {
                                    "SZALL_DATUM": "2015-12-09",
                                    "SZALL_MOD": "NULL",
                                    "Mennyiség": "211"
                                },
                                {
                                    "SZALL_DATUM": "2015-12-10",
                                    "SZALL_MOD": "NULL",
                                    "Mennyiség": "256"
                                },
                                {
                                    "SZALL_DATUM": "2015-12-11",
                                    "SZALL_MOD": "NULL",
                                    "Mennyiség": "230"
                                },
                                {
                                    "SZALL_DATUM": "2015-12-12",
                                    "SZALL_MOD": "NULL",
                                    "Mennyiség": "224"
                                },
                                {
                                    "SZALL_DATUM": "2015-12-13",
                                    "SZALL_MOD": "NULL",
                                    "Mennyiség": "171"
                                },
                                {
                                    "SZALL_DATUM": "2015-12-14",
                                    "SZALL_MOD": "NULL",
                                    "Mennyiség": "212"
                                },
                                {
                                    "SZALL_DATUM": "2015-12-15",
                                    "SZALL_MOD": "NULL",
                                    "Mennyiség": "184"
                                },
                                {
                                    "SZALL_DATUM": "2015-12-16",
                                    "SZALL_MOD": "NULL",
                                    "Mennyiség": "179"
                                },
                                {
                                    "SZALL_DATUM": "2015-12-17",
                                    "SZALL_MOD": "NULL",
                                    "Mennyiség": "186"
                                },
                                {
                                    "SZALL_DATUM": "2015-12-18",
                                    "SZALL_MOD": "NULL",
                                    "Mennyiség": "274"
                                },
                                {
                                    "SZALL_DATUM": "2015-12-19",
                                    "SZALL_MOD": "NULL",
                                    "Mennyiség": "164"
                                },
                                {
                                    "SZALL_DATUM": "2015-12-20",
                                    "SZALL_MOD": "NULL",
                                    "Mennyiség": "222"
                                },
                                {
                                    "SZALL_DATUM": "2015-12-21",
                                    "SZALL_MOD": "NULL",
                                    "Mennyiség": "164"
                                },
                                {
                                    "SZALL_DATUM": "2015-12-22",
                                    "SZALL_MOD": "NULL",
                                    "Mennyiség": "210"
                                },
                                {
                                    "SZALL_DATUM": "2015-12-23",
                                    "SZALL_MOD": "NULL",
                                    "Mennyiség": "191"
                                },
                                {
                                    "SZALL_DATUM": "2015-12-24",
                                    "SZALL_MOD": "NULL",
                                    "Mennyiség": "196"
                                },
                                {
                                    "SZALL_DATUM": "2015-12-25",
                                    "SZALL_MOD": "NULL",
                                    "Mennyiség": "181"
                                },
                                {
                                    "SZALL_DATUM": "2015-12-26",
                                    "SZALL_MOD": "NULL",
                                    "Mennyiség": "222"
                                },
                                {
                                    "SZALL_DATUM": "2015-12-27",
                                    "SZALL_MOD": "NULL",
                                    "Mennyiség": "208"
                                },
                                {
                                    "SZALL_DATUM": "2015-12-28",
                                    "SZALL_MOD": "NULL",
                                    "Mennyiség": "244"
                                },
                                {
                                    "SZALL_DATUM": "2015-12-29",
                                    "SZALL_MOD": "NULL",
                                    "Mennyiség": "247"
                                },
                                {
                                    "SZALL_DATUM": "2015-12-30",
                                    "SZALL_MOD": "NULL",
                                    "Mennyiség": "190"
                                },
                                {
                                    "SZALL_DATUM": "2015-12-31",
                                    "SZALL_MOD": "NULL",
                                    "Mennyiség": "206"
                                },
                                {
                                    "SZALL_DATUM": "2016-01-01",
                                    "SZALL_MOD": "NULL",
                                    "Mennyiség": "240"
                                },
                                {
                                    "SZALL_DATUM": "2016-01-02",
                                    "SZALL_MOD": "NULL",
                                    "Mennyiség": "206"
                                },
                                {
                                    "SZALL_DATUM": "2016-01-03",
                                    "SZALL_MOD": "NULL",
                                    "Mennyiség": "257"
                                },
                                {
                                    "SZALL_DATUM": "2016-01-04",
                                    "SZALL_MOD": "NULL",
                                    "Mennyiség": "233"
                                },
                                {
                                    "SZALL_DATUM": "2016-01-05",
                                    "SZALL_MOD": "NULL",
                                    "Mennyiség": "192"
                                },
                                {
                                    "SZALL_DATUM": "2016-01-06",
                                    "SZALL_MOD": "NULL",
                                    "Mennyiség": "193"
                                },
                                {
                                    "SZALL_DATUM": "2016-01-07",
                                    "SZALL_MOD": "NULL",
                                    "Mennyiség": "142"
                                },
                                {
                                    "SZALL_DATUM": "2016-01-08",
                                    "SZALL_MOD": "NULL",
                                    "Mennyiség": "269"
                                },
                                {
                                    "SZALL_DATUM": "2016-01-09",
                                    "SZALL_MOD": "NULL",
                                    "Mennyiség": "196"
                                },
                                {
                                    "SZALL_DATUM": "2016-01-10",
                                    "SZALL_MOD": "NULL",
                                    "Mennyiség": "204"
                                },
                                {
                                    "SZALL_DATUM": "2016-01-11",
                                    "SZALL_MOD": "NULL",
                                    "Mennyiség": "201"
                                },
                                {
                                    "SZALL_DATUM": "2016-01-12",
                                    "SZALL_MOD": "NULL",
                                    "Mennyiség": "189"
                                },
                                {
                                    "SZALL_DATUM": "2016-01-13",
                                    "SZALL_MOD": "NULL",
                                    "Mennyiség": "201"
                                },
                                {
                                    "SZALL_DATUM": "2016-01-14",
                                    "SZALL_MOD": "NULL",
                                    "Mennyiség": "226"
                                },
                                {
                                    "SZALL_DATUM": "2016-01-15",
                                    "SZALL_MOD": "NULL",
                                    "Mennyiség": "229"
                                },
                                {
                                    "SZALL_DATUM": "2016-01-16",
                                    "SZALL_MOD": "NULL",
                                    "Mennyiség": "218"
                                },
                                {
                                    "SZALL_DATUM": "2016-01-17",
                                    "SZALL_MOD": "NULL",
                                    "Mennyiség": "203"
                                },
                                {
                                    "SZALL_DATUM": "2016-01-18",
                                    "SZALL_MOD": "NULL",
                                    "Mennyiség": "173"
                                },
                                {
                                    "SZALL_DATUM": "2016-01-19",
                                    "SZALL_MOD": "NULL",
                                    "Mennyiség": "176"
                                },
                                {
                                    "SZALL_DATUM": "2016-01-20",
                                    "SZALL_MOD": "NULL",
                                    "Mennyiség": "200"
                                },
                                {
                                    "SZALL_DATUM": "2016-01-21",
                                    "SZALL_MOD": "NULL",
                                    "Mennyiség": "281"
                                },
                                {
                                    "SZALL_DATUM": "2016-01-22",
                                    "SZALL_MOD": "NULL",
                                    "Mennyiség": "206"
                                },
                                {
                                    "SZALL_DATUM": "2016-01-23",
                                    "SZALL_MOD": "NULL",
                                    "Mennyiség": "175"
                                },
                                {
                                    "SZALL_DATUM": "2016-01-24",
                                    "SZALL_MOD": "NULL",
                                    "Mennyiség": "241"
                                },
                                {
                                    "SZALL_DATUM": "2016-01-25",
                                    "SZALL_MOD": "NULL",
                                    "Mennyiség": "136"
                                },
                                {
                                    "SZALL_DATUM": "2016-01-26",
                                    "SZALL_MOD": "NULL",
                                    "Mennyiség": "144"
                                },
                                {
                                    "SZALL_DATUM": "2016-01-27",
                                    "SZALL_MOD": "NULL",
                                    "Mennyiség": "195"
                                },
                                {
                                    "SZALL_DATUM": "2016-01-28",
                                    "SZALL_MOD": "NULL",
                                    "Mennyiség": "207"
                                },
                                {
                                    "SZALL_DATUM": "2016-01-29",
                                    "SZALL_MOD": "NULL",
                                    "Mennyiség": "198"
                                },
                                {
                                    "SZALL_DATUM": "2016-01-30",
                                    "SZALL_MOD": "NULL",
                                    "Mennyiség": "239"
                                },
                                {
                                    "SZALL_DATUM": "2016-01-31",
                                    "SZALL_MOD": "NULL",
                                    "Mennyiség": "191"
                                },
                                {
                                    "SZALL_DATUM": "2016-02-01",
                                    "SZALL_MOD": "NULL",
                                    "Mennyiség": "246"
                                },
                                {
                                    "SZALL_DATUM": "2016-02-02",
                                    "SZALL_MOD": "NULL",
                                    "Mennyiség": "211"
                                },
                                {
                                    "SZALL_DATUM": "2016-02-03",
                                    "SZALL_MOD": "NULL",
                                    "Mennyiség": "236"
                                },
                                {
                                    "SZALL_DATUM": "2016-02-04",
                                    "SZALL_MOD": "NULL",
                                    "Mennyiség": "199"
                                },
                                {
                                    "SZALL_DATUM": "2016-02-05",
                                    "SZALL_MOD": "NULL",
                                    "Mennyiség": "233"
                                },
                                {
                                    "SZALL_DATUM": "2016-02-06",
                                    "SZALL_MOD": "NULL",
                                    "Mennyiség": "287"
                                },
                                {
                                    "SZALL_DATUM": "2016-02-07",
                                    "SZALL_MOD": "NULL",
                                    "Mennyiség": "164"
                                },
                                {
                                    "SZALL_DATUM": "2016-02-08",
                                    "SZALL_MOD": "NULL",
                                    "Mennyiség": "230"
                                },
                                {
                                    "SZALL_DATUM": "2016-02-09",
                                    "SZALL_MOD": "NULL",
                                    "Mennyiség": "222"
                                },
                                {
                                    "SZALL_DATUM": "2016-02-10",
                                    "SZALL_MOD": "NULL",
                                    "Mennyiség": "196"
                                },
                                {
                                    "SZALL_DATUM": "2016-02-11",
                                    "SZALL_MOD": "NULL",
                                    "Mennyiség": "217"
                                },
                                {
                                    "SZALL_DATUM": "2016-02-12",
                                    "SZALL_MOD": "NULL",
                                    "Mennyiség": "232"
                                },
                                {
                                    "SZALL_DATUM": "2016-02-13",
                                    "SZALL_MOD": "NULL",
                                    "Mennyiség": "195"
                                },
                                {
                                    "SZALL_DATUM": "2016-02-14",
                                    "SZALL_MOD": "NULL",
                                    "Mennyiség": "219"
                                },
                                {
                                    "SZALL_DATUM": "2016-02-15",
                                    "SZALL_MOD": "NULL",
                                    "Mennyiség": "246"
                                },
                                {
                                    "SZALL_DATUM": "2016-02-16",
                                    "SZALL_MOD": "NULL",
                                    "Mennyiség": "209"
                                },
                                {
                                    "SZALL_DATUM": "2016-02-17",
                                    "SZALL_MOD": "NULL",
                                    "Mennyiség": "250"
                                },
                                {
                                    "SZALL_DATUM": "2016-02-18",
                                    "SZALL_MOD": "NULL",
                                    "Mennyiség": "131"
                                },
                                {
                                    "SZALL_DATUM": "2016-02-19",
                                    "SZALL_MOD": "NULL",
                                    "Mennyiség": "217"
                                },
                                {
                                    "SZALL_DATUM": "2016-02-20",
                                    "SZALL_MOD": "NULL",
                                    "Mennyiség": "204"
                                },
                                {
                                    "SZALL_DATUM": "2016-02-21",
                                    "SZALL_MOD": "NULL",
                                    "Mennyiség": "206"
                                },
                                {
                                    "SZALL_DATUM": "2016-02-22",
                                    "SZALL_MOD": "NULL",
                                    "Mennyiség": "245"
                                },
                                {
                                    "SZALL_DATUM": "2016-02-23",
                                    "SZALL_MOD": "NULL",
                                    "Mennyiség": "183"
                                },
                                {
                                    "SZALL_DATUM": "2016-02-24",
                                    "SZALL_MOD": "NULL",
                                    "Mennyiség": "185"
                                },
                                {
                                    "SZALL_DATUM": "2016-02-25",
                                    "SZALL_MOD": "NULL",
                                    "Mennyiség": "188"
                                },
                                {
                                    "SZALL_DATUM": "2016-02-26",
                                    "SZALL_MOD": "NULL",
                                    "Mennyiség": "232"
                                },
                                {
                                    "SZALL_DATUM": "2016-02-27",
                                    "SZALL_MOD": "NULL",
                                    "Mennyiség": "199"
                                },
                                {
                                    "SZALL_DATUM": "2016-02-28",
                                    "SZALL_MOD": "NULL",
                                    "Mennyiség": "217"
                                },
                                {
                                    "SZALL_DATUM": "2016-02-29",
                                    "SZALL_MOD": "NULL",
                                    "Mennyiség": "223"
                                },
                                {
                                    "SZALL_DATUM": "2016-03-01",
                                    "SZALL_MOD": "NULL",
                                    "Mennyiség": "256"
                                },
                                {
                                    "SZALL_DATUM": "2016-03-02",
                                    "SZALL_MOD": "NULL",
                                    "Mennyiség": "203"
                                },
                                {
                                    "SZALL_DATUM": "2016-03-03",
                                    "SZALL_MOD": "NULL",
                                    "Mennyiség": "250"
                                },
                                {
                                    "SZALL_DATUM": "2016-03-04",
                                    "SZALL_MOD": "NULL",
                                    "Mennyiség": "220"
                                },
                                {
                                    "SZALL_DATUM": "2016-03-05",
                                    "SZALL_MOD": "NULL",
                                    "Mennyiség": "251"
                                },
                                {
                                    "SZALL_DATUM": "2016-03-06",
                                    "SZALL_MOD": "NULL",
                                    "Mennyiség": "184"
                                },
                                {
                                    "SZALL_DATUM": "2016-03-07",
                                    "SZALL_MOD": "NULL",
                                    "Mennyiség": "197"
                                },
                                {
                                    "SZALL_DATUM": "2016-03-08",
                                    "SZALL_MOD": "NULL",
                                    "Mennyiség": "159"
                                },
                                {
                                    "SZALL_DATUM": "2016-03-09",
                                    "SZALL_MOD": "NULL",
                                    "Mennyiség": "208"
                                },
                                {
                                    "SZALL_DATUM": "2016-03-10",
                                    "SZALL_MOD": "NULL",
                                    "Mennyiség": "235"
                                },
                                {
                                    "SZALL_DATUM": "2016-03-11",
                                    "SZALL_MOD": "NULL",
                                    "Mennyiség": "200"
                                },
                                {
                                    "SZALL_DATUM": "2016-03-12",
                                    "SZALL_MOD": "NULL",
                                    "Mennyiség": "260"
                                },
                                {
                                    "SZALL_DATUM": "2016-03-13",
                                    "SZALL_MOD": "NULL",
                                    "Mennyiség": "191"
                                },
                                {
                                    "SZALL_DATUM": "2016-03-14",
                                    "SZALL_MOD": "NULL",
                                    "Mennyiség": "224"
                                },
                                {
                                    "SZALL_DATUM": "2016-03-15",
                                    "SZALL_MOD": "NULL",
                                    "Mennyiség": "211"
                                },
                                {
                                    "SZALL_DATUM": "2016-03-16",
                                    "SZALL_MOD": "NULL",
                                    "Mennyiség": "169"
                                },
                                {
                                    "SZALL_DATUM": "2016-03-17",
                                    "SZALL_MOD": "NULL",
                                    "Mennyiség": "195"
                                },
                                {
                                    "SZALL_DATUM": "2016-03-18",
                                    "SZALL_MOD": "NULL",
                                    "Mennyiség": "192"
                                },
                                {
                                    "SZALL_DATUM": "2016-03-19",
                                    "SZALL_MOD": "NULL",
                                    "Mennyiség": "195"
                                },
                                {
                                    "SZALL_DATUM": "2016-03-20",
                                    "SZALL_MOD": "NULL",
                                    "Mennyiség": "308"
                                },
                                {
                                    "SZALL_DATUM": "2016-03-21",
                                    "SZALL_MOD": "NULL",
                                    "Mennyiség": "263"
                                },
                                {
                                    "SZALL_DATUM": "2016-03-22",
                                    "SZALL_MOD": "NULL",
                                    "Mennyiség": "224"
                                },
                                {
                                    "SZALL_DATUM": "2016-03-23",
                                    "SZALL_MOD": "NULL",
                                    "Mennyiség": "214"
                                },
                                {
                                    "SZALL_DATUM": "2016-03-24",
                                    "SZALL_MOD": "NULL",
                                    "Mennyiség": "199"
                                },
                                {
                                    "SZALL_DATUM": "2016-03-25",
                                    "SZALL_MOD": "NULL",
                                    "Mennyiség": "238"
                                },
                                {
                                    "SZALL_DATUM": "2016-03-26",
                                    "SZALL_MOD": "NULL",
                                    "Mennyiség": "238"
                                },
                                {
                                    "SZALL_DATUM": "2016-03-27",
                                    "SZALL_MOD": "NULL",
                                    "Mennyiség": "230"
                                },
                                {
                                    "SZALL_DATUM": "2016-03-28",
                                    "SZALL_MOD": "NULL",
                                    "Mennyiség": "174"
                                },
                                {
                                    "SZALL_DATUM": "2016-03-29",
                                    "SZALL_MOD": "NULL",
                                    "Mennyiség": "176"
                                },
                                {
                                    "SZALL_DATUM": "2016-03-30",
                                    "SZALL_MOD": "NULL",
                                    "Mennyiség": "222"
                                },
                                {
                                    "SZALL_DATUM": "2016-03-31",
                                    "SZALL_MOD": "NULL",
                                    "Mennyiség": "199"
                                },
                                {
                                    "SZALL_DATUM": "2016-04-01",
                                    "SZALL_MOD": "NULL",
                                    "Mennyiség": "227"
                                },
                                {
                                    "SZALL_DATUM": "2016-04-02",
                                    "SZALL_MOD": "NULL",
                                    "Mennyiség": "207"
                                },
                                {
                                    "SZALL_DATUM": "2016-04-03",
                                    "SZALL_MOD": "NULL",
                                    "Mennyiség": "203"
                                },
                                {
                                    "SZALL_DATUM": "2016-04-04",
                                    "SZALL_MOD": "NULL",
                                    "Mennyiség": "201"
                                },
                                {
                                    "SZALL_DATUM": "2016-04-05",
                                    "SZALL_MOD": "NULL",
                                    "Mennyiség": "216"
                                },
                                {
                                    "SZALL_DATUM": "2016-04-06",
                                    "SZALL_MOD": "NULL",
                                    "Mennyiség": "191"
                                },
                                {
                                    "SZALL_DATUM": "2016-04-07",
                                    "SZALL_MOD": "NULL",
                                    "Mennyiség": "220"
                                },
                                {
                                    "SZALL_DATUM": "2016-04-08",
                                    "SZALL_MOD": "NULL",
                                    "Mennyiség": "262"
                                },
                                {
                                    "SZALL_DATUM": "2016-04-09",
                                    "SZALL_MOD": "NULL",
                                    "Mennyiség": "257"
                                },
                                {
                                    "SZALL_DATUM": "2016-04-10",
                                    "SZALL_MOD": "NULL",
                                    "Mennyiség": "254"
                                },
                                {
                                    "SZALL_DATUM": "2016-04-11",
                                    "SZALL_MOD": "NULL",
                                    "Mennyiség": "235"
                                },
                                {
                                    "SZALL_DATUM": "2016-04-12",
                                    "SZALL_MOD": "NULL",
                                    "Mennyiség": "190"
                                },
                                {
                                    "SZALL_DATUM": "2016-04-13",
                                    "SZALL_MOD": "NULL",
                                    "Mennyiség": "190"
                                },
                                {
                                    "SZALL_DATUM": "2016-04-14",
                                    "SZALL_MOD": "NULL",
                                    "Mennyiség": "219"
                                },
                                {
                                    "SZALL_DATUM": "2016-04-15",
                                    "SZALL_MOD": "NULL",
                                    "Mennyiség": "233"
                                },
                                {
                                    "SZALL_DATUM": "2016-04-16",
                                    "SZALL_MOD": "NULL",
                                    "Mennyiség": "196"
                                },
                                {
                                    "SZALL_DATUM": "2016-04-17",
                                    "SZALL_MOD": "NULL",
                                    "Mennyiség": "266"
                                },
                                {
                                    "SZALL_DATUM": "2016-04-18",
                                    "SZALL_MOD": "NULL",
                                    "Mennyiség": "209"
                                },
                                {
                                    "SZALL_DATUM": "2016-04-19",
                                    "SZALL_MOD": "NULL",
                                    "Mennyiség": "242"
                                },
                                {
                                    "SZALL_DATUM": "2016-04-20",
                                    "SZALL_MOD": "NULL",
                                    "Mennyiség": "164"
                                },
                                {
                                    "SZALL_DATUM": "2016-04-21",
                                    "SZALL_MOD": "NULL",
                                    "Mennyiség": "172"
                                },
                                {
                                    "SZALL_DATUM": "2016-04-22",
                                    "SZALL_MOD": "NULL",
                                    "Mennyiség": "141"
                                },
                                {
                                    "SZALL_DATUM": "2016-04-23",
                                    "SZALL_MOD": "NULL",
                                    "Mennyiség": "189"
                                },
                                {
                                    "SZALL_DATUM": "2016-04-24",
                                    "SZALL_MOD": "NULL",
                                    "Mennyiség": "252"
                                },
                                {
                                    "SZALL_DATUM": "2016-04-25",
                                    "SZALL_MOD": "NULL",
                                    "Mennyiség": "272"
                                },
                                {
                                    "SZALL_DATUM": "2016-04-26",
                                    "SZALL_MOD": "NULL",
                                    "Mennyiség": "236"
                                },
                                {
                                    "SZALL_DATUM": "2016-04-27",
                                    "SZALL_MOD": "NULL",
                                    "Mennyiség": "210"
                                },
                                {
                                    "SZALL_DATUM": "2016-04-28",
                                    "SZALL_MOD": "NULL",
                                    "Mennyiség": "191"
                                },
                                {
                                    "SZALL_DATUM": "2016-04-29",
                                    "SZALL_MOD": "NULL",
                                    "Mennyiség": "223"
                                },
                                {
                                    "SZALL_DATUM": "2016-04-30",
                                    "SZALL_MOD": "NULL",
                                    "Mennyiség": "196"
                                },
                                {
                                    "SZALL_DATUM": "2016-05-01",
                                    "SZALL_MOD": "NULL",
                                    "Mennyiség": "182"
                                },
                                {
                                    "SZALL_DATUM": "2016-05-02",
                                    "SZALL_MOD": "NULL",
                                    "Mennyiség": "220"
                                },
                                {
                                    "SZALL_DATUM": "2016-05-03",
                                    "SZALL_MOD": "NULL",
                                    "Mennyiség": "153"
                                },
                                {
                                    "SZALL_DATUM": "2016-05-04",
                                    "SZALL_MOD": "NULL",
                                    "Mennyiség": "254"
                                },
                                {
                                    "SZALL_DATUM": "2016-05-05",
                                    "SZALL_MOD": "NULL",
                                    "Mennyiség": "212"
                                },
                                {
                                    "SZALL_DATUM": "2016-05-06",
                                    "SZALL_MOD": "NULL",
                                    "Mennyiség": "224"
                                },
                                {
                                    "SZALL_DATUM": "2016-05-07",
                                    "SZALL_MOD": "NULL",
                                    "Mennyiség": "210"
                                },
                                {
                                    "SZALL_DATUM": "2016-05-08",
                                    "SZALL_MOD": "NULL",
                                    "Mennyiség": "232"
                                },
                                {
                                    "SZALL_DATUM": "2016-05-09",
                                    "SZALL_MOD": "NULL",
                                    "Mennyiség": "269"
                                },
                                {
                                    "SZALL_DATUM": "2016-05-10",
                                    "SZALL_MOD": "NULL",
                                    "Mennyiség": "211"
                                },
                                {
                                    "SZALL_DATUM": "2016-05-11",
                                    "SZALL_MOD": "NULL",
                                    "Mennyiség": "214"
                                },
                                {
                                    "SZALL_DATUM": "2016-05-12",
                                    "SZALL_MOD": "NULL",
                                    "Mennyiség": "234"
                                },
                                {
                                    "SZALL_DATUM": "2016-05-13",
                                    "SZALL_MOD": "NULL",
                                    "Mennyiség": "183"
                                },
                                {
                                    "SZALL_DATUM": "2016-05-14",
                                    "SZALL_MOD": "NULL",
                                    "Mennyiség": "188"
                                },
                                {
                                    "SZALL_DATUM": "2016-05-15",
                                    "SZALL_MOD": "NULL",
                                    "Mennyiség": "144"
                                },
                                {
                                    "SZALL_DATUM": "2016-05-16",
                                    "SZALL_MOD": "NULL",
                                    "Mennyiség": "198"
                                },
                                {
                                    "SZALL_DATUM": "2016-05-17",
                                    "SZALL_MOD": "NULL",
                                    "Mennyiség": "223"
                                },
                                {
                                    "SZALL_DATUM": "2016-05-18",
                                    "SZALL_MOD": "NULL",
                                    "Mennyiség": "177"
                                },
                                {
                                    "SZALL_DATUM": "2016-05-19",
                                    "SZALL_MOD": "NULL",
                                    "Mennyiség": "211"
                                },
                                {
                                    "SZALL_DATUM": "2016-05-20",
                                    "SZALL_MOD": "NULL",
                                    "Mennyiség": "207"
                                },
                                {
                                    "SZALL_DATUM": "2016-05-21",
                                    "SZALL_MOD": "NULL",
                                    "Mennyiség": "209"
                                },
                                {
                                    "SZALL_DATUM": "2016-05-22",
                                    "SZALL_MOD": "NULL",
                                    "Mennyiség": "160"
                                },
                                {
                                    "SZALL_DATUM": "2016-05-23",
                                    "SZALL_MOD": "NULL",
                                    "Mennyiség": "208"
                                },
                                {
                                    "SZALL_DATUM": "2016-05-24",
                                    "SZALL_MOD": "NULL",
                                    "Mennyiség": "211"
                                },
                                {
                                    "SZALL_DATUM": "2016-05-25",
                                    "SZALL_MOD": "NULL",
                                    "Mennyiség": "230"
                                },
                                {
                                    "SZALL_DATUM": "2016-05-26",
                                    "SZALL_MOD": "NULL",
                                    "Mennyiség": "141"
                                },
                                {
                                    "SZALL_DATUM": "2016-05-27",
                                    "SZALL_MOD": "NULL",
                                    "Mennyiség": "234"
                                },
                                {
                                    "SZALL_DATUM": "2016-05-28",
                                    "SZALL_MOD": "NULL",
                                    "Mennyiség": "155"
                                },
                                {
                                    "SZALL_DATUM": "2016-05-29",
                                    "SZALL_MOD": "NULL",
                                    "Mennyiség": "216"
                                },
                                {
                                    "SZALL_DATUM": "2016-05-30",
                                    "SZALL_MOD": "NULL",
                                    "Mennyiség": "187"
                                },
                                {
                                    "SZALL_DATUM": "2016-05-31",
                                    "SZALL_MOD": "NULL",
                                    "Mennyiség": "242"
                                },
                                {
                                    "SZALL_DATUM": "2016-06-01",
                                    "SZALL_MOD": "NULL",
                                    "Mennyiség": "212"
                                },
                                {
                                    "SZALL_DATUM": "2016-06-02",
                                    "SZALL_MOD": "NULL",
                                    "Mennyiség": "201"
                                },
                                {
                                    "SZALL_DATUM": "2016-06-03",
                                    "SZALL_MOD": "NULL",
                                    "Mennyiség": "190"
                                },
                                {
                                    "SZALL_DATUM": "2016-06-04",
                                    "SZALL_MOD": "NULL",
                                    "Mennyiség": "212"
                                },
                                {
                                    "SZALL_DATUM": "2016-06-05",
                                    "SZALL_MOD": "NULL",
                                    "Mennyiség": "172"
                                },
                                {
                                    "SZALL_DATUM": "2016-06-06",
                                    "SZALL_MOD": "NULL",
                                    "Mennyiség": "231"
                                },
                                {
                                    "SZALL_DATUM": "2016-06-07",
                                    "SZALL_MOD": "NULL",
                                    "Mennyiség": "227"
                                },
                                {
                                    "SZALL_DATUM": "2016-06-08",
                                    "SZALL_MOD": "NULL",
                                    "Mennyiség": "218"
                                },
                                {
                                    "SZALL_DATUM": "2016-06-09",
                                    "SZALL_MOD": "NULL",
                                    "Mennyiség": "211"
                                },
                                {
                                    "SZALL_DATUM": "2016-06-10",
                                    "SZALL_MOD": "NULL",
                                    "Mennyiség": "229"
                                },
                                {
                                    "SZALL_DATUM": "2016-06-11",
                                    "SZALL_MOD": "NULL",
                                    "Mennyiség": "260"
                                },
                                {
                                    "SZALL_DATUM": "2016-06-12",
                                    "SZALL_MOD": "NULL",
                                    "Mennyiség": "222"
                                },
                                {
                                    "SZALL_DATUM": "2016-06-13",
                                    "SZALL_MOD": "NULL",
                                    "Mennyiség": "170"
                                },
                                {
                                    "SZALL_DATUM": "2016-06-14",
                                    "SZALL_MOD": "NULL",
                                    "Mennyiség": "205"
                                },
                                {
                                    "SZALL_DATUM": "2016-06-15",
                                    "SZALL_MOD": "NULL",
                                    "Mennyiség": "242"
                                },
                                {
                                    "SZALL_DATUM": "2016-06-16",
                                    "SZALL_MOD": "NULL",
                                    "Mennyiség": "168"
                                },
                                {
                                    "SZALL_DATUM": "2016-06-17",
                                    "SZALL_MOD": "NULL",
                                    "Mennyiség": "232"
                                },
                                {
                                    "SZALL_DATUM": "2016-06-18",
                                    "SZALL_MOD": "NULL",
                                    "Mennyiség": "164"
                                },
                                {
                                    "SZALL_DATUM": "2016-06-19",
                                    "SZALL_MOD": "NULL",
                                    "Mennyiség": "240"
                                },
                                {
                                    "SZALL_DATUM": "2016-06-20",
                                    "SZALL_MOD": "NULL",
                                    "Mennyiség": "204"
                                },
                                {
                                    "SZALL_DATUM": "2016-06-21",
                                    "SZALL_MOD": "NULL",
                                    "Mennyiség": "171"
                                },
                                {
                                    "SZALL_DATUM": "2016-06-22",
                                    "SZALL_MOD": "NULL",
                                    "Mennyiség": "190"
                                },
                                {
                                    "SZALL_DATUM": "2016-06-23",
                                    "SZALL_MOD": "NULL",
                                    "Mennyiség": "195"
                                },
                                {
                                    "SZALL_DATUM": "2016-06-24",
                                    "SZALL_MOD": "NULL",
                                    "Mennyiség": "224"
                                },
                                {
                                    "SZALL_DATUM": "2016-06-25",
                                    "SZALL_MOD": "NULL",
                                    "Mennyiség": "215"
                                },
                                {
                                    "SZALL_DATUM": "2016-06-26",
                                    "SZALL_MOD": "NULL",
                                    "Mennyiség": "252"
                                },
                                {
                                    "SZALL_DATUM": "2016-06-27",
                                    "SZALL_MOD": "NULL",
                                    "Mennyiség": "165"
                                },
                                {
                                    "SZALL_DATUM": "2016-06-28",
                                    "SZALL_MOD": "NULL",
                                    "Mennyiség": "229"
                                },
                                {
                                    "SZALL_DATUM": "2016-06-29",
                                    "SZALL_MOD": "NULL",
                                    "Mennyiség": "218"
                                },
                                {
                                    "SZALL_DATUM": "2016-06-30",
                                    "SZALL_MOD": "NULL",
                                    "Mennyiség": "217"
                                },
                                {
                                    "SZALL_DATUM": "2016-07-01",
                                    "SZALL_MOD": "NULL",
                                    "Mennyiség": "203"
                                },
                                {
                                    "SZALL_DATUM": "2016-07-02",
                                    "SZALL_MOD": "NULL",
                                    "Mennyiség": "202"
                                },
                                {
                                    "SZALL_DATUM": "2016-07-03",
                                    "SZALL_MOD": "NULL",
                                    "Mennyiség": "227"
                                },
                                {
                                    "SZALL_DATUM": "2016-07-04",
                                    "SZALL_MOD": "NULL",
                                    "Mennyiség": "282"
                                },
                                {
                                    "SZALL_DATUM": "2016-07-05",
                                    "SZALL_MOD": "NULL",
                                    "Mennyiség": "200"
                                },
                                {
                                    "SZALL_DATUM": "2016-07-06",
                                    "SZALL_MOD": "NULL",
                                    "Mennyiség": "200"
                                },
                                {
                                    "SZALL_DATUM": "2016-07-07",
                                    "SZALL_MOD": "NULL",
                                    "Mennyiség": "143"
                                },
                                {
                                    "SZALL_DATUM": "2016-07-08",
                                    "SZALL_MOD": "NULL",
                                    "Mennyiség": "196"
                                },
                                {
                                    "SZALL_DATUM": "2016-07-09",
                                    "SZALL_MOD": "NULL",
                                    "Mennyiség": "222"
                                },
                                {
                                    "SZALL_DATUM": "2016-07-10",
                                    "SZALL_MOD": "NULL",
                                    "Mennyiség": "200"
                                },
                                {
                                    "SZALL_DATUM": "2016-07-11",
                                    "SZALL_MOD": "NULL",
                                    "Mennyiség": "248"
                                },
                                {
                                    "SZALL_DATUM": "2016-07-12",
                                    "SZALL_MOD": "NULL",
                                    "Mennyiség": "224"
                                },
                                {
                                    "SZALL_DATUM": "2016-07-13",
                                    "SZALL_MOD": "NULL",
                                    "Mennyiség": "229"
                                },
                                {
                                    "SZALL_DATUM": "2016-07-14",
                                    "SZALL_MOD": "NULL",
                                    "Mennyiség": "179"
                                },
                                {
                                    "SZALL_DATUM": "2016-07-15",
                                    "SZALL_MOD": "NULL",
                                    "Mennyiség": "195"
                                },
                                {
                                    "SZALL_DATUM": "2016-07-16",
                                    "SZALL_MOD": "NULL",
                                    "Mennyiség": "196"
                                },
                                {
                                    "SZALL_DATUM": "2016-07-17",
                                    "SZALL_MOD": "NULL",
                                    "Mennyiség": "166"
                                },
                                {
                                    "SZALL_DATUM": "2016-07-18",
                                    "SZALL_MOD": "NULL",
                                    "Mennyiség": "185"
                                },
                                {
                                    "SZALL_DATUM": "2016-07-19",
                                    "SZALL_MOD": "NULL",
                                    "Mennyiség": "267"
                                },
                                {
                                    "SZALL_DATUM": "2016-07-20",
                                    "SZALL_MOD": "NULL",
                                    "Mennyiség": "199"
                                },
                                {
                                    "SZALL_DATUM": "2016-07-21",
                                    "SZALL_MOD": "NULL",
                                    "Mennyiség": "224"
                                },
                                {
                                    "SZALL_DATUM": "2016-07-22",
                                    "SZALL_MOD": "NULL",
                                    "Mennyiség": "206"
                                },
                                {
                                    "SZALL_DATUM": "2016-07-23",
                                    "SZALL_MOD": "NULL",
                                    "Mennyiség": "162"
                                },
                                {
                                    "SZALL_DATUM": "2016-07-24",
                                    "SZALL_MOD": "NULL",
                                    "Mennyiség": "178"
                                },
                                {
                                    "SZALL_DATUM": "2016-07-25",
                                    "SZALL_MOD": "NULL",
                                    "Mennyiség": "173"
                                },
                                {
                                    "SZALL_DATUM": "2016-07-26",
                                    "SZALL_MOD": "NULL",
                                    "Mennyiség": "202"
                                },
                                {
                                    "SZALL_DATUM": "2016-07-27",
                                    "SZALL_MOD": "NULL",
                                    "Mennyiség": "220"
                                },
                                {
                                    "SZALL_DATUM": "2016-07-28",
                                    "SZALL_MOD": "NULL",
                                    "Mennyiség": "172"
                                },
                                {
                                    "SZALL_DATUM": "2016-07-29",
                                    "SZALL_MOD": "NULL",
                                    "Mennyiség": "228"
                                },
                                {
                                    "SZALL_DATUM": "2016-07-30",
                                    "SZALL_MOD": "NULL",
                                    "Mennyiség": "172"
                                },
                                {
                                    "SZALL_DATUM": "2016-07-31",
                                    "SZALL_MOD": "NULL",
                                    "Mennyiség": "263"
                                },
                                {
                                    "SZALL_DATUM": "2016-08-01",
                                    "SZALL_MOD": "NULL",
                                    "Mennyiség": "218"
                                },
                                {
                                    "SZALL_DATUM": "2016-08-02",
                                    "SZALL_MOD": "NULL",
                                    "Mennyiség": "181"
                                },
                                {
                                    "SZALL_DATUM": "2016-08-03",
                                    "SZALL_MOD": "NULL",
                                    "Mennyiség": "200"
                                },
                                {
                                    "SZALL_DATUM": "2016-08-04",
                                    "SZALL_MOD": "NULL",
                                    "Mennyiség": "191"
                                },
                                {
                                    "SZALL_DATUM": "2016-08-05",
                                    "SZALL_MOD": "NULL",
                                    "Mennyiség": "220"
                                },
                                {
                                    "SZALL_DATUM": "2016-08-06",
                                    "SZALL_MOD": "NULL",
                                    "Mennyiség": "193"
                                },
                                {
                                    "SZALL_DATUM": "2016-08-07",
                                    "SZALL_MOD": "NULL",
                                    "Mennyiség": "180"
                                },
                                {
                                    "SZALL_DATUM": "2016-08-08",
                                    "SZALL_MOD": "NULL",
                                    "Mennyiség": "179"
                                },
                                {
                                    "SZALL_DATUM": "2016-08-09",
                                    "SZALL_MOD": "NULL",
                                    "Mennyiség": "244"
                                },
                                {
                                    "SZALL_DATUM": "2016-08-10",
                                    "SZALL_MOD": "NULL",
                                    "Mennyiség": "219"
                                },
                                {
                                    "SZALL_DATUM": "2016-08-11",
                                    "SZALL_MOD": "NULL",
                                    "Mennyiség": "204"
                                },
                                {
                                    "SZALL_DATUM": "2016-08-12",
                                    "SZALL_MOD": "NULL",
                                    "Mennyiség": "234"
                                },
                                {
                                    "SZALL_DATUM": "2016-08-13",
                                    "SZALL_MOD": "NULL",
                                    "Mennyiség": "265"
                                },
                                {
                                    "SZALL_DATUM": "2016-08-14",
                                    "SZALL_MOD": "NULL",
                                    "Mennyiség": "226"
                                },
                                {
                                    "SZALL_DATUM": "2016-08-15",
                                    "SZALL_MOD": "NULL",
                                    "Mennyiség": "280"
                                },
                                {
                                    "SZALL_DATUM": "2016-08-16",
                                    "SZALL_MOD": "NULL",
                                    "Mennyiség": "177"
                                },
                                {
                                    "SZALL_DATUM": "2016-08-17",
                                    "SZALL_MOD": "NULL",
                                    "Mennyiség": "204"
                                },
                                {
                                    "SZALL_DATUM": "2016-08-18",
                                    "SZALL_MOD": "NULL",
                                    "Mennyiség": "194"
                                },
                                {
                                    "SZALL_DATUM": "2016-08-19",
                                    "SZALL_MOD": "NULL",
                                    "Mennyiség": "184"
                                },
                                {
                                    "SZALL_DATUM": "2016-08-20",
                                    "SZALL_MOD": "NULL",
                                    "Mennyiség": "220"
                                },
                                {
                                    "SZALL_DATUM": "2016-08-21",
                                    "SZALL_MOD": "NULL",
                                    "Mennyiség": "203"
                                },
                                {
                                    "SZALL_DATUM": "2016-08-22",
                                    "SZALL_MOD": "NULL",
                                    "Mennyiség": "153"
                                },
                                {
                                    "SZALL_DATUM": "2016-08-23",
                                    "SZALL_MOD": "NULL",
                                    "Mennyiség": "194"
                                },
                                {
                                    "SZALL_DATUM": "2016-08-24",
                                    "SZALL_MOD": "NULL",
                                    "Mennyiség": "259"
                                },
                                {
                                    "SZALL_DATUM": "2016-08-25",
                                    "SZALL_MOD": "NULL",
                                    "Mennyiség": "218"
                                },
                                {
                                    "SZALL_DATUM": "2016-08-26",
                                    "SZALL_MOD": "NULL",
                                    "Mennyiség": "214"
                                },
                                {
                                    "SZALL_DATUM": "2016-08-27",
                                    "SZALL_MOD": "NULL",
                                    "Mennyiség": "249"
                                },
                                {
                                    "SZALL_DATUM": "2016-08-28",
                                    "SZALL_MOD": "NULL",
                                    "Mennyiség": "250"
                                },
                                {
                                    "SZALL_DATUM": "2016-08-29",
                                    "SZALL_MOD": "NULL",
                                    "Mennyiség": "180"
                                },
                                {
                                    "SZALL_DATUM": "2016-08-30",
                                    "SZALL_MOD": "NULL",
                                    "Mennyiség": "141"
                                },
                                {
                                    "SZALL_DATUM": "2016-08-31",
                                    "SZALL_MOD": "NULL",
                                    "Mennyiség": "175"
                                },
                                {
                                    "SZALL_DATUM": "2016-09-01",
                                    "SZALL_MOD": "NULL",
                                    "Mennyiség": "171"
                                },
                                {
                                    "SZALL_DATUM": "2016-09-02",
                                    "SZALL_MOD": "NULL",
                                    "Mennyiség": "231"
                                },
                                {
                                    "SZALL_DATUM": "2016-09-03",
                                    "SZALL_MOD": "NULL",
                                    "Mennyiség": "234"
                                },
                                {
                                    "SZALL_DATUM": "2016-09-04",
                                    "SZALL_MOD": "NULL",
                                    "Mennyiség": "251"
                                },
                                {
                                    "SZALL_DATUM": "2016-09-05",
                                    "SZALL_MOD": "NULL",
                                    "Mennyiség": "204"
                                },
                                {
                                    "SZALL_DATUM": "2016-09-06",
                                    "SZALL_MOD": "NULL",
                                    "Mennyiség": "247"
                                },
                                {
                                    "SZALL_DATUM": "2016-09-07",
                                    "SZALL_MOD": "NULL",
                                    "Mennyiség": "239"
                                },
                                {
                                    "SZALL_DATUM": "2016-09-08",
                                    "SZALL_MOD": "NULL",
                                    "Mennyiség": "224"
                                },
                                {
                                    "SZALL_DATUM": "2016-09-09",
                                    "SZALL_MOD": "NULL",
                                    "Mennyiség": "213"
                                },
                                {
                                    "SZALL_DATUM": "2016-09-10",
                                    "SZALL_MOD": "NULL",
                                    "Mennyiség": "196"
                                },
                                {
                                    "SZALL_DATUM": "2016-09-11",
                                    "SZALL_MOD": "NULL",
                                    "Mennyiség": "247"
                                },
                                {
                                    "SZALL_DATUM": "2016-09-12",
                                    "SZALL_MOD": "NULL",
                                    "Mennyiség": "160"
                                },
                                {
                                    "SZALL_DATUM": "2016-09-13",
                                    "SZALL_MOD": "NULL",
                                    "Mennyiség": "214"
                                },
                                {
                                    "SZALL_DATUM": "2016-09-14",
                                    "SZALL_MOD": "NULL",
                                    "Mennyiség": "249"
                                },
                                {
                                    "SZALL_DATUM": "2016-09-15",
                                    "SZALL_MOD": "NULL",
                                    "Mennyiség": "261"
                                },
                                {
                                    "SZALL_DATUM": "2016-09-16",
                                    "SZALL_MOD": "NULL",
                                    "Mennyiség": "190"
                                },
                                {
                                    "SZALL_DATUM": "2016-09-17",
                                    "SZALL_MOD": "NULL",
                                    "Mennyiség": "194"
                                },
                                {
                                    "SZALL_DATUM": "2016-09-18",
                                    "SZALL_MOD": "NULL",
                                    "Mennyiség": "257"
                                },
                                {
                                    "SZALL_DATUM": "2016-09-19",
                                    "SZALL_MOD": "NULL",
                                    "Mennyiség": "163"
                                },
                                {
                                    "SZALL_DATUM": "2016-09-20",
                                    "SZALL_MOD": "NULL",
                                    "Mennyiség": "213"
                                },
                                {
                                    "SZALL_DATUM": "2016-09-21",
                                    "SZALL_MOD": "NULL",
                                    "Mennyiség": "134"
                                },
                                {
                                    "SZALL_DATUM": "2016-09-22",
                                    "SZALL_MOD": "NULL",
                                    "Mennyiség": "176"
                                },
                                {
                                    "SZALL_DATUM": "2016-09-23",
                                    "SZALL_MOD": "NULL",
                                    "Mennyiség": "185"
                                },
                                {
                                    "SZALL_DATUM": "2016-09-24",
                                    "SZALL_MOD": "NULL",
                                    "Mennyiség": "176"
                                },
                                {
                                    "SZALL_DATUM": "2016-09-25",
                                    "SZALL_MOD": "NULL",
                                    "Mennyiség": "192"
                                },
                                {
                                    "SZALL_DATUM": "2016-09-26",
                                    "SZALL_MOD": "NULL",
                                    "Mennyiség": "202"
                                },
                                {
                                    "SZALL_DATUM": "2016-09-27",
                                    "SZALL_MOD": "NULL",
                                    "Mennyiség": "244"
                                },
                                {
                                    "SZALL_DATUM": "2016-09-28",
                                    "SZALL_MOD": "NULL",
                                    "Mennyiség": "220"
                                },
                                {
                                    "SZALL_DATUM": "2016-09-29",
                                    "SZALL_MOD": "NULL",
                                    "Mennyiség": "160"
                                },
                                {
                                    "SZALL_DATUM": "2016-09-30",
                                    "SZALL_MOD": "NULL",
                                    "Mennyiség": "257"
                                },
                                {
                                    "SZALL_DATUM": "2016-10-01",
                                    "SZALL_MOD": "NULL",
                                    "Mennyiség": "215"
                                },
                                {
                                    "SZALL_DATUM": "2016-10-02",
                                    "SZALL_MOD": "NULL",
                                    "Mennyiség": "204"
                                },
                                {
                                    "SZALL_DATUM": "2016-10-03",
                                    "SZALL_MOD": "NULL",
                                    "Mennyiség": "189"
                                },
                                {
                                    "SZALL_DATUM": "2016-10-04",
                                    "SZALL_MOD": "NULL",
                                    "Mennyiség": "191"
                                },
                                {
                                    "SZALL_DATUM": "2016-10-05",
                                    "SZALL_MOD": "NULL",
                                    "Mennyiség": "232"
                                },
                                {
                                    "SZALL_DATUM": "2016-10-06",
                                    "SZALL_MOD": "NULL",
                                    "Mennyiség": "198"
                                },
                                {
                                    "SZALL_DATUM": "2016-10-07",
                                    "SZALL_MOD": "NULL",
                                    "Mennyiség": "183"
                                },
                                {
                                    "SZALL_DATUM": "2016-10-08",
                                    "SZALL_MOD": "NULL",
                                    "Mennyiség": "212"
                                },
                                {
                                    "SZALL_DATUM": "2016-10-09",
                                    "SZALL_MOD": "NULL",
                                    "Mennyiség": "241"
                                },
                                {
                                    "SZALL_DATUM": "2016-10-10",
                                    "SZALL_MOD": "NULL",
                                    "Mennyiség": "188"
                                },
                                {
                                    "SZALL_DATUM": "2016-10-11",
                                    "SZALL_MOD": "NULL",
                                    "Mennyiség": "227"
                                },
                                {
                                    "SZALL_DATUM": "2016-10-12",
                                    "SZALL_MOD": "NULL",
                                    "Mennyiség": "265"
                                },
                                {
                                    "SZALL_DATUM": "2016-10-13",
                                    "SZALL_MOD": "NULL",
                                    "Mennyiség": "247"
                                },
                                {
                                    "SZALL_DATUM": "2016-10-14",
                                    "SZALL_MOD": "NULL",
                                    "Mennyiség": "188"
                                },
                                {
                                    "SZALL_DATUM": "2016-10-15",
                                    "SZALL_MOD": "NULL",
                                    "Mennyiség": "237"
                                },
                                {
                                    "SZALL_DATUM": "2016-10-16",
                                    "SZALL_MOD": "NULL",
                                    "Mennyiség": "190"
                                },
                                {
                                    "SZALL_DATUM": "2016-10-17",
                                    "SZALL_MOD": "NULL",
                                    "Mennyiség": "286"
                                },
                                {
                                    "SZALL_DATUM": "2016-10-18",
                                    "SZALL_MOD": "NULL",
                                    "Mennyiség": "187"
                                },
                                {
                                    "SZALL_DATUM": "2016-10-19",
                                    "SZALL_MOD": "NULL",
                                    "Mennyiség": "234"
                                },
                                {
                                    "SZALL_DATUM": "2016-10-20",
                                    "SZALL_MOD": "NULL",
                                    "Mennyiség": "173"
                                },
                                {
                                    "SZALL_DATUM": "2016-10-21",
                                    "SZALL_MOD": "NULL",
                                    "Mennyiség": "258"
                                },
                                {
                                    "SZALL_DATUM": "2016-10-22",
                                    "SZALL_MOD": "NULL",
                                    "Mennyiség": "243"
                                },
                                {
                                    "SZALL_DATUM": "2016-10-23",
                                    "SZALL_MOD": "NULL",
                                    "Mennyiség": "228"
                                },
                                {
                                    "SZALL_DATUM": "2016-10-24",
                                    "SZALL_MOD": "NULL",
                                    "Mennyiség": "141"
                                },
                                {
                                    "SZALL_DATUM": "2016-10-25",
                                    "SZALL_MOD": "NULL",
                                    "Mennyiség": "285"
                                },
                                {
                                    "SZALL_DATUM": "2016-10-26",
                                    "SZALL_MOD": "NULL",
                                    "Mennyiség": "185"
                                },
                                {
                                    "SZALL_DATUM": "2016-10-27",
                                    "SZALL_MOD": "NULL",
                                    "Mennyiség": "208"
                                },
                                {
                                    "SZALL_DATUM": "2016-10-28",
                                    "SZALL_MOD": "NULL",
                                    "Mennyiség": "202"
                                },
                                {
                                    "SZALL_DATUM": "2016-10-29",
                                    "SZALL_MOD": "NULL",
                                    "Mennyiség": "184"
                                },
                                {
                                    "SZALL_DATUM": "2016-10-30",
                                    "SZALL_MOD": "NULL",
                                    "Mennyiség": "282"
                                },
                                {
                                    "SZALL_DATUM": "2016-10-31",
                                    "SZALL_MOD": "NULL",
                                    "Mennyiség": "242"
                                },
                                {
                                    "SZALL_DATUM": "2016-11-01",
                                    "SZALL_MOD": "NULL",
                                    "Mennyiség": "198"
                                },
                                {
                                    "SZALL_DATUM": "2016-11-02",
                                    "SZALL_MOD": "NULL",
                                    "Mennyiség": "173"
                                },
                                {
                                    "SZALL_DATUM": "2016-11-03",
                                    "SZALL_MOD": "NULL",
                                    "Mennyiség": "193"
                                },
                                {
                                    "SZALL_DATUM": "2016-11-04",
                                    "SZALL_MOD": "NULL",
                                    "Mennyiség": "173"
                                },
                                {
                                    "SZALL_DATUM": "2016-11-05",
                                    "SZALL_MOD": "NULL",
                                    "Mennyiség": "227"
                                },
                                {
                                    "SZALL_DATUM": "2016-11-06",
                                    "SZALL_MOD": "NULL",
                                    "Mennyiség": "220"
                                },
                                {
                                    "SZALL_DATUM": "2016-11-07",
                                    "SZALL_MOD": "NULL",
                                    "Mennyiség": "174"
                                },
                                {
                                    "SZALL_DATUM": "2016-11-08",
                                    "SZALL_MOD": "NULL",
                                    "Mennyiség": "215"
                                },
                                {
                                    "SZALL_DATUM": "2016-11-09",
                                    "SZALL_MOD": "NULL",
                                    "Mennyiség": "160"
                                },
                                {
                                    "SZALL_DATUM": "2016-11-10",
                                    "SZALL_MOD": "NULL",
                                    "Mennyiség": "193"
                                },
                                {
                                    "SZALL_DATUM": "2016-11-11",
                                    "SZALL_MOD": "NULL",
                                    "Mennyiség": "182"
                                },
                                {
                                    "SZALL_DATUM": "2016-11-12",
                                    "SZALL_MOD": "NULL",
                                    "Mennyiség": "268"
                                },
                                {
                                    "SZALL_DATUM": "2016-11-13",
                                    "SZALL_MOD": "NULL",
                                    "Mennyiség": "255"
                                },
                                {
                                    "SZALL_DATUM": "2016-11-14",
                                    "SZALL_MOD": "NULL",
                                    "Mennyiség": "278"
                                },
                                {
                                    "SZALL_DATUM": "2016-11-15",
                                    "SZALL_MOD": "NULL",
                                    "Mennyiség": "179"
                                },
                                {
                                    "SZALL_DATUM": "2016-11-16",
                                    "SZALL_MOD": "NULL",
                                    "Mennyiség": "243"
                                },
                                {
                                    "SZALL_DATUM": "2016-11-17",
                                    "SZALL_MOD": "NULL",
                                    "Mennyiség": "189"
                                },
                                {
                                    "SZALL_DATUM": "2016-11-18",
                                    "SZALL_MOD": "NULL",
                                    "Mennyiség": "197"
                                },
                                {
                                    "SZALL_DATUM": "2016-11-19",
                                    "SZALL_MOD": "NULL",
                                    "Mennyiség": "196"
                                },
                                {
                                    "SZALL_DATUM": "2016-11-20",
                                    "SZALL_MOD": "NULL",
                                    "Mennyiség": "207"
                                },
                                {
                                    "SZALL_DATUM": "2016-11-21",
                                    "SZALL_MOD": "NULL",
                                    "Mennyiség": "188"
                                },
                                {
                                    "SZALL_DATUM": "2016-11-22",
                                    "SZALL_MOD": "NULL",
                                    "Mennyiség": "193"
                                },
                                {
                                    "SZALL_DATUM": "2016-11-23",
                                    "SZALL_MOD": "NULL",
                                    "Mennyiség": "170"
                                },
                                {
                                    "SZALL_DATUM": "2016-11-24",
                                    "SZALL_MOD": "NULL",
                                    "Mennyiség": "190"
                                },
                                {
                                    "SZALL_DATUM": "2016-11-25",
                                    "SZALL_MOD": "NULL",
                                    "Mennyiség": "178"
                                },
                                {
                                    "SZALL_DATUM": "2016-11-26",
                                    "SZALL_MOD": "NULL",
                                    "Mennyiség": "251"
                                },
                                {
                                    "SZALL_DATUM": "2016-11-27",
                                    "SZALL_MOD": "NULL",
                                    "Mennyiség": "243"
                                },
                                {
                                    "SZALL_DATUM": "2016-11-28",
                                    "SZALL_MOD": "NULL",
                                    "Mennyiség": "244"
                                },
                                {
                                    "SZALL_DATUM": "2016-11-29",
                                    "SZALL_MOD": "NULL",
                                    "Mennyiség": "230"
                                },
                                {
                                    "SZALL_DATUM": "2016-11-30",
                                    "SZALL_MOD": "NULL",
                                    "Mennyiség": "165"
                                },
                                {
                                    "SZALL_DATUM": "2016-12-01",
                                    "SZALL_MOD": "NULL",
                                    "Mennyiség": "258"
                                },
                                {
                                    "SZALL_DATUM": "2016-12-02",
                                    "SZALL_MOD": "NULL",
                                    "Mennyiség": "158"
                                },
                                {
                                    "SZALL_DATUM": "2016-12-03",
                                    "SZALL_MOD": "NULL",
                                    "Mennyiség": "167"
                                },
                                {
                                    "SZALL_DATUM": "2016-12-04",
                                    "SZALL_MOD": "NULL",
                                    "Mennyiség": "248"
                                },
                                {
                                    "SZALL_DATUM": "2016-12-05",
                                    "SZALL_MOD": "NULL",
                                    "Mennyiség": "215"
                                },
                                {
                                    "SZALL_DATUM": "2016-12-06",
                                    "SZALL_MOD": "NULL",
                                    "Mennyiség": "190"
                                },
                                {
                                    "SZALL_DATUM": "2016-12-07",
                                    "SZALL_MOD": "NULL",
                                    "Mennyiség": "205"
                                },
                                {
                                    "SZALL_DATUM": "2016-12-08",
                                    "SZALL_MOD": "NULL",
                                    "Mennyiség": "222"
                                },
                                {
                                    "SZALL_DATUM": "2016-12-09",
                                    "SZALL_MOD": "NULL",
                                    "Mennyiség": "229"
                                },
                                {
                                    "SZALL_DATUM": "2016-12-10",
                                    "SZALL_MOD": "NULL",
                                    "Mennyiség": "223"
                                },
                                {
                                    "SZALL_DATUM": "2016-12-11",
                                    "SZALL_MOD": "NULL",
                                    "Mennyiség": "207"
                                },
                                {
                                    "SZALL_DATUM": "2016-12-12",
                                    "SZALL_MOD": "NULL",
                                    "Mennyiség": "207"
                                },
                                {
                                    "SZALL_DATUM": "2016-12-13",
                                    "SZALL_MOD": "NULL",
                                    "Mennyiség": "220"
                                },
                                {
                                    "SZALL_DATUM": "2016-12-14",
                                    "SZALL_MOD": "NULL",
                                    "Mennyiség": "196"
                                },
                                {
                                    "SZALL_DATUM": "2016-12-15",
                                    "SZALL_MOD": "NULL",
                                    "Mennyiség": "178"
                                },
                                {
                                    "SZALL_DATUM": "2016-12-16",
                                    "SZALL_MOD": "NULL",
                                    "Mennyiség": "174"
                                },
                                {
                                    "SZALL_DATUM": "2016-12-17",
                                    "SZALL_MOD": "NULL",
                                    "Mennyiség": "198"
                                },
                                {
                                    "SZALL_DATUM": "2016-12-18",
                                    "SZALL_MOD": "NULL",
                                    "Mennyiség": "156"
                                },
                                {
                                    "SZALL_DATUM": "2016-12-19",
                                    "SZALL_MOD": "NULL",
                                    "Mennyiség": "147"
                                },
                                {
                                    "SZALL_DATUM": "2016-12-20",
                                    "SZALL_MOD": "NULL",
                                    "Mennyiség": "210"
                                },
                                {
                                    "SZALL_DATUM": "2016-12-21",
                                    "SZALL_MOD": "NULL",
                                    "Mennyiség": "263"
                                },
                                {
                                    "SZALL_DATUM": "2016-12-22",
                                    "SZALL_MOD": "NULL",
                                    "Mennyiség": "166"
                                },
                                {
                                    "SZALL_DATUM": "2016-12-23",
                                    "SZALL_MOD": "NULL",
                                    "Mennyiség": "215"
                                },
                                {
                                    "SZALL_DATUM": "2016-12-24",
                                    "SZALL_MOD": "NULL",
                                    "Mennyiség": "160"
                                },
                                {
                                    "SZALL_DATUM": "2016-12-25",
                                    "SZALL_MOD": "NULL",
                                    "Mennyiség": "215"
                                },
                                {
                                    "SZALL_DATUM": "2016-12-26",
                                    "SZALL_MOD": "NULL",
                                    "Mennyiség": "258"
                                },
                                {
                                    "SZALL_DATUM": "2016-12-27",
                                    "SZALL_MOD": "NULL",
                                    "Mennyiség": "260"
                                },
                                {
                                    "SZALL_DATUM": "2016-12-28",
                                    "SZALL_MOD": "NULL",
                                    "Mennyiség": "170"
                                },
                                {
                                    "SZALL_DATUM": "2016-12-29",
                                    "SZALL_MOD": "NULL",
                                    "Mennyiség": "289"
                                },
                                {
                                    "SZALL_DATUM": "2016-12-30",
                                    "SZALL_MOD": "NULL",
                                    "Mennyiség": "202"
                                },
                                {
                                    "SZALL_DATUM": "2016-12-31",
                                    "SZALL_MOD": "NULL",
                                    "Mennyiség": "199"
                                },
                                {
                                    "SZALL_DATUM": "2017-01-01",
                                    "SZALL_MOD": "NULL",
                                    "Mennyiség": "195"
                                },
                                {
                                    "SZALL_DATUM": "2017-01-02",
                                    "SZALL_MOD": "NULL",
                                    "Mennyiség": "185"
                                },
                                {
                                    "SZALL_DATUM": "2017-01-03",
                                    "SZALL_MOD": "NULL",
                                    "Mennyiség": "174"
                                },
                                {
                                    "SZALL_DATUM": "2017-01-04",
                                    "SZALL_MOD": "NULL",
                                    "Mennyiség": "202"
                                },
                                {
                                    "SZALL_DATUM": "2017-01-05",
                                    "SZALL_MOD": "NULL",
                                    "Mennyiség": "219"
                                },
                                {
                                    "SZALL_DATUM": "2017-01-06",
                                    "SZALL_MOD": "NULL",
                                    "Mennyiség": "223"
                                },
                                {
                                    "SZALL_DATUM": "2017-01-07",
                                    "SZALL_MOD": "NULL",
                                    "Mennyiség": "201"
                                },
                                {
                                    "SZALL_DATUM": "2017-01-08",
                                    "SZALL_MOD": "NULL",
                                    "Mennyiség": "161"
                                },
                                {
                                    "SZALL_DATUM": "2017-01-09",
                                    "SZALL_MOD": "NULL",
                                    "Mennyiség": "254"
                                },
                                {
                                    "SZALL_DATUM": "2017-01-10",
                                    "SZALL_MOD": "NULL",
                                    "Mennyiség": "193"
                                },
                                {
                                    "SZALL_DATUM": "2017-01-11",
                                    "SZALL_MOD": "NULL",
                                    "Mennyiség": "246"
                                },
                                {
                                    "SZALL_DATUM": "2017-01-12",
                                    "SZALL_MOD": "NULL",
                                    "Mennyiség": "202"
                                },
                                {
                                    "SZALL_DATUM": "2017-01-13",
                                    "SZALL_MOD": "NULL",
                                    "Mennyiség": "218"
                                },
                                {
                                    "SZALL_DATUM": "2017-01-14",
                                    "SZALL_MOD": "NULL",
                                    "Mennyiség": "221"
                                },
                                {
                                    "SZALL_DATUM": "2017-01-15",
                                    "SZALL_MOD": "NULL",
                                    "Mennyiség": "183"
                                },
                                {
                                    "SZALL_DATUM": "2017-01-16",
                                    "SZALL_MOD": "NULL",
                                    "Mennyiség": "191"
                                },
                                {
                                    "SZALL_DATUM": "2017-01-17",
                                    "SZALL_MOD": "NULL",
                                    "Mennyiség": "231"
                                },
                                {
                                    "SZALL_DATUM": "2017-01-18",
                                    "SZALL_MOD": "NULL",
                                    "Mennyiség": "197"
                                },
                                {
                                    "SZALL_DATUM": "2017-01-19",
                                    "SZALL_MOD": "NULL",
                                    "Mennyiség": "185"
                                },
                                {
                                    "SZALL_DATUM": "2017-01-20",
                                    "SZALL_MOD": "NULL",
                                    "Mennyiség": "174"
                                },
                                {
                                    "SZALL_DATUM": "2017-01-21",
                                    "SZALL_MOD": "NULL",
                                    "Mennyiség": "180"
                                },
                                {
                                    "SZALL_DATUM": "2017-01-22",
                                    "SZALL_MOD": "NULL",
                                    "Mennyiség": "226"
                                },
                                {
                                    "SZALL_DATUM": "2017-01-23",
                                    "SZALL_MOD": "NULL",
                                    "Mennyiség": "232"
                                },
                                {
                                    "SZALL_DATUM": "2017-01-24",
                                    "SZALL_MOD": "NULL",
                                    "Mennyiség": "205"
                                },
                                {
                                    "SZALL_DATUM": "2017-01-25",
                                    "SZALL_MOD": "NULL",
                                    "Mennyiség": "169"
                                },
                                {
                                    "SZALL_DATUM": "2017-01-26",
                                    "SZALL_MOD": "NULL",
                                    "Mennyiség": "238"
                                },
                                {
                                    "SZALL_DATUM": "2017-01-27",
                                    "SZALL_MOD": "NULL",
                                    "Mennyiség": "119"
                                },
                                {
                                    "SZALL_DATUM": "2017-01-28",
                                    "SZALL_MOD": "NULL",
                                    "Mennyiség": "204"
                                },
                                {
                                    "SZALL_DATUM": "2017-01-29",
                                    "SZALL_MOD": "NULL",
                                    "Mennyiség": "225"
                                },
                                {
                                    "SZALL_DATUM": "2017-01-30",
                                    "SZALL_MOD": "NULL",
                                    "Mennyiség": "210"
                                },
                                {
                                    "SZALL_DATUM": "2017-01-31",
                                    "SZALL_MOD": "NULL",
                                    "Mennyiség": "185"
                                },
                                {
                                    "SZALL_DATUM": "2017-02-01",
                                    "SZALL_MOD": "NULL",
                                    "Mennyiség": "147"
                                },
                                {
                                    "SZALL_DATUM": "2017-02-02",
                                    "SZALL_MOD": "NULL",
                                    "Mennyiség": "243"
                                },
                                {
                                    "SZALL_DATUM": "2017-02-03",
                                    "SZALL_MOD": "NULL",
                                    "Mennyiség": "193"
                                },
                                {
                                    "SZALL_DATUM": "2017-02-04",
                                    "SZALL_MOD": "NULL",
                                    "Mennyiség": "174"
                                },
                                {
                                    "SZALL_DATUM": "2017-02-05",
                                    "SZALL_MOD": "NULL",
                                    "Mennyiség": "131"
                                },
                                {
                                    "SZALL_DATUM": "2017-02-06",
                                    "SZALL_MOD": "NULL",
                                    "Mennyiség": "204"
                                },
                                {
                                    "SZALL_DATUM": "2017-02-07",
                                    "SZALL_MOD": "NULL",
                                    "Mennyiség": "202"
                                },
                                {
                                    "SZALL_DATUM": "2017-02-08",
                                    "SZALL_MOD": "NULL",
                                    "Mennyiség": "255"
                                },
                                {
                                    "SZALL_DATUM": "2017-02-09",
                                    "SZALL_MOD": "NULL",
                                    "Mennyiség": "197"
                                },
                                {
                                    "SZALL_DATUM": "2017-02-10",
                                    "SZALL_MOD": "NULL",
                                    "Mennyiség": "234"
                                },
                                {
                                    "SZALL_DATUM": "2017-02-11",
                                    "SZALL_MOD": "NULL",
                                    "Mennyiség": "191"
                                },
                                {
                                    "SZALL_DATUM": "2017-02-12",
                                    "SZALL_MOD": "NULL",
                                    "Mennyiség": "160"
                                },
                                {
                                    "SZALL_DATUM": "2017-02-13",
                                    "SZALL_MOD": "NULL",
                                    "Mennyiség": "213"
                                },
                                {
                                    "SZALL_DATUM": "2017-02-14",
                                    "SZALL_MOD": "NULL",
                                    "Mennyiség": "229"
                                },
                                {
                                    "SZALL_DATUM": "2017-02-15",
                                    "SZALL_MOD": "NULL",
                                    "Mennyiség": "179"
                                },
                                {
                                    "SZALL_DATUM": "2017-02-16",
                                    "SZALL_MOD": "NULL",
                                    "Mennyiség": "232"
                                },
                                {
                                    "SZALL_DATUM": "2017-02-17",
                                    "SZALL_MOD": "NULL",
                                    "Mennyiség": "229"
                                },
                                {
                                    "SZALL_DATUM": "2017-02-18",
                                    "SZALL_MOD": "NULL",
                                    "Mennyiség": "253"
                                },
                                {
                                    "SZALL_DATUM": "2017-02-19",
                                    "SZALL_MOD": "NULL",
                                    "Mennyiség": "193"
                                },
                                {
                                    "SZALL_DATUM": "2017-02-20",
                                    "SZALL_MOD": "NULL",
                                    "Mennyiség": "129"
                                },
                                {
                                    "SZALL_DATUM": "2017-02-21",
                                    "SZALL_MOD": "NULL",
                                    "Mennyiség": "193"
                                },
                                {
                                    "SZALL_DATUM": "2017-02-22",
                                    "SZALL_MOD": "NULL",
                                    "Mennyiség": "229"
                                },
                                {
                                    "SZALL_DATUM": "2017-02-23",
                                    "SZALL_MOD": "NULL",
                                    "Mennyiség": "191"
                                },
                                {
                                    "SZALL_DATUM": "2017-02-24",
                                    "SZALL_MOD": "NULL",
                                    "Mennyiség": "178"
                                },
                                {
                                    "SZALL_DATUM": "2017-02-25",
                                    "SZALL_MOD": "NULL",
                                    "Mennyiség": "182"
                                },
                                {
                                    "SZALL_DATUM": "2017-02-26",
                                    "SZALL_MOD": "NULL",
                                    "Mennyiség": "216"
                                },
                                {
                                    "SZALL_DATUM": "2017-02-27",
                                    "SZALL_MOD": "NULL",
                                    "Mennyiség": "226"
                                },
                                {
                                    "SZALL_DATUM": "2017-02-28",
                                    "SZALL_MOD": "NULL",
                                    "Mennyiség": "294"
                                },
                                {
                                    "SZALL_DATUM": "2017-03-01",
                                    "SZALL_MOD": "NULL",
                                    "Mennyiség": "155"
                                },
                                {
                                    "SZALL_DATUM": "2017-03-02",
                                    "SZALL_MOD": "NULL",
                                    "Mennyiség": "134"
                                },
                                {
                                    "SZALL_DATUM": "2017-03-03",
                                    "SZALL_MOD": "NULL",
                                    "Mennyiség": "213"
                                },
                                {
                                    "SZALL_DATUM": "2017-03-04",
                                    "SZALL_MOD": "NULL",
                                    "Mennyiség": "148"
                                },
                                {
                                    "SZALL_DATUM": "2017-03-05",
                                    "SZALL_MOD": "NULL",
                                    "Mennyiség": "244"
                                },
                                {
                                    "SZALL_DATUM": "2017-03-06",
                                    "SZALL_MOD": "NULL",
                                    "Mennyiség": "274"
                                },
                                {
                                    "SZALL_DATUM": "2017-03-07",
                                    "SZALL_MOD": "NULL",
                                    "Mennyiség": "241"
                                },
                                {
                                    "SZALL_DATUM": "2017-03-08",
                                    "SZALL_MOD": "NULL",
                                    "Mennyiség": "179"
                                },
                                {
                                    "SZALL_DATUM": "2017-03-09",
                                    "SZALL_MOD": "NULL",
                                    "Mennyiség": "189"
                                },
                                {
                                    "SZALL_DATUM": "2017-03-10",
                                    "SZALL_MOD": "NULL",
                                    "Mennyiség": "176"
                                },
                                {
                                    "SZALL_DATUM": "2017-03-11",
                                    "SZALL_MOD": "NULL",
                                    "Mennyiség": "189"
                                },
                                {
                                    "SZALL_DATUM": "2017-03-12",
                                    "SZALL_MOD": "NULL",
                                    "Mennyiség": "175"
                                },
                                {
                                    "SZALL_DATUM": "2017-03-13",
                                    "SZALL_MOD": "NULL",
                                    "Mennyiség": "170"
                                },
                                {
                                    "SZALL_DATUM": "2017-03-14",
                                    "SZALL_MOD": "NULL",
                                    "Mennyiség": "178"
                                },
                                {
                                    "SZALL_DATUM": "2017-03-15",
                                    "SZALL_MOD": "NULL",
                                    "Mennyiség": "247"
                                },
                                {
                                    "SZALL_DATUM": "2017-03-16",
                                    "SZALL_MOD": "NULL",
                                    "Mennyiség": "235"
                                },
                                {
                                    "SZALL_DATUM": "2017-03-17",
                                    "SZALL_MOD": "NULL",
                                    "Mennyiség": "240"
                                },
                                {
                                    "SZALL_DATUM": "2017-03-18",
                                    "SZALL_MOD": "NULL",
                                    "Mennyiség": "220"
                                },
                                {
                                    "SZALL_DATUM": "2017-03-19",
                                    "SZALL_MOD": "NULL",
                                    "Mennyiség": "248"
                                },
                                {
                                    "SZALL_DATUM": "2017-03-20",
                                    "SZALL_MOD": "NULL",
                                    "Mennyiség": "191"
                                },
                                {
                                    "SZALL_DATUM": "2017-03-21",
                                    "SZALL_MOD": "NULL",
                                    "Mennyiség": "216"
                                },
                                {
                                    "SZALL_DATUM": "2017-03-22",
                                    "SZALL_MOD": "NULL",
                                    "Mennyiség": "162"
                                },
                                {
                                    "SZALL_DATUM": "2017-03-23",
                                    "SZALL_MOD": "NULL",
                                    "Mennyiség": "230"
                                },
                                {
                                    "SZALL_DATUM": "2017-03-24",
                                    "SZALL_MOD": "NULL",
                                    "Mennyiség": "231"
                                },
                                {
                                    "SZALL_DATUM": "2017-03-25",
                                    "SZALL_MOD": "NULL",
                                    "Mennyiség": "171"
                                },
                                {
                                    "SZALL_DATUM": "2017-03-26",
                                    "SZALL_MOD": "NULL",
                                    "Mennyiség": "217"
                                },
                                {
                                    "SZALL_DATUM": "2017-03-27",
                                    "SZALL_MOD": "NULL",
                                    "Mennyiség": "208"
                                },
                                {
                                    "SZALL_DATUM": "2017-03-28",
                                    "SZALL_MOD": "NULL",
                                    "Mennyiség": "200"
                                },
                                {
                                    "SZALL_DATUM": "2017-03-29",
                                    "SZALL_MOD": "NULL",
                                    "Mennyiség": "219"
                                },
                                {
                                    "SZALL_DATUM": "2017-03-30",
                                    "SZALL_MOD": "NULL",
                                    "Mennyiség": "236"
                                },
                                {
                                    "SZALL_DATUM": "2017-03-31",
                                    "SZALL_MOD": "NULL",
                                    "Mennyiség": "220"
                                },
                                {
                                    "SZALL_DATUM": "2017-04-01",
                                    "SZALL_MOD": "NULL",
                                    "Mennyiség": "170"
                                },
                                {
                                    "SZALL_DATUM": "2017-04-02",
                                    "SZALL_MOD": "NULL",
                                    "Mennyiség": "213"
                                },
                                {
                                    "SZALL_DATUM": "2017-04-03",
                                    "SZALL_MOD": "NULL",
                                    "Mennyiség": "188"
                                },
                                {
                                    "SZALL_DATUM": "2017-04-04",
                                    "SZALL_MOD": "NULL",
                                    "Mennyiség": "175"
                                },
                                {
                                    "SZALL_DATUM": "2017-04-05",
                                    "SZALL_MOD": "NULL",
                                    "Mennyiség": "188"
                                },
                                {
                                    "SZALL_DATUM": "2017-04-06",
                                    "SZALL_MOD": "NULL",
                                    "Mennyiség": "106"
                                },
                                {
                                    "SZALL_DATUM": "2017-04-07",
                                    "SZALL_MOD": "NULL",
                                    "Mennyiség": "152"
                                },
                                {
                                    "SZALL_DATUM": "2017-04-08",
                                    "SZALL_MOD": "NULL",
                                    "Mennyiség": "120"
                                },
                                {
                                    "SZALL_DATUM": "2017-04-09",
                                    "SZALL_MOD": "NULL",
                                    "Mennyiség": "79"
                                },
                                {
                                    "SZALL_DATUM": "2017-04-10",
                                    "SZALL_MOD": "NULL",
                                    "Mennyiség": "32"
                                },
                                {
                                    "SZALL_DATUM": "2017-04-11",
                                    "SZALL_MOD": "NULL",
                                    "Mennyiség": "21"
                                },
                                {
                                    "SZALL_DATUM": "NULL",
                                    "SZALL_MOD": "NULL",
                                    "Mennyiség": "145706"
                                }
                            ]
                        },
                        "text/html": [
                            "<table>",
                            "<tr><th>SZALL_DATUM</th><th>SZALL_MOD</th><th>Mennyiség</th></tr>",
                            "<tr><td>2015-05-03</td><td>NULL</td><td>4</td></tr>",
                            "<tr><td>2015-05-04</td><td>NULL</td><td>31</td></tr>",
                            "<tr><td>2015-05-05</td><td>NULL</td><td>81</td></tr>",
                            "<tr><td>2015-05-06</td><td>NULL</td><td>126</td></tr>",
                            "<tr><td>2015-05-07</td><td>NULL</td><td>94</td></tr>",
                            "<tr><td>2015-05-08</td><td>NULL</td><td>106</td></tr>",
                            "<tr><td>2015-05-09</td><td>NULL</td><td>159</td></tr>",
                            "<tr><td>2015-05-10</td><td>NULL</td><td>168</td></tr>",
                            "<tr><td>2015-05-11</td><td>NULL</td><td>195</td></tr>",
                            "<tr><td>2015-05-12</td><td>NULL</td><td>196</td></tr>",
                            "<tr><td>2015-05-13</td><td>NULL</td><td>198</td></tr>",
                            "<tr><td>2015-05-14</td><td>NULL</td><td>277</td></tr>",
                            "<tr><td>2015-05-15</td><td>NULL</td><td>188</td></tr>",
                            "<tr><td>2015-05-16</td><td>NULL</td><td>198</td></tr>",
                            "<tr><td>2015-05-17</td><td>NULL</td><td>129</td></tr>",
                            "<tr><td>2015-05-18</td><td>NULL</td><td>225</td></tr>",
                            "<tr><td>2015-05-19</td><td>NULL</td><td>199</td></tr>",
                            "<tr><td>2015-05-20</td><td>NULL</td><td>245</td></tr>",
                            "<tr><td>2015-05-21</td><td>NULL</td><td>198</td></tr>",
                            "<tr><td>2015-05-22</td><td>NULL</td><td>202</td></tr>",
                            "<tr><td>2015-05-23</td><td>NULL</td><td>139</td></tr>",
                            "<tr><td>2015-05-24</td><td>NULL</td><td>150</td></tr>",
                            "<tr><td>2015-05-25</td><td>NULL</td><td>173</td></tr>",
                            "<tr><td>2015-05-26</td><td>NULL</td><td>204</td></tr>",
                            "<tr><td>2015-05-27</td><td>NULL</td><td>231</td></tr>",
                            "<tr><td>2015-05-28</td><td>NULL</td><td>229</td></tr>",
                            "<tr><td>2015-05-29</td><td>NULL</td><td>263</td></tr>",
                            "<tr><td>2015-05-30</td><td>NULL</td><td>203</td></tr>",
                            "<tr><td>2015-05-31</td><td>NULL</td><td>123</td></tr>",
                            "<tr><td>2015-06-01</td><td>NULL</td><td>181</td></tr>",
                            "<tr><td>2015-06-02</td><td>NULL</td><td>175</td></tr>",
                            "<tr><td>2015-06-03</td><td>NULL</td><td>220</td></tr>",
                            "<tr><td>2015-06-04</td><td>NULL</td><td>210</td></tr>",
                            "<tr><td>2015-06-05</td><td>NULL</td><td>230</td></tr>",
                            "<tr><td>2015-06-06</td><td>NULL</td><td>236</td></tr>",
                            "<tr><td>2015-06-07</td><td>NULL</td><td>221</td></tr>",
                            "<tr><td>2015-06-08</td><td>NULL</td><td>149</td></tr>",
                            "<tr><td>2015-06-09</td><td>NULL</td><td>172</td></tr>",
                            "<tr><td>2015-06-10</td><td>NULL</td><td>221</td></tr>",
                            "<tr><td>2015-06-11</td><td>NULL</td><td>173</td></tr>",
                            "<tr><td>2015-06-12</td><td>NULL</td><td>231</td></tr>",
                            "<tr><td>2015-06-13</td><td>NULL</td><td>215</td></tr>",
                            "<tr><td>2015-06-14</td><td>NULL</td><td>207</td></tr>",
                            "<tr><td>2015-06-15</td><td>NULL</td><td>205</td></tr>",
                            "<tr><td>2015-06-16</td><td>NULL</td><td>133</td></tr>",
                            "<tr><td>2015-06-17</td><td>NULL</td><td>229</td></tr>",
                            "<tr><td>2015-06-18</td><td>NULL</td><td>238</td></tr>",
                            "<tr><td>2015-06-19</td><td>NULL</td><td>176</td></tr>",
                            "<tr><td>2015-06-20</td><td>NULL</td><td>198</td></tr>",
                            "<tr><td>2015-06-21</td><td>NULL</td><td>179</td></tr>",
                            "<tr><td>2015-06-22</td><td>NULL</td><td>240</td></tr>",
                            "<tr><td>2015-06-23</td><td>NULL</td><td>227</td></tr>",
                            "<tr><td>2015-06-24</td><td>NULL</td><td>129</td></tr>",
                            "<tr><td>2015-06-25</td><td>NULL</td><td>247</td></tr>",
                            "<tr><td>2015-06-26</td><td>NULL</td><td>271</td></tr>",
                            "<tr><td>2015-06-27</td><td>NULL</td><td>173</td></tr>",
                            "<tr><td>2015-06-28</td><td>NULL</td><td>163</td></tr>",
                            "<tr><td>2015-06-29</td><td>NULL</td><td>207</td></tr>",
                            "<tr><td>2015-06-30</td><td>NULL</td><td>208</td></tr>",
                            "<tr><td>2015-07-01</td><td>NULL</td><td>138</td></tr>",
                            "<tr><td>2015-07-02</td><td>NULL</td><td>183</td></tr>",
                            "<tr><td>2015-07-03</td><td>NULL</td><td>175</td></tr>",
                            "<tr><td>2015-07-04</td><td>NULL</td><td>221</td></tr>",
                            "<tr><td>2015-07-05</td><td>NULL</td><td>220</td></tr>",
                            "<tr><td>2015-07-06</td><td>NULL</td><td>231</td></tr>",
                            "<tr><td>2015-07-07</td><td>NULL</td><td>266</td></tr>",
                            "<tr><td>2015-07-08</td><td>NULL</td><td>177</td></tr>",
                            "<tr><td>2015-07-09</td><td>NULL</td><td>198</td></tr>",
                            "<tr><td>2015-07-10</td><td>NULL</td><td>182</td></tr>",
                            "<tr><td>2015-07-11</td><td>NULL</td><td>175</td></tr>",
                            "<tr><td>2015-07-12</td><td>NULL</td><td>218</td></tr>",
                            "<tr><td>2015-07-13</td><td>NULL</td><td>208</td></tr>",
                            "<tr><td>2015-07-14</td><td>NULL</td><td>188</td></tr>",
                            "<tr><td>2015-07-15</td><td>NULL</td><td>256</td></tr>",
                            "<tr><td>2015-07-16</td><td>NULL</td><td>187</td></tr>",
                            "<tr><td>2015-07-17</td><td>NULL</td><td>176</td></tr>",
                            "<tr><td>2015-07-18</td><td>NULL</td><td>159</td></tr>",
                            "<tr><td>2015-07-19</td><td>NULL</td><td>187</td></tr>",
                            "<tr><td>2015-07-20</td><td>NULL</td><td>260</td></tr>",
                            "<tr><td>2015-07-21</td><td>NULL</td><td>242</td></tr>",
                            "<tr><td>2015-07-22</td><td>NULL</td><td>163</td></tr>",
                            "<tr><td>2015-07-23</td><td>NULL</td><td>180</td></tr>",
                            "<tr><td>2015-07-24</td><td>NULL</td><td>219</td></tr>",
                            "<tr><td>2015-07-25</td><td>NULL</td><td>200</td></tr>",
                            "<tr><td>2015-07-26</td><td>NULL</td><td>236</td></tr>",
                            "<tr><td>2015-07-27</td><td>NULL</td><td>155</td></tr>",
                            "<tr><td>2015-07-28</td><td>NULL</td><td>180</td></tr>",
                            "<tr><td>2015-07-29</td><td>NULL</td><td>161</td></tr>",
                            "<tr><td>2015-07-30</td><td>NULL</td><td>238</td></tr>",
                            "<tr><td>2015-07-31</td><td>NULL</td><td>270</td></tr>",
                            "<tr><td>2015-08-01</td><td>NULL</td><td>248</td></tr>",
                            "<tr><td>2015-08-02</td><td>NULL</td><td>229</td></tr>",
                            "<tr><td>2015-08-03</td><td>NULL</td><td>229</td></tr>",
                            "<tr><td>2015-08-04</td><td>NULL</td><td>250</td></tr>",
                            "<tr><td>2015-08-05</td><td>NULL</td><td>233</td></tr>",
                            "<tr><td>2015-08-06</td><td>NULL</td><td>140</td></tr>",
                            "<tr><td>2015-08-07</td><td>NULL</td><td>259</td></tr>",
                            "<tr><td>2015-08-08</td><td>NULL</td><td>258</td></tr>",
                            "<tr><td>2015-08-09</td><td>NULL</td><td>187</td></tr>",
                            "<tr><td>2015-08-10</td><td>NULL</td><td>196</td></tr>",
                            "<tr><td>2015-08-11</td><td>NULL</td><td>241</td></tr>",
                            "<tr><td>2015-08-12</td><td>NULL</td><td>202</td></tr>",
                            "<tr><td>2015-08-13</td><td>NULL</td><td>250</td></tr>",
                            "<tr><td>2015-08-14</td><td>NULL</td><td>255</td></tr>",
                            "<tr><td>2015-08-15</td><td>NULL</td><td>172</td></tr>",
                            "<tr><td>2015-08-16</td><td>NULL</td><td>189</td></tr>",
                            "<tr><td>2015-08-17</td><td>NULL</td><td>203</td></tr>",
                            "<tr><td>2015-08-18</td><td>NULL</td><td>167</td></tr>",
                            "<tr><td>2015-08-19</td><td>NULL</td><td>170</td></tr>",
                            "<tr><td>2015-08-20</td><td>NULL</td><td>227</td></tr>",
                            "<tr><td>2015-08-21</td><td>NULL</td><td>199</td></tr>",
                            "<tr><td>2015-08-22</td><td>NULL</td><td>251</td></tr>",
                            "<tr><td>2015-08-23</td><td>NULL</td><td>173</td></tr>",
                            "<tr><td>2015-08-24</td><td>NULL</td><td>191</td></tr>",
                            "<tr><td>2015-08-25</td><td>NULL</td><td>235</td></tr>",
                            "<tr><td>2015-08-26</td><td>NULL</td><td>267</td></tr>",
                            "<tr><td>2015-08-27</td><td>NULL</td><td>152</td></tr>",
                            "<tr><td>2015-08-28</td><td>NULL</td><td>221</td></tr>",
                            "<tr><td>2015-08-29</td><td>NULL</td><td>183</td></tr>",
                            "<tr><td>2015-08-30</td><td>NULL</td><td>236</td></tr>",
                            "<tr><td>2015-08-31</td><td>NULL</td><td>205</td></tr>",
                            "<tr><td>2015-09-01</td><td>NULL</td><td>246</td></tr>",
                            "<tr><td>2015-09-02</td><td>NULL</td><td>165</td></tr>",
                            "<tr><td>2015-09-03</td><td>NULL</td><td>234</td></tr>",
                            "<tr><td>2015-09-04</td><td>NULL</td><td>256</td></tr>",
                            "<tr><td>2015-09-05</td><td>NULL</td><td>187</td></tr>",
                            "<tr><td>2015-09-06</td><td>NULL</td><td>209</td></tr>",
                            "<tr><td>2015-09-07</td><td>NULL</td><td>237</td></tr>",
                            "<tr><td>2015-09-08</td><td>NULL</td><td>193</td></tr>",
                            "<tr><td>2015-09-09</td><td>NULL</td><td>204</td></tr>",
                            "<tr><td>2015-09-10</td><td>NULL</td><td>265</td></tr>",
                            "<tr><td>2015-09-11</td><td>NULL</td><td>219</td></tr>",
                            "<tr><td>2015-09-12</td><td>NULL</td><td>240</td></tr>",
                            "<tr><td>2015-09-13</td><td>NULL</td><td>195</td></tr>",
                            "<tr><td>2015-09-14</td><td>NULL</td><td>210</td></tr>",
                            "<tr><td>2015-09-15</td><td>NULL</td><td>140</td></tr>",
                            "<tr><td>2015-09-16</td><td>NULL</td><td>199</td></tr>",
                            "<tr><td>2015-09-17</td><td>NULL</td><td>226</td></tr>",
                            "<tr><td>2015-09-18</td><td>NULL</td><td>212</td></tr>",
                            "<tr><td>2015-09-19</td><td>NULL</td><td>196</td></tr>",
                            "<tr><td>2015-09-20</td><td>NULL</td><td>263</td></tr>",
                            "<tr><td>2015-09-21</td><td>NULL</td><td>164</td></tr>",
                            "<tr><td>2015-09-22</td><td>NULL</td><td>221</td></tr>",
                            "<tr><td>2015-09-23</td><td>NULL</td><td>187</td></tr>",
                            "<tr><td>2015-09-24</td><td>NULL</td><td>264</td></tr>",
                            "<tr><td>2015-09-25</td><td>NULL</td><td>186</td></tr>",
                            "<tr><td>2015-09-26</td><td>NULL</td><td>240</td></tr>",
                            "<tr><td>2015-09-27</td><td>NULL</td><td>194</td></tr>",
                            "<tr><td>2015-09-28</td><td>NULL</td><td>269</td></tr>",
                            "<tr><td>2015-09-29</td><td>NULL</td><td>252</td></tr>",
                            "<tr><td>2015-09-30</td><td>NULL</td><td>151</td></tr>",
                            "<tr><td>2015-10-01</td><td>NULL</td><td>207</td></tr>",
                            "<tr><td>2015-10-02</td><td>NULL</td><td>153</td></tr>",
                            "<tr><td>2015-10-03</td><td>NULL</td><td>242</td></tr>",
                            "<tr><td>2015-10-04</td><td>NULL</td><td>197</td></tr>",
                            "<tr><td>2015-10-05</td><td>NULL</td><td>226</td></tr>",
                            "<tr><td>2015-10-06</td><td>NULL</td><td>163</td></tr>",
                            "<tr><td>2015-10-07</td><td>NULL</td><td>230</td></tr>",
                            "<tr><td>2015-10-08</td><td>NULL</td><td>216</td></tr>",
                            "<tr><td>2015-10-09</td><td>NULL</td><td>235</td></tr>",
                            "<tr><td>2015-10-10</td><td>NULL</td><td>216</td></tr>",
                            "<tr><td>2015-10-11</td><td>NULL</td><td>184</td></tr>",
                            "<tr><td>2015-10-12</td><td>NULL</td><td>237</td></tr>",
                            "<tr><td>2015-10-13</td><td>NULL</td><td>174</td></tr>",
                            "<tr><td>2015-10-14</td><td>NULL</td><td>163</td></tr>",
                            "<tr><td>2015-10-15</td><td>NULL</td><td>251</td></tr>",
                            "<tr><td>2015-10-16</td><td>NULL</td><td>258</td></tr>",
                            "<tr><td>2015-10-17</td><td>NULL</td><td>186</td></tr>",
                            "<tr><td>2015-10-18</td><td>NULL</td><td>219</td></tr>",
                            "<tr><td>2015-10-19</td><td>NULL</td><td>184</td></tr>",
                            "<tr><td>2015-10-20</td><td>NULL</td><td>260</td></tr>",
                            "<tr><td>2015-10-21</td><td>NULL</td><td>191</td></tr>",
                            "<tr><td>2015-10-22</td><td>NULL</td><td>153</td></tr>",
                            "<tr><td>2015-10-23</td><td>NULL</td><td>207</td></tr>",
                            "<tr><td>2015-10-24</td><td>NULL</td><td>186</td></tr>",
                            "<tr><td>2015-10-25</td><td>NULL</td><td>234</td></tr>",
                            "<tr><td>2015-10-26</td><td>NULL</td><td>221</td></tr>",
                            "<tr><td>2015-10-27</td><td>NULL</td><td>188</td></tr>",
                            "<tr><td>2015-10-28</td><td>NULL</td><td>194</td></tr>",
                            "<tr><td>2015-10-29</td><td>NULL</td><td>191</td></tr>",
                            "<tr><td>2015-10-30</td><td>NULL</td><td>214</td></tr>",
                            "<tr><td>2015-10-31</td><td>NULL</td><td>176</td></tr>",
                            "<tr><td>2015-11-01</td><td>NULL</td><td>148</td></tr>",
                            "<tr><td>2015-11-02</td><td>NULL</td><td>191</td></tr>",
                            "<tr><td>2015-11-03</td><td>NULL</td><td>304</td></tr>",
                            "<tr><td>2015-11-04</td><td>NULL</td><td>181</td></tr>",
                            "<tr><td>2015-11-05</td><td>NULL</td><td>173</td></tr>",
                            "<tr><td>2015-11-06</td><td>NULL</td><td>211</td></tr>",
                            "<tr><td>2015-11-07</td><td>NULL</td><td>206</td></tr>",
                            "<tr><td>2015-11-08</td><td>NULL</td><td>210</td></tr>",
                            "<tr><td>2015-11-09</td><td>NULL</td><td>206</td></tr>",
                            "<tr><td>2015-11-10</td><td>NULL</td><td>219</td></tr>",
                            "<tr><td>2015-11-11</td><td>NULL</td><td>200</td></tr>",
                            "<tr><td>2015-11-12</td><td>NULL</td><td>149</td></tr>",
                            "<tr><td>2015-11-13</td><td>NULL</td><td>188</td></tr>",
                            "<tr><td>2015-11-14</td><td>NULL</td><td>230</td></tr>",
                            "<tr><td>2015-11-15</td><td>NULL</td><td>164</td></tr>",
                            "<tr><td>2015-11-16</td><td>NULL</td><td>230</td></tr>",
                            "<tr><td>2015-11-17</td><td>NULL</td><td>195</td></tr>",
                            "<tr><td>2015-11-18</td><td>NULL</td><td>219</td></tr>",
                            "<tr><td>2015-11-19</td><td>NULL</td><td>190</td></tr>",
                            "<tr><td>2015-11-20</td><td>NULL</td><td>168</td></tr>",
                            "<tr><td>2015-11-21</td><td>NULL</td><td>205</td></tr>",
                            "<tr><td>2015-11-22</td><td>NULL</td><td>240</td></tr>",
                            "<tr><td>2015-11-23</td><td>NULL</td><td>209</td></tr>",
                            "<tr><td>2015-11-24</td><td>NULL</td><td>245</td></tr>",
                            "<tr><td>2015-11-25</td><td>NULL</td><td>167</td></tr>",
                            "<tr><td>2015-11-26</td><td>NULL</td><td>186</td></tr>",
                            "<tr><td>2015-11-27</td><td>NULL</td><td>177</td></tr>",
                            "<tr><td>2015-11-28</td><td>NULL</td><td>266</td></tr>",
                            "<tr><td>2015-11-29</td><td>NULL</td><td>167</td></tr>",
                            "<tr><td>2015-11-30</td><td>NULL</td><td>205</td></tr>",
                            "<tr><td>2015-12-01</td><td>NULL</td><td>185</td></tr>",
                            "<tr><td>2015-12-02</td><td>NULL</td><td>226</td></tr>",
                            "<tr><td>2015-12-03</td><td>NULL</td><td>217</td></tr>",
                            "<tr><td>2015-12-04</td><td>NULL</td><td>185</td></tr>",
                            "<tr><td>2015-12-05</td><td>NULL</td><td>267</td></tr>",
                            "<tr><td>2015-12-06</td><td>NULL</td><td>150</td></tr>",
                            "<tr><td>2015-12-07</td><td>NULL</td><td>263</td></tr>",
                            "<tr><td>2015-12-08</td><td>NULL</td><td>207</td></tr>",
                            "<tr><td>2015-12-09</td><td>NULL</td><td>211</td></tr>",
                            "<tr><td>2015-12-10</td><td>NULL</td><td>256</td></tr>",
                            "<tr><td>2015-12-11</td><td>NULL</td><td>230</td></tr>",
                            "<tr><td>2015-12-12</td><td>NULL</td><td>224</td></tr>",
                            "<tr><td>2015-12-13</td><td>NULL</td><td>171</td></tr>",
                            "<tr><td>2015-12-14</td><td>NULL</td><td>212</td></tr>",
                            "<tr><td>2015-12-15</td><td>NULL</td><td>184</td></tr>",
                            "<tr><td>2015-12-16</td><td>NULL</td><td>179</td></tr>",
                            "<tr><td>2015-12-17</td><td>NULL</td><td>186</td></tr>",
                            "<tr><td>2015-12-18</td><td>NULL</td><td>274</td></tr>",
                            "<tr><td>2015-12-19</td><td>NULL</td><td>164</td></tr>",
                            "<tr><td>2015-12-20</td><td>NULL</td><td>222</td></tr>",
                            "<tr><td>2015-12-21</td><td>NULL</td><td>164</td></tr>",
                            "<tr><td>2015-12-22</td><td>NULL</td><td>210</td></tr>",
                            "<tr><td>2015-12-23</td><td>NULL</td><td>191</td></tr>",
                            "<tr><td>2015-12-24</td><td>NULL</td><td>196</td></tr>",
                            "<tr><td>2015-12-25</td><td>NULL</td><td>181</td></tr>",
                            "<tr><td>2015-12-26</td><td>NULL</td><td>222</td></tr>",
                            "<tr><td>2015-12-27</td><td>NULL</td><td>208</td></tr>",
                            "<tr><td>2015-12-28</td><td>NULL</td><td>244</td></tr>",
                            "<tr><td>2015-12-29</td><td>NULL</td><td>247</td></tr>",
                            "<tr><td>2015-12-30</td><td>NULL</td><td>190</td></tr>",
                            "<tr><td>2015-12-31</td><td>NULL</td><td>206</td></tr>",
                            "<tr><td>2016-01-01</td><td>NULL</td><td>240</td></tr>",
                            "<tr><td>2016-01-02</td><td>NULL</td><td>206</td></tr>",
                            "<tr><td>2016-01-03</td><td>NULL</td><td>257</td></tr>",
                            "<tr><td>2016-01-04</td><td>NULL</td><td>233</td></tr>",
                            "<tr><td>2016-01-05</td><td>NULL</td><td>192</td></tr>",
                            "<tr><td>2016-01-06</td><td>NULL</td><td>193</td></tr>",
                            "<tr><td>2016-01-07</td><td>NULL</td><td>142</td></tr>",
                            "<tr><td>2016-01-08</td><td>NULL</td><td>269</td></tr>",
                            "<tr><td>2016-01-09</td><td>NULL</td><td>196</td></tr>",
                            "<tr><td>2016-01-10</td><td>NULL</td><td>204</td></tr>",
                            "<tr><td>2016-01-11</td><td>NULL</td><td>201</td></tr>",
                            "<tr><td>2016-01-12</td><td>NULL</td><td>189</td></tr>",
                            "<tr><td>2016-01-13</td><td>NULL</td><td>201</td></tr>",
                            "<tr><td>2016-01-14</td><td>NULL</td><td>226</td></tr>",
                            "<tr><td>2016-01-15</td><td>NULL</td><td>229</td></tr>",
                            "<tr><td>2016-01-16</td><td>NULL</td><td>218</td></tr>",
                            "<tr><td>2016-01-17</td><td>NULL</td><td>203</td></tr>",
                            "<tr><td>2016-01-18</td><td>NULL</td><td>173</td></tr>",
                            "<tr><td>2016-01-19</td><td>NULL</td><td>176</td></tr>",
                            "<tr><td>2016-01-20</td><td>NULL</td><td>200</td></tr>",
                            "<tr><td>2016-01-21</td><td>NULL</td><td>281</td></tr>",
                            "<tr><td>2016-01-22</td><td>NULL</td><td>206</td></tr>",
                            "<tr><td>2016-01-23</td><td>NULL</td><td>175</td></tr>",
                            "<tr><td>2016-01-24</td><td>NULL</td><td>241</td></tr>",
                            "<tr><td>2016-01-25</td><td>NULL</td><td>136</td></tr>",
                            "<tr><td>2016-01-26</td><td>NULL</td><td>144</td></tr>",
                            "<tr><td>2016-01-27</td><td>NULL</td><td>195</td></tr>",
                            "<tr><td>2016-01-28</td><td>NULL</td><td>207</td></tr>",
                            "<tr><td>2016-01-29</td><td>NULL</td><td>198</td></tr>",
                            "<tr><td>2016-01-30</td><td>NULL</td><td>239</td></tr>",
                            "<tr><td>2016-01-31</td><td>NULL</td><td>191</td></tr>",
                            "<tr><td>2016-02-01</td><td>NULL</td><td>246</td></tr>",
                            "<tr><td>2016-02-02</td><td>NULL</td><td>211</td></tr>",
                            "<tr><td>2016-02-03</td><td>NULL</td><td>236</td></tr>",
                            "<tr><td>2016-02-04</td><td>NULL</td><td>199</td></tr>",
                            "<tr><td>2016-02-05</td><td>NULL</td><td>233</td></tr>",
                            "<tr><td>2016-02-06</td><td>NULL</td><td>287</td></tr>",
                            "<tr><td>2016-02-07</td><td>NULL</td><td>164</td></tr>",
                            "<tr><td>2016-02-08</td><td>NULL</td><td>230</td></tr>",
                            "<tr><td>2016-02-09</td><td>NULL</td><td>222</td></tr>",
                            "<tr><td>2016-02-10</td><td>NULL</td><td>196</td></tr>",
                            "<tr><td>2016-02-11</td><td>NULL</td><td>217</td></tr>",
                            "<tr><td>2016-02-12</td><td>NULL</td><td>232</td></tr>",
                            "<tr><td>2016-02-13</td><td>NULL</td><td>195</td></tr>",
                            "<tr><td>2016-02-14</td><td>NULL</td><td>219</td></tr>",
                            "<tr><td>2016-02-15</td><td>NULL</td><td>246</td></tr>",
                            "<tr><td>2016-02-16</td><td>NULL</td><td>209</td></tr>",
                            "<tr><td>2016-02-17</td><td>NULL</td><td>250</td></tr>",
                            "<tr><td>2016-02-18</td><td>NULL</td><td>131</td></tr>",
                            "<tr><td>2016-02-19</td><td>NULL</td><td>217</td></tr>",
                            "<tr><td>2016-02-20</td><td>NULL</td><td>204</td></tr>",
                            "<tr><td>2016-02-21</td><td>NULL</td><td>206</td></tr>",
                            "<tr><td>2016-02-22</td><td>NULL</td><td>245</td></tr>",
                            "<tr><td>2016-02-23</td><td>NULL</td><td>183</td></tr>",
                            "<tr><td>2016-02-24</td><td>NULL</td><td>185</td></tr>",
                            "<tr><td>2016-02-25</td><td>NULL</td><td>188</td></tr>",
                            "<tr><td>2016-02-26</td><td>NULL</td><td>232</td></tr>",
                            "<tr><td>2016-02-27</td><td>NULL</td><td>199</td></tr>",
                            "<tr><td>2016-02-28</td><td>NULL</td><td>217</td></tr>",
                            "<tr><td>2016-02-29</td><td>NULL</td><td>223</td></tr>",
                            "<tr><td>2016-03-01</td><td>NULL</td><td>256</td></tr>",
                            "<tr><td>2016-03-02</td><td>NULL</td><td>203</td></tr>",
                            "<tr><td>2016-03-03</td><td>NULL</td><td>250</td></tr>",
                            "<tr><td>2016-03-04</td><td>NULL</td><td>220</td></tr>",
                            "<tr><td>2016-03-05</td><td>NULL</td><td>251</td></tr>",
                            "<tr><td>2016-03-06</td><td>NULL</td><td>184</td></tr>",
                            "<tr><td>2016-03-07</td><td>NULL</td><td>197</td></tr>",
                            "<tr><td>2016-03-08</td><td>NULL</td><td>159</td></tr>",
                            "<tr><td>2016-03-09</td><td>NULL</td><td>208</td></tr>",
                            "<tr><td>2016-03-10</td><td>NULL</td><td>235</td></tr>",
                            "<tr><td>2016-03-11</td><td>NULL</td><td>200</td></tr>",
                            "<tr><td>2016-03-12</td><td>NULL</td><td>260</td></tr>",
                            "<tr><td>2016-03-13</td><td>NULL</td><td>191</td></tr>",
                            "<tr><td>2016-03-14</td><td>NULL</td><td>224</td></tr>",
                            "<tr><td>2016-03-15</td><td>NULL</td><td>211</td></tr>",
                            "<tr><td>2016-03-16</td><td>NULL</td><td>169</td></tr>",
                            "<tr><td>2016-03-17</td><td>NULL</td><td>195</td></tr>",
                            "<tr><td>2016-03-18</td><td>NULL</td><td>192</td></tr>",
                            "<tr><td>2016-03-19</td><td>NULL</td><td>195</td></tr>",
                            "<tr><td>2016-03-20</td><td>NULL</td><td>308</td></tr>",
                            "<tr><td>2016-03-21</td><td>NULL</td><td>263</td></tr>",
                            "<tr><td>2016-03-22</td><td>NULL</td><td>224</td></tr>",
                            "<tr><td>2016-03-23</td><td>NULL</td><td>214</td></tr>",
                            "<tr><td>2016-03-24</td><td>NULL</td><td>199</td></tr>",
                            "<tr><td>2016-03-25</td><td>NULL</td><td>238</td></tr>",
                            "<tr><td>2016-03-26</td><td>NULL</td><td>238</td></tr>",
                            "<tr><td>2016-03-27</td><td>NULL</td><td>230</td></tr>",
                            "<tr><td>2016-03-28</td><td>NULL</td><td>174</td></tr>",
                            "<tr><td>2016-03-29</td><td>NULL</td><td>176</td></tr>",
                            "<tr><td>2016-03-30</td><td>NULL</td><td>222</td></tr>",
                            "<tr><td>2016-03-31</td><td>NULL</td><td>199</td></tr>",
                            "<tr><td>2016-04-01</td><td>NULL</td><td>227</td></tr>",
                            "<tr><td>2016-04-02</td><td>NULL</td><td>207</td></tr>",
                            "<tr><td>2016-04-03</td><td>NULL</td><td>203</td></tr>",
                            "<tr><td>2016-04-04</td><td>NULL</td><td>201</td></tr>",
                            "<tr><td>2016-04-05</td><td>NULL</td><td>216</td></tr>",
                            "<tr><td>2016-04-06</td><td>NULL</td><td>191</td></tr>",
                            "<tr><td>2016-04-07</td><td>NULL</td><td>220</td></tr>",
                            "<tr><td>2016-04-08</td><td>NULL</td><td>262</td></tr>",
                            "<tr><td>2016-04-09</td><td>NULL</td><td>257</td></tr>",
                            "<tr><td>2016-04-10</td><td>NULL</td><td>254</td></tr>",
                            "<tr><td>2016-04-11</td><td>NULL</td><td>235</td></tr>",
                            "<tr><td>2016-04-12</td><td>NULL</td><td>190</td></tr>",
                            "<tr><td>2016-04-13</td><td>NULL</td><td>190</td></tr>",
                            "<tr><td>2016-04-14</td><td>NULL</td><td>219</td></tr>",
                            "<tr><td>2016-04-15</td><td>NULL</td><td>233</td></tr>",
                            "<tr><td>2016-04-16</td><td>NULL</td><td>196</td></tr>",
                            "<tr><td>2016-04-17</td><td>NULL</td><td>266</td></tr>",
                            "<tr><td>2016-04-18</td><td>NULL</td><td>209</td></tr>",
                            "<tr><td>2016-04-19</td><td>NULL</td><td>242</td></tr>",
                            "<tr><td>2016-04-20</td><td>NULL</td><td>164</td></tr>",
                            "<tr><td>2016-04-21</td><td>NULL</td><td>172</td></tr>",
                            "<tr><td>2016-04-22</td><td>NULL</td><td>141</td></tr>",
                            "<tr><td>2016-04-23</td><td>NULL</td><td>189</td></tr>",
                            "<tr><td>2016-04-24</td><td>NULL</td><td>252</td></tr>",
                            "<tr><td>2016-04-25</td><td>NULL</td><td>272</td></tr>",
                            "<tr><td>2016-04-26</td><td>NULL</td><td>236</td></tr>",
                            "<tr><td>2016-04-27</td><td>NULL</td><td>210</td></tr>",
                            "<tr><td>2016-04-28</td><td>NULL</td><td>191</td></tr>",
                            "<tr><td>2016-04-29</td><td>NULL</td><td>223</td></tr>",
                            "<tr><td>2016-04-30</td><td>NULL</td><td>196</td></tr>",
                            "<tr><td>2016-05-01</td><td>NULL</td><td>182</td></tr>",
                            "<tr><td>2016-05-02</td><td>NULL</td><td>220</td></tr>",
                            "<tr><td>2016-05-03</td><td>NULL</td><td>153</td></tr>",
                            "<tr><td>2016-05-04</td><td>NULL</td><td>254</td></tr>",
                            "<tr><td>2016-05-05</td><td>NULL</td><td>212</td></tr>",
                            "<tr><td>2016-05-06</td><td>NULL</td><td>224</td></tr>",
                            "<tr><td>2016-05-07</td><td>NULL</td><td>210</td></tr>",
                            "<tr><td>2016-05-08</td><td>NULL</td><td>232</td></tr>",
                            "<tr><td>2016-05-09</td><td>NULL</td><td>269</td></tr>",
                            "<tr><td>2016-05-10</td><td>NULL</td><td>211</td></tr>",
                            "<tr><td>2016-05-11</td><td>NULL</td><td>214</td></tr>",
                            "<tr><td>2016-05-12</td><td>NULL</td><td>234</td></tr>",
                            "<tr><td>2016-05-13</td><td>NULL</td><td>183</td></tr>",
                            "<tr><td>2016-05-14</td><td>NULL</td><td>188</td></tr>",
                            "<tr><td>2016-05-15</td><td>NULL</td><td>144</td></tr>",
                            "<tr><td>2016-05-16</td><td>NULL</td><td>198</td></tr>",
                            "<tr><td>2016-05-17</td><td>NULL</td><td>223</td></tr>",
                            "<tr><td>2016-05-18</td><td>NULL</td><td>177</td></tr>",
                            "<tr><td>2016-05-19</td><td>NULL</td><td>211</td></tr>",
                            "<tr><td>2016-05-20</td><td>NULL</td><td>207</td></tr>",
                            "<tr><td>2016-05-21</td><td>NULL</td><td>209</td></tr>",
                            "<tr><td>2016-05-22</td><td>NULL</td><td>160</td></tr>",
                            "<tr><td>2016-05-23</td><td>NULL</td><td>208</td></tr>",
                            "<tr><td>2016-05-24</td><td>NULL</td><td>211</td></tr>",
                            "<tr><td>2016-05-25</td><td>NULL</td><td>230</td></tr>",
                            "<tr><td>2016-05-26</td><td>NULL</td><td>141</td></tr>",
                            "<tr><td>2016-05-27</td><td>NULL</td><td>234</td></tr>",
                            "<tr><td>2016-05-28</td><td>NULL</td><td>155</td></tr>",
                            "<tr><td>2016-05-29</td><td>NULL</td><td>216</td></tr>",
                            "<tr><td>2016-05-30</td><td>NULL</td><td>187</td></tr>",
                            "<tr><td>2016-05-31</td><td>NULL</td><td>242</td></tr>",
                            "<tr><td>2016-06-01</td><td>NULL</td><td>212</td></tr>",
                            "<tr><td>2016-06-02</td><td>NULL</td><td>201</td></tr>",
                            "<tr><td>2016-06-03</td><td>NULL</td><td>190</td></tr>",
                            "<tr><td>2016-06-04</td><td>NULL</td><td>212</td></tr>",
                            "<tr><td>2016-06-05</td><td>NULL</td><td>172</td></tr>",
                            "<tr><td>2016-06-06</td><td>NULL</td><td>231</td></tr>",
                            "<tr><td>2016-06-07</td><td>NULL</td><td>227</td></tr>",
                            "<tr><td>2016-06-08</td><td>NULL</td><td>218</td></tr>",
                            "<tr><td>2016-06-09</td><td>NULL</td><td>211</td></tr>",
                            "<tr><td>2016-06-10</td><td>NULL</td><td>229</td></tr>",
                            "<tr><td>2016-06-11</td><td>NULL</td><td>260</td></tr>",
                            "<tr><td>2016-06-12</td><td>NULL</td><td>222</td></tr>",
                            "<tr><td>2016-06-13</td><td>NULL</td><td>170</td></tr>",
                            "<tr><td>2016-06-14</td><td>NULL</td><td>205</td></tr>",
                            "<tr><td>2016-06-15</td><td>NULL</td><td>242</td></tr>",
                            "<tr><td>2016-06-16</td><td>NULL</td><td>168</td></tr>",
                            "<tr><td>2016-06-17</td><td>NULL</td><td>232</td></tr>",
                            "<tr><td>2016-06-18</td><td>NULL</td><td>164</td></tr>",
                            "<tr><td>2016-06-19</td><td>NULL</td><td>240</td></tr>",
                            "<tr><td>2016-06-20</td><td>NULL</td><td>204</td></tr>",
                            "<tr><td>2016-06-21</td><td>NULL</td><td>171</td></tr>",
                            "<tr><td>2016-06-22</td><td>NULL</td><td>190</td></tr>",
                            "<tr><td>2016-06-23</td><td>NULL</td><td>195</td></tr>",
                            "<tr><td>2016-06-24</td><td>NULL</td><td>224</td></tr>",
                            "<tr><td>2016-06-25</td><td>NULL</td><td>215</td></tr>",
                            "<tr><td>2016-06-26</td><td>NULL</td><td>252</td></tr>",
                            "<tr><td>2016-06-27</td><td>NULL</td><td>165</td></tr>",
                            "<tr><td>2016-06-28</td><td>NULL</td><td>229</td></tr>",
                            "<tr><td>2016-06-29</td><td>NULL</td><td>218</td></tr>",
                            "<tr><td>2016-06-30</td><td>NULL</td><td>217</td></tr>",
                            "<tr><td>2016-07-01</td><td>NULL</td><td>203</td></tr>",
                            "<tr><td>2016-07-02</td><td>NULL</td><td>202</td></tr>",
                            "<tr><td>2016-07-03</td><td>NULL</td><td>227</td></tr>",
                            "<tr><td>2016-07-04</td><td>NULL</td><td>282</td></tr>",
                            "<tr><td>2016-07-05</td><td>NULL</td><td>200</td></tr>",
                            "<tr><td>2016-07-06</td><td>NULL</td><td>200</td></tr>",
                            "<tr><td>2016-07-07</td><td>NULL</td><td>143</td></tr>",
                            "<tr><td>2016-07-08</td><td>NULL</td><td>196</td></tr>",
                            "<tr><td>2016-07-09</td><td>NULL</td><td>222</td></tr>",
                            "<tr><td>2016-07-10</td><td>NULL</td><td>200</td></tr>",
                            "<tr><td>2016-07-11</td><td>NULL</td><td>248</td></tr>",
                            "<tr><td>2016-07-12</td><td>NULL</td><td>224</td></tr>",
                            "<tr><td>2016-07-13</td><td>NULL</td><td>229</td></tr>",
                            "<tr><td>2016-07-14</td><td>NULL</td><td>179</td></tr>",
                            "<tr><td>2016-07-15</td><td>NULL</td><td>195</td></tr>",
                            "<tr><td>2016-07-16</td><td>NULL</td><td>196</td></tr>",
                            "<tr><td>2016-07-17</td><td>NULL</td><td>166</td></tr>",
                            "<tr><td>2016-07-18</td><td>NULL</td><td>185</td></tr>",
                            "<tr><td>2016-07-19</td><td>NULL</td><td>267</td></tr>",
                            "<tr><td>2016-07-20</td><td>NULL</td><td>199</td></tr>",
                            "<tr><td>2016-07-21</td><td>NULL</td><td>224</td></tr>",
                            "<tr><td>2016-07-22</td><td>NULL</td><td>206</td></tr>",
                            "<tr><td>2016-07-23</td><td>NULL</td><td>162</td></tr>",
                            "<tr><td>2016-07-24</td><td>NULL</td><td>178</td></tr>",
                            "<tr><td>2016-07-25</td><td>NULL</td><td>173</td></tr>",
                            "<tr><td>2016-07-26</td><td>NULL</td><td>202</td></tr>",
                            "<tr><td>2016-07-27</td><td>NULL</td><td>220</td></tr>",
                            "<tr><td>2016-07-28</td><td>NULL</td><td>172</td></tr>",
                            "<tr><td>2016-07-29</td><td>NULL</td><td>228</td></tr>",
                            "<tr><td>2016-07-30</td><td>NULL</td><td>172</td></tr>",
                            "<tr><td>2016-07-31</td><td>NULL</td><td>263</td></tr>",
                            "<tr><td>2016-08-01</td><td>NULL</td><td>218</td></tr>",
                            "<tr><td>2016-08-02</td><td>NULL</td><td>181</td></tr>",
                            "<tr><td>2016-08-03</td><td>NULL</td><td>200</td></tr>",
                            "<tr><td>2016-08-04</td><td>NULL</td><td>191</td></tr>",
                            "<tr><td>2016-08-05</td><td>NULL</td><td>220</td></tr>",
                            "<tr><td>2016-08-06</td><td>NULL</td><td>193</td></tr>",
                            "<tr><td>2016-08-07</td><td>NULL</td><td>180</td></tr>",
                            "<tr><td>2016-08-08</td><td>NULL</td><td>179</td></tr>",
                            "<tr><td>2016-08-09</td><td>NULL</td><td>244</td></tr>",
                            "<tr><td>2016-08-10</td><td>NULL</td><td>219</td></tr>",
                            "<tr><td>2016-08-11</td><td>NULL</td><td>204</td></tr>",
                            "<tr><td>2016-08-12</td><td>NULL</td><td>234</td></tr>",
                            "<tr><td>2016-08-13</td><td>NULL</td><td>265</td></tr>",
                            "<tr><td>2016-08-14</td><td>NULL</td><td>226</td></tr>",
                            "<tr><td>2016-08-15</td><td>NULL</td><td>280</td></tr>",
                            "<tr><td>2016-08-16</td><td>NULL</td><td>177</td></tr>",
                            "<tr><td>2016-08-17</td><td>NULL</td><td>204</td></tr>",
                            "<tr><td>2016-08-18</td><td>NULL</td><td>194</td></tr>",
                            "<tr><td>2016-08-19</td><td>NULL</td><td>184</td></tr>",
                            "<tr><td>2016-08-20</td><td>NULL</td><td>220</td></tr>",
                            "<tr><td>2016-08-21</td><td>NULL</td><td>203</td></tr>",
                            "<tr><td>2016-08-22</td><td>NULL</td><td>153</td></tr>",
                            "<tr><td>2016-08-23</td><td>NULL</td><td>194</td></tr>",
                            "<tr><td>2016-08-24</td><td>NULL</td><td>259</td></tr>",
                            "<tr><td>2016-08-25</td><td>NULL</td><td>218</td></tr>",
                            "<tr><td>2016-08-26</td><td>NULL</td><td>214</td></tr>",
                            "<tr><td>2016-08-27</td><td>NULL</td><td>249</td></tr>",
                            "<tr><td>2016-08-28</td><td>NULL</td><td>250</td></tr>",
                            "<tr><td>2016-08-29</td><td>NULL</td><td>180</td></tr>",
                            "<tr><td>2016-08-30</td><td>NULL</td><td>141</td></tr>",
                            "<tr><td>2016-08-31</td><td>NULL</td><td>175</td></tr>",
                            "<tr><td>2016-09-01</td><td>NULL</td><td>171</td></tr>",
                            "<tr><td>2016-09-02</td><td>NULL</td><td>231</td></tr>",
                            "<tr><td>2016-09-03</td><td>NULL</td><td>234</td></tr>",
                            "<tr><td>2016-09-04</td><td>NULL</td><td>251</td></tr>",
                            "<tr><td>2016-09-05</td><td>NULL</td><td>204</td></tr>",
                            "<tr><td>2016-09-06</td><td>NULL</td><td>247</td></tr>",
                            "<tr><td>2016-09-07</td><td>NULL</td><td>239</td></tr>",
                            "<tr><td>2016-09-08</td><td>NULL</td><td>224</td></tr>",
                            "<tr><td>2016-09-09</td><td>NULL</td><td>213</td></tr>",
                            "<tr><td>2016-09-10</td><td>NULL</td><td>196</td></tr>",
                            "<tr><td>2016-09-11</td><td>NULL</td><td>247</td></tr>",
                            "<tr><td>2016-09-12</td><td>NULL</td><td>160</td></tr>",
                            "<tr><td>2016-09-13</td><td>NULL</td><td>214</td></tr>",
                            "<tr><td>2016-09-14</td><td>NULL</td><td>249</td></tr>",
                            "<tr><td>2016-09-15</td><td>NULL</td><td>261</td></tr>",
                            "<tr><td>2016-09-16</td><td>NULL</td><td>190</td></tr>",
                            "<tr><td>2016-09-17</td><td>NULL</td><td>194</td></tr>",
                            "<tr><td>2016-09-18</td><td>NULL</td><td>257</td></tr>",
                            "<tr><td>2016-09-19</td><td>NULL</td><td>163</td></tr>",
                            "<tr><td>2016-09-20</td><td>NULL</td><td>213</td></tr>",
                            "<tr><td>2016-09-21</td><td>NULL</td><td>134</td></tr>",
                            "<tr><td>2016-09-22</td><td>NULL</td><td>176</td></tr>",
                            "<tr><td>2016-09-23</td><td>NULL</td><td>185</td></tr>",
                            "<tr><td>2016-09-24</td><td>NULL</td><td>176</td></tr>",
                            "<tr><td>2016-09-25</td><td>NULL</td><td>192</td></tr>",
                            "<tr><td>2016-09-26</td><td>NULL</td><td>202</td></tr>",
                            "<tr><td>2016-09-27</td><td>NULL</td><td>244</td></tr>",
                            "<tr><td>2016-09-28</td><td>NULL</td><td>220</td></tr>",
                            "<tr><td>2016-09-29</td><td>NULL</td><td>160</td></tr>",
                            "<tr><td>2016-09-30</td><td>NULL</td><td>257</td></tr>",
                            "<tr><td>2016-10-01</td><td>NULL</td><td>215</td></tr>",
                            "<tr><td>2016-10-02</td><td>NULL</td><td>204</td></tr>",
                            "<tr><td>2016-10-03</td><td>NULL</td><td>189</td></tr>",
                            "<tr><td>2016-10-04</td><td>NULL</td><td>191</td></tr>",
                            "<tr><td>2016-10-05</td><td>NULL</td><td>232</td></tr>",
                            "<tr><td>2016-10-06</td><td>NULL</td><td>198</td></tr>",
                            "<tr><td>2016-10-07</td><td>NULL</td><td>183</td></tr>",
                            "<tr><td>2016-10-08</td><td>NULL</td><td>212</td></tr>",
                            "<tr><td>2016-10-09</td><td>NULL</td><td>241</td></tr>",
                            "<tr><td>2016-10-10</td><td>NULL</td><td>188</td></tr>",
                            "<tr><td>2016-10-11</td><td>NULL</td><td>227</td></tr>",
                            "<tr><td>2016-10-12</td><td>NULL</td><td>265</td></tr>",
                            "<tr><td>2016-10-13</td><td>NULL</td><td>247</td></tr>",
                            "<tr><td>2016-10-14</td><td>NULL</td><td>188</td></tr>",
                            "<tr><td>2016-10-15</td><td>NULL</td><td>237</td></tr>",
                            "<tr><td>2016-10-16</td><td>NULL</td><td>190</td></tr>",
                            "<tr><td>2016-10-17</td><td>NULL</td><td>286</td></tr>",
                            "<tr><td>2016-10-18</td><td>NULL</td><td>187</td></tr>",
                            "<tr><td>2016-10-19</td><td>NULL</td><td>234</td></tr>",
                            "<tr><td>2016-10-20</td><td>NULL</td><td>173</td></tr>",
                            "<tr><td>2016-10-21</td><td>NULL</td><td>258</td></tr>",
                            "<tr><td>2016-10-22</td><td>NULL</td><td>243</td></tr>",
                            "<tr><td>2016-10-23</td><td>NULL</td><td>228</td></tr>",
                            "<tr><td>2016-10-24</td><td>NULL</td><td>141</td></tr>",
                            "<tr><td>2016-10-25</td><td>NULL</td><td>285</td></tr>",
                            "<tr><td>2016-10-26</td><td>NULL</td><td>185</td></tr>",
                            "<tr><td>2016-10-27</td><td>NULL</td><td>208</td></tr>",
                            "<tr><td>2016-10-28</td><td>NULL</td><td>202</td></tr>",
                            "<tr><td>2016-10-29</td><td>NULL</td><td>184</td></tr>",
                            "<tr><td>2016-10-30</td><td>NULL</td><td>282</td></tr>",
                            "<tr><td>2016-10-31</td><td>NULL</td><td>242</td></tr>",
                            "<tr><td>2016-11-01</td><td>NULL</td><td>198</td></tr>",
                            "<tr><td>2016-11-02</td><td>NULL</td><td>173</td></tr>",
                            "<tr><td>2016-11-03</td><td>NULL</td><td>193</td></tr>",
                            "<tr><td>2016-11-04</td><td>NULL</td><td>173</td></tr>",
                            "<tr><td>2016-11-05</td><td>NULL</td><td>227</td></tr>",
                            "<tr><td>2016-11-06</td><td>NULL</td><td>220</td></tr>",
                            "<tr><td>2016-11-07</td><td>NULL</td><td>174</td></tr>",
                            "<tr><td>2016-11-08</td><td>NULL</td><td>215</td></tr>",
                            "<tr><td>2016-11-09</td><td>NULL</td><td>160</td></tr>",
                            "<tr><td>2016-11-10</td><td>NULL</td><td>193</td></tr>",
                            "<tr><td>2016-11-11</td><td>NULL</td><td>182</td></tr>",
                            "<tr><td>2016-11-12</td><td>NULL</td><td>268</td></tr>",
                            "<tr><td>2016-11-13</td><td>NULL</td><td>255</td></tr>",
                            "<tr><td>2016-11-14</td><td>NULL</td><td>278</td></tr>",
                            "<tr><td>2016-11-15</td><td>NULL</td><td>179</td></tr>",
                            "<tr><td>2016-11-16</td><td>NULL</td><td>243</td></tr>",
                            "<tr><td>2016-11-17</td><td>NULL</td><td>189</td></tr>",
                            "<tr><td>2016-11-18</td><td>NULL</td><td>197</td></tr>",
                            "<tr><td>2016-11-19</td><td>NULL</td><td>196</td></tr>",
                            "<tr><td>2016-11-20</td><td>NULL</td><td>207</td></tr>",
                            "<tr><td>2016-11-21</td><td>NULL</td><td>188</td></tr>",
                            "<tr><td>2016-11-22</td><td>NULL</td><td>193</td></tr>",
                            "<tr><td>2016-11-23</td><td>NULL</td><td>170</td></tr>",
                            "<tr><td>2016-11-24</td><td>NULL</td><td>190</td></tr>",
                            "<tr><td>2016-11-25</td><td>NULL</td><td>178</td></tr>",
                            "<tr><td>2016-11-26</td><td>NULL</td><td>251</td></tr>",
                            "<tr><td>2016-11-27</td><td>NULL</td><td>243</td></tr>",
                            "<tr><td>2016-11-28</td><td>NULL</td><td>244</td></tr>",
                            "<tr><td>2016-11-29</td><td>NULL</td><td>230</td></tr>",
                            "<tr><td>2016-11-30</td><td>NULL</td><td>165</td></tr>",
                            "<tr><td>2016-12-01</td><td>NULL</td><td>258</td></tr>",
                            "<tr><td>2016-12-02</td><td>NULL</td><td>158</td></tr>",
                            "<tr><td>2016-12-03</td><td>NULL</td><td>167</td></tr>",
                            "<tr><td>2016-12-04</td><td>NULL</td><td>248</td></tr>",
                            "<tr><td>2016-12-05</td><td>NULL</td><td>215</td></tr>",
                            "<tr><td>2016-12-06</td><td>NULL</td><td>190</td></tr>",
                            "<tr><td>2016-12-07</td><td>NULL</td><td>205</td></tr>",
                            "<tr><td>2016-12-08</td><td>NULL</td><td>222</td></tr>",
                            "<tr><td>2016-12-09</td><td>NULL</td><td>229</td></tr>",
                            "<tr><td>2016-12-10</td><td>NULL</td><td>223</td></tr>",
                            "<tr><td>2016-12-11</td><td>NULL</td><td>207</td></tr>",
                            "<tr><td>2016-12-12</td><td>NULL</td><td>207</td></tr>",
                            "<tr><td>2016-12-13</td><td>NULL</td><td>220</td></tr>",
                            "<tr><td>2016-12-14</td><td>NULL</td><td>196</td></tr>",
                            "<tr><td>2016-12-15</td><td>NULL</td><td>178</td></tr>",
                            "<tr><td>2016-12-16</td><td>NULL</td><td>174</td></tr>",
                            "<tr><td>2016-12-17</td><td>NULL</td><td>198</td></tr>",
                            "<tr><td>2016-12-18</td><td>NULL</td><td>156</td></tr>",
                            "<tr><td>2016-12-19</td><td>NULL</td><td>147</td></tr>",
                            "<tr><td>2016-12-20</td><td>NULL</td><td>210</td></tr>",
                            "<tr><td>2016-12-21</td><td>NULL</td><td>263</td></tr>",
                            "<tr><td>2016-12-22</td><td>NULL</td><td>166</td></tr>",
                            "<tr><td>2016-12-23</td><td>NULL</td><td>215</td></tr>",
                            "<tr><td>2016-12-24</td><td>NULL</td><td>160</td></tr>",
                            "<tr><td>2016-12-25</td><td>NULL</td><td>215</td></tr>",
                            "<tr><td>2016-12-26</td><td>NULL</td><td>258</td></tr>",
                            "<tr><td>2016-12-27</td><td>NULL</td><td>260</td></tr>",
                            "<tr><td>2016-12-28</td><td>NULL</td><td>170</td></tr>",
                            "<tr><td>2016-12-29</td><td>NULL</td><td>289</td></tr>",
                            "<tr><td>2016-12-30</td><td>NULL</td><td>202</td></tr>",
                            "<tr><td>2016-12-31</td><td>NULL</td><td>199</td></tr>",
                            "<tr><td>2017-01-01</td><td>NULL</td><td>195</td></tr>",
                            "<tr><td>2017-01-02</td><td>NULL</td><td>185</td></tr>",
                            "<tr><td>2017-01-03</td><td>NULL</td><td>174</td></tr>",
                            "<tr><td>2017-01-04</td><td>NULL</td><td>202</td></tr>",
                            "<tr><td>2017-01-05</td><td>NULL</td><td>219</td></tr>",
                            "<tr><td>2017-01-06</td><td>NULL</td><td>223</td></tr>",
                            "<tr><td>2017-01-07</td><td>NULL</td><td>201</td></tr>",
                            "<tr><td>2017-01-08</td><td>NULL</td><td>161</td></tr>",
                            "<tr><td>2017-01-09</td><td>NULL</td><td>254</td></tr>",
                            "<tr><td>2017-01-10</td><td>NULL</td><td>193</td></tr>",
                            "<tr><td>2017-01-11</td><td>NULL</td><td>246</td></tr>",
                            "<tr><td>2017-01-12</td><td>NULL</td><td>202</td></tr>",
                            "<tr><td>2017-01-13</td><td>NULL</td><td>218</td></tr>",
                            "<tr><td>2017-01-14</td><td>NULL</td><td>221</td></tr>",
                            "<tr><td>2017-01-15</td><td>NULL</td><td>183</td></tr>",
                            "<tr><td>2017-01-16</td><td>NULL</td><td>191</td></tr>",
                            "<tr><td>2017-01-17</td><td>NULL</td><td>231</td></tr>",
                            "<tr><td>2017-01-18</td><td>NULL</td><td>197</td></tr>",
                            "<tr><td>2017-01-19</td><td>NULL</td><td>185</td></tr>",
                            "<tr><td>2017-01-20</td><td>NULL</td><td>174</td></tr>",
                            "<tr><td>2017-01-21</td><td>NULL</td><td>180</td></tr>",
                            "<tr><td>2017-01-22</td><td>NULL</td><td>226</td></tr>",
                            "<tr><td>2017-01-23</td><td>NULL</td><td>232</td></tr>",
                            "<tr><td>2017-01-24</td><td>NULL</td><td>205</td></tr>",
                            "<tr><td>2017-01-25</td><td>NULL</td><td>169</td></tr>",
                            "<tr><td>2017-01-26</td><td>NULL</td><td>238</td></tr>",
                            "<tr><td>2017-01-27</td><td>NULL</td><td>119</td></tr>",
                            "<tr><td>2017-01-28</td><td>NULL</td><td>204</td></tr>",
                            "<tr><td>2017-01-29</td><td>NULL</td><td>225</td></tr>",
                            "<tr><td>2017-01-30</td><td>NULL</td><td>210</td></tr>",
                            "<tr><td>2017-01-31</td><td>NULL</td><td>185</td></tr>",
                            "<tr><td>2017-02-01</td><td>NULL</td><td>147</td></tr>",
                            "<tr><td>2017-02-02</td><td>NULL</td><td>243</td></tr>",
                            "<tr><td>2017-02-03</td><td>NULL</td><td>193</td></tr>",
                            "<tr><td>2017-02-04</td><td>NULL</td><td>174</td></tr>",
                            "<tr><td>2017-02-05</td><td>NULL</td><td>131</td></tr>",
                            "<tr><td>2017-02-06</td><td>NULL</td><td>204</td></tr>",
                            "<tr><td>2017-02-07</td><td>NULL</td><td>202</td></tr>",
                            "<tr><td>2017-02-08</td><td>NULL</td><td>255</td></tr>",
                            "<tr><td>2017-02-09</td><td>NULL</td><td>197</td></tr>",
                            "<tr><td>2017-02-10</td><td>NULL</td><td>234</td></tr>",
                            "<tr><td>2017-02-11</td><td>NULL</td><td>191</td></tr>",
                            "<tr><td>2017-02-12</td><td>NULL</td><td>160</td></tr>",
                            "<tr><td>2017-02-13</td><td>NULL</td><td>213</td></tr>",
                            "<tr><td>2017-02-14</td><td>NULL</td><td>229</td></tr>",
                            "<tr><td>2017-02-15</td><td>NULL</td><td>179</td></tr>",
                            "<tr><td>2017-02-16</td><td>NULL</td><td>232</td></tr>",
                            "<tr><td>2017-02-17</td><td>NULL</td><td>229</td></tr>",
                            "<tr><td>2017-02-18</td><td>NULL</td><td>253</td></tr>",
                            "<tr><td>2017-02-19</td><td>NULL</td><td>193</td></tr>",
                            "<tr><td>2017-02-20</td><td>NULL</td><td>129</td></tr>",
                            "<tr><td>2017-02-21</td><td>NULL</td><td>193</td></tr>",
                            "<tr><td>2017-02-22</td><td>NULL</td><td>229</td></tr>",
                            "<tr><td>2017-02-23</td><td>NULL</td><td>191</td></tr>",
                            "<tr><td>2017-02-24</td><td>NULL</td><td>178</td></tr>",
                            "<tr><td>2017-02-25</td><td>NULL</td><td>182</td></tr>",
                            "<tr><td>2017-02-26</td><td>NULL</td><td>216</td></tr>",
                            "<tr><td>2017-02-27</td><td>NULL</td><td>226</td></tr>",
                            "<tr><td>2017-02-28</td><td>NULL</td><td>294</td></tr>",
                            "<tr><td>2017-03-01</td><td>NULL</td><td>155</td></tr>",
                            "<tr><td>2017-03-02</td><td>NULL</td><td>134</td></tr>",
                            "<tr><td>2017-03-03</td><td>NULL</td><td>213</td></tr>",
                            "<tr><td>2017-03-04</td><td>NULL</td><td>148</td></tr>",
                            "<tr><td>2017-03-05</td><td>NULL</td><td>244</td></tr>",
                            "<tr><td>2017-03-06</td><td>NULL</td><td>274</td></tr>",
                            "<tr><td>2017-03-07</td><td>NULL</td><td>241</td></tr>",
                            "<tr><td>2017-03-08</td><td>NULL</td><td>179</td></tr>",
                            "<tr><td>2017-03-09</td><td>NULL</td><td>189</td></tr>",
                            "<tr><td>2017-03-10</td><td>NULL</td><td>176</td></tr>",
                            "<tr><td>2017-03-11</td><td>NULL</td><td>189</td></tr>",
                            "<tr><td>2017-03-12</td><td>NULL</td><td>175</td></tr>",
                            "<tr><td>2017-03-13</td><td>NULL</td><td>170</td></tr>",
                            "<tr><td>2017-03-14</td><td>NULL</td><td>178</td></tr>",
                            "<tr><td>2017-03-15</td><td>NULL</td><td>247</td></tr>",
                            "<tr><td>2017-03-16</td><td>NULL</td><td>235</td></tr>",
                            "<tr><td>2017-03-17</td><td>NULL</td><td>240</td></tr>",
                            "<tr><td>2017-03-18</td><td>NULL</td><td>220</td></tr>",
                            "<tr><td>2017-03-19</td><td>NULL</td><td>248</td></tr>",
                            "<tr><td>2017-03-20</td><td>NULL</td><td>191</td></tr>",
                            "<tr><td>2017-03-21</td><td>NULL</td><td>216</td></tr>",
                            "<tr><td>2017-03-22</td><td>NULL</td><td>162</td></tr>",
                            "<tr><td>2017-03-23</td><td>NULL</td><td>230</td></tr>",
                            "<tr><td>2017-03-24</td><td>NULL</td><td>231</td></tr>",
                            "<tr><td>2017-03-25</td><td>NULL</td><td>171</td></tr>",
                            "<tr><td>2017-03-26</td><td>NULL</td><td>217</td></tr>",
                            "<tr><td>2017-03-27</td><td>NULL</td><td>208</td></tr>",
                            "<tr><td>2017-03-28</td><td>NULL</td><td>200</td></tr>",
                            "<tr><td>2017-03-29</td><td>NULL</td><td>219</td></tr>",
                            "<tr><td>2017-03-30</td><td>NULL</td><td>236</td></tr>",
                            "<tr><td>2017-03-31</td><td>NULL</td><td>220</td></tr>",
                            "<tr><td>2017-04-01</td><td>NULL</td><td>170</td></tr>",
                            "<tr><td>2017-04-02</td><td>NULL</td><td>213</td></tr>",
                            "<tr><td>2017-04-03</td><td>NULL</td><td>188</td></tr>",
                            "<tr><td>2017-04-04</td><td>NULL</td><td>175</td></tr>",
                            "<tr><td>2017-04-05</td><td>NULL</td><td>188</td></tr>",
                            "<tr><td>2017-04-06</td><td>NULL</td><td>106</td></tr>",
                            "<tr><td>2017-04-07</td><td>NULL</td><td>152</td></tr>",
                            "<tr><td>2017-04-08</td><td>NULL</td><td>120</td></tr>",
                            "<tr><td>2017-04-09</td><td>NULL</td><td>79</td></tr>",
                            "<tr><td>2017-04-10</td><td>NULL</td><td>32</td></tr>",
                            "<tr><td>2017-04-11</td><td>NULL</td><td>21</td></tr>",
                            "<tr><td>NULL</td><td>NULL</td><td>145706</td></tr>",
                            "</table>"
                        ]
                    }
                }
            ],
            "execution_count": 14
        },
        {
            "cell_type": "markdown",
            "source": [
                "```\n",
                "3. Hány olyan ügyfél van, aki még nem rendelt semmit?\n",
                "```\n",
                "\n",
                "1. Csoportosítsuk őket nem szerint, azon belül életkor szerint!\n",
                "2. A lista tartalmazza a részösszegeket és a végösszeget is!\n",
                "\n",
                "![](https://moodle.uni-corvinus.hu/theme/image.php/adaptable/atto_h5p/1709548862/icon)"
            ],
            "metadata": {
                "azdata_cell_guid": "d7876bb9-76d0-4d07-baed-3cb17b2f96c3"
            },
            "attachments": {}
        },
        {
            "cell_type": "code",
            "source": [
                ""
            ],
            "metadata": {
                "azdata_cell_guid": "56ec19ce-e249-4551-b2a8-f17569765acc",
                "language": "sql"
            },
            "outputs": [],
            "execution_count": null
        },
        {
            "cell_type": "markdown",
            "source": [
                "4. <span style=\"color: rgb(36, 41, 47); font-family: -apple-system, BlinkMacSystemFont, &quot;Segoe UI&quot;, Helvetica, Arial, sans-serif, &quot;Apple Color Emoji&quot;, &quot;Segoe UI Emoji&quot;; font-size: 16px;\">Készítsünk listát a megrendelt termékek legkisebb és legnagyobb egységáráról szállítási dátum, azon belül szállítási mód szerinti bontásban!</span>\n",
                "\n",
                "1. A lista csak a 2015 májusi szállításokat tartalmazza!\n",
                "2. Jelenítsük meg a részösszegeket és a végösszeget is!"
            ],
            "metadata": {
                "azdata_cell_guid": "8e7fef82-8022-49a0-8255-fc2846c2134b"
            },
            "attachments": {}
        },
        {
            "cell_type": "code",
            "source": [
                ""
            ],
            "metadata": {
                "azdata_cell_guid": "36f7b396-4a1f-45e5-8720-2302537c91bc",
                "language": "sql"
            },
            "outputs": [],
            "execution_count": null
        },
        {
            "cell_type": "markdown",
            "source": [
                "5. <span style=\"color: rgb(36, 41, 47); font-family: -apple-system, BlinkMacSystemFont, &quot;Segoe UI&quot;, Helvetica, Arial, sans-serif, &quot;Apple Color Emoji&quot;, &quot;Segoe UI Emoji&quot;; font-size: 16px;\">Készítsünk csoportot a termékek listaára alapján a következők szerint:&nbsp;<br></span> <span style=\"color: rgb(36, 41, 47); font-family: -apple-system, BlinkMacSystemFont, &quot;Segoe UI&quot;, Helvetica, Arial, sans-serif, &quot;Apple Color Emoji&quot;, &quot;Segoe UI Emoji&quot;; font-size: 16px;\">Az \"olcsó\" termékek legyenek azok, amelyek listaára 3000 alatt van.<br>&nbsp;A \"drága\" termékek legyenek az 5000 felettiek, a többi legyen \"közepes\".</span>\n",
                "\n",
                "1. Listázzuk az egyes csoportokat, és a csoportokba tartozó termékek darabszámát!\n",
                "2. A lista jelenítse meg a végösszeget is!"
            ],
            "metadata": {
                "azdata_cell_guid": "84239ca2-6b5e-49f5-9860-d44c11d6de32"
            },
            "attachments": {}
        },
        {
            "cell_type": "code",
            "source": [
                ""
            ],
            "metadata": {
                "azdata_cell_guid": "06d9a62b-9430-424b-a135-d80e675f0eb3",
                "language": "sql"
            },
            "outputs": [],
            "execution_count": null
        },
        {
            "cell_type": "markdown",
            "source": [
                "6. <span style=\"font-weight: 600; color: rgb(36, 41, 47); font-family: -apple-system, BlinkMacSystemFont, &quot;Segoe UI&quot;, Helvetica, Arial, sans-serif, &quot;Apple Color Emoji&quot;, &quot;Segoe UI Emoji&quot;; font-size: 16px;\">Készítsünk listát az ügyfelek adatairól név szerinti sorrendben.</span>\n",
                "\n",
                "1. Minden sorban jelenjen meg a sorrend szerint előző, illetve következő ügyfél neve is.\n",
                "2. Ha nincs előző vagy következő ügyfél, akkor a 'Nincs' jelenjen meg!"
            ],
            "metadata": {
                "azdata_cell_guid": "b0d15045-3c43-4f3a-b8d4-76b4f24e5546"
            },
            "attachments": {}
        },
        {
            "cell_type": "code",
            "source": [
                ""
            ],
            "metadata": {
                "azdata_cell_guid": "f2b7400d-1255-40ac-9250-4d57f9da5357",
                "language": "sql"
            },
            "outputs": [],
            "execution_count": null
        },
        {
            "cell_type": "markdown",
            "source": [
                "7. <span style=\"font-weight: 600; color: rgb(36, 41, 47); font-family: -apple-system, BlinkMacSystemFont, &quot;Segoe UI&quot;, Helvetica, Arial, sans-serif, &quot;Apple Color Emoji&quot;, &quot;Segoe UI Emoji&quot;; font-size: 16px;\">Készítsünk lekérdezést, amely megmutatja, hogy melyik termékkategóriába hány termék tartozik. A lista a kategória nevét és a darabszámot jelenítse meg.</span>\n",
                "\n",
                "1. A lista ne tartalmazzon duplikált sorokat.\n",
                "2. A feladatot partíciók segítségével oldjuk meg!"
            ],
            "metadata": {
                "azdata_cell_guid": "7ebf7ddd-1bd2-4246-815a-be8ae37e3b5b"
            },
            "attachments": {}
        },
        {
            "cell_type": "code",
            "source": [
                "SELECT distinct tk.KAT_NEV, --tk.szulo_kat,\r\n",
                "COUNT(*) OVER(PARTITION BY tk.KAT_NEV)\r\n",
                "--AVG(t.LISTAAR) OVER(PARTITION BY tk.KAT_NEV)\r\n",
                "FROM Termek t JOIN Termekkategoria tk \r\n",
                "ON t.KAT_ID = tk.KAT_ID"
            ],
            "metadata": {
                "azdata_cell_guid": "84b7e896-f36e-4985-88f5-e0f706494fef",
                "language": "sql"
            },
            "outputs": [
                {
                    "output_type": "display_data",
                    "data": {
                        "text/html": "(143 rows affected)"
                    },
                    "metadata": {}
                },
                {
                    "output_type": "display_data",
                    "data": {
                        "text/html": "Total execution time: 00:00:00.125"
                    },
                    "metadata": {}
                },
                {
                    "output_type": "execute_result",
                    "metadata": {},
                    "execution_count": 24,
                    "data": {
                        "application/vnd.dataresource+json": {
                            "schema": {
                                "fields": [
                                    {
                                        "name": "KAT_NEV"
                                    },
                                    {
                                        "name": "(No column name)"
                                    }
                                ]
                            },
                            "data": [
                                {
                                    "KAT_NEV": "ajándék tárgy",
                                    "(No column name)": "3"
                                },
                                {
                                    "KAT_NEV": "ajándék tasak",
                                    "(No column name)": "20"
                                },
                                {
                                    "KAT_NEV": "álarc",
                                    "(No column name)": "3"
                                },
                                {
                                    "KAT_NEV": "alkalmi",
                                    "(No column name)": "3"
                                },
                                {
                                    "KAT_NEV": "alufólia",
                                    "(No column name)": "2"
                                },
                                {
                                    "KAT_NEV": "árazószalag",
                                    "(No column name)": "1"
                                },
                                {
                                    "KAT_NEV": "átírótömb",
                                    "(No column name)": "1"
                                },
                                {
                                    "KAT_NEV": "beíró",
                                    "(No column name)": "1"
                                },
                                {
                                    "KAT_NEV": "beírókönyv",
                                    "(No column name)": "2"
                                },
                                {
                                    "KAT_NEV": "bélyegző",
                                    "(No column name)": "4"
                                },
                                {
                                    "KAT_NEV": "bélyegzőfesték",
                                    "(No column name)": "1"
                                },
                                {
                                    "KAT_NEV": "boríték",
                                    "(No column name)": "7"
                                },
                                {
                                    "KAT_NEV": "cd tok",
                                    "(No column name)": "1"
                                },
                                {
                                    "KAT_NEV": "celofán",
                                    "(No column name)": "2"
                                },
                                {
                                    "KAT_NEV": "ceruza",
                                    "(No column name)": "19"
                                },
                                {
                                    "KAT_NEV": "címke",
                                    "(No column name)": "3"
                                },
                                {
                                    "KAT_NEV": "color copy",
                                    "(No column name)": "5"
                                },
                                {
                                    "KAT_NEV": "csomagoló",
                                    "(No column name)": "2"
                                },
                                {
                                    "KAT_NEV": "csomagoló papír",
                                    "(No column name)": "7"
                                },
                                {
                                    "KAT_NEV": "dekor",
                                    "(No column name)": "4"
                                },
                                {
                                    "KAT_NEV": "dipa",
                                    "(No column name)": "1"
                                },
                                {
                                    "KAT_NEV": "díszdoboz",
                                    "(No column name)": "3"
                                },
                                {
                                    "KAT_NEV": "díszkötöző",
                                    "(No column name)": "5"
                                },
                                {
                                    "KAT_NEV": "dvd",
                                    "(No column name)": "1"
                                },
                                {
                                    "KAT_NEV": "ecset",
                                    "(No column name)": "7"
                                },
                                {
                                    "KAT_NEV": "előlap",
                                    "(No column name)": "1"
                                },
                                {
                                    "KAT_NEV": "emlékkönyv",
                                    "(No column name)": "3"
                                },
                                {
                                    "KAT_NEV": "emléklap",
                                    "(No column name)": "1"
                                },
                                {
                                    "KAT_NEV": "fax papír",
                                    "(No column name)": "1"
                                },
                                {
                                    "KAT_NEV": "fehérnemű",
                                    "(No column name)": "7"
                                },
                                {
                                    "KAT_NEV": "fénymásoló papír",
                                    "(No column name)": "5"
                                },
                                {
                                    "KAT_NEV": "férfi ing",
                                    "(No column name)": "1"
                                },
                                {
                                    "KAT_NEV": "férfi kabát",
                                    "(No column name)": "1"
                                },
                                {
                                    "KAT_NEV": "férfi nadrág",
                                    "(No column name)": "2"
                                },
                                {
                                    "KAT_NEV": "festékpatron",
                                    "(No column name)": "1"
                                },
                                {
                                    "KAT_NEV": "filctoll",
                                    "(No column name)": "13"
                                },
                                {
                                    "KAT_NEV": "floppy",
                                    "(No column name)": "1"
                                },
                                {
                                    "KAT_NEV": "fólia",
                                    "(No column name)": "3"
                                },
                                {
                                    "KAT_NEV": "fotópapír",
                                    "(No column name)": "1"
                                },
                                {
                                    "KAT_NEV": "füzet",
                                    "(No column name)": "11"
                                },
                                {
                                    "KAT_NEV": "füzetborító",
                                    "(No column name)": "7"
                                },
                                {
                                    "KAT_NEV": "füzettartó",
                                    "(No column name)": "4"
                                },
                                {
                                    "KAT_NEV": "gemkapocs",
                                    "(No column name)": "2"
                                },
                                {
                                    "KAT_NEV": "gémkapocs",
                                    "(No column name)": "2"
                                },
                                {
                                    "KAT_NEV": "genoterm",
                                    "(No column name)": "1"
                                },
                                {
                                    "KAT_NEV": "genotherm",
                                    "(No column name)": "3"
                                },
                                {
                                    "KAT_NEV": "golyóstoll",
                                    "(No column name)": "26"
                                },
                                {
                                    "KAT_NEV": "gumigyűrű",
                                    "(No column name)": "1"
                                },
                                {
                                    "KAT_NEV": "gyermek cipő",
                                    "(No column name)": "6"
                                },
                                {
                                    "KAT_NEV": "gyermek kabát",
                                    "(No column name)": "2"
                                },
                                {
                                    "KAT_NEV": "gyermek nadrág",
                                    "(No column name)": "4"
                                },
                                {
                                    "KAT_NEV": "gyermek póló",
                                    "(No column name)": "2"
                                },
                                {
                                    "KAT_NEV": "gyorsfűző",
                                    "(No column name)": "3"
                                },
                                {
                                    "KAT_NEV": "gyurma",
                                    "(No column name)": "4"
                                },
                                {
                                    "KAT_NEV": "gyűrűskönyv",
                                    "(No column name)": "5"
                                },
                                {
                                    "KAT_NEV": "hajgumi",
                                    "(No column name)": "1"
                                },
                                {
                                    "KAT_NEV": "határidő napló",
                                    "(No column name)": "2"
                                },
                                {
                                    "KAT_NEV": "hegyező",
                                    "(No column name)": "4"
                                },
                                {
                                    "KAT_NEV": "hegyző",
                                    "(No column name)": "2"
                                },
                                {
                                    "KAT_NEV": "hibajavító",
                                    "(No column name)": "7"
                                },
                                {
                                    "KAT_NEV": "hűtőmágnes",
                                    "(No column name)": "2"
                                },
                                {
                                    "KAT_NEV": "indigó",
                                    "(No column name)": "2"
                                },
                                {
                                    "KAT_NEV": "írásvetítő fólia",
                                    "(No column name)": "1"
                                },
                                {
                                    "KAT_NEV": "iratgyűjtő",
                                    "(No column name)": "3"
                                },
                                {
                                    "KAT_NEV": "iratrendező",
                                    "(No column name)": "2"
                                },
                                {
                                    "KAT_NEV": "iratsín",
                                    "(No column name)": "2"
                                },
                                {
                                    "KAT_NEV": "irattartó",
                                    "(No column name)": "2"
                                },
                                {
                                    "KAT_NEV": "irodaszer",
                                    "(No column name)": "1"
                                },
                                {
                                    "KAT_NEV": "írólap",
                                    "(No column name)": "2"
                                },
                                {
                                    "KAT_NEV": "ironbél",
                                    "(No column name)": "5"
                                },
                                {
                                    "KAT_NEV": "iskolaszer",
                                    "(No column name)": "24"
                                },
                                {
                                    "KAT_NEV": "játékautó",
                                    "(No column name)": "4"
                                },
                                {
                                    "KAT_NEV": "jelzőkréta",
                                    "(No column name)": "1"
                                },
                                {
                                    "KAT_NEV": "kapocskiszedő",
                                    "(No column name)": "1"
                                },
                                {
                                    "KAT_NEV": "karton",
                                    "(No column name)": "6"
                                },
                                {
                                    "KAT_NEV": "kártya",
                                    "(No column name)": "1"
                                },
                                {
                                    "KAT_NEV": "képeslap",
                                    "(No column name)": "16"
                                },
                                {
                                    "KAT_NEV": "képkirakó",
                                    "(No column name)": "1"
                                },
                                {
                                    "KAT_NEV": "kosztüm",
                                    "(No column name)": "2"
                                },
                                {
                                    "KAT_NEV": "könyv",
                                    "(No column name)": "15"
                                },
                                {
                                    "KAT_NEV": "körző",
                                    "(No column name)": "3"
                                },
                                {
                                    "KAT_NEV": "kreatív",
                                    "(No column name)": "2"
                                },
                                {
                                    "KAT_NEV": "kulcstartó",
                                    "(No column name)": "7"
                                },
                                {
                                    "KAT_NEV": "labda",
                                    "(No column name)": "2"
                                },
                                {
                                    "KAT_NEV": "levélpapír",
                                    "(No column name)": "7"
                                },
                                {
                                    "KAT_NEV": "lufi",
                                    "(No column name)": "2"
                                },
                                {
                                    "KAT_NEV": "lyukasztó",
                                    "(No column name)": "2"
                                },
                                {
                                    "KAT_NEV": "mappa",
                                    "(No column name)": "9"
                                },
                                {
                                    "KAT_NEV": "matrica",
                                    "(No column name)": "10"
                                },
                                {
                                    "KAT_NEV": "meghívó",
                                    "(No column name)": "4"
                                },
                                {
                                    "KAT_NEV": "miliméterpapír",
                                    "(No column name)": "1"
                                },
                                {
                                    "KAT_NEV": "munkafüzet",
                                    "(No column name)": "9"
                                },
                                {
                                    "KAT_NEV": "műnyomó",
                                    "(No column name)": "1"
                                },
                                {
                                    "KAT_NEV": "naptár",
                                    "(No column name)": "1"
                                },
                                {
                                    "KAT_NEV": "naptárhát",
                                    "(No column name)": "2"
                                },
                                {
                                    "KAT_NEV": "névjegytartó",
                                    "(No column name)": "1"
                                },
                                {
                                    "KAT_NEV": "notesz",
                                    "(No column name)": "5"
                                },
                                {
                                    "KAT_NEV": "női kabát",
                                    "(No column name)": "1"
                                },
                                {
                                    "KAT_NEV": "női nadrág",
                                    "(No column name)": "1"
                                },
                                {
                                    "KAT_NEV": "ofszet",
                                    "(No column name)": "1"
                                },
                                {
                                    "KAT_NEV": "oklevél",
                                    "(No column name)": "2"
                                },
                                {
                                    "KAT_NEV": "olló",
                                    "(No column name)": "3"
                                },
                                {
                                    "KAT_NEV": "öntapadó",
                                    "(No column name)": "2"
                                },
                                {
                                    "KAT_NEV": "papízsebkendő",
                                    "(No column name)": "1"
                                },
                                {
                                    "KAT_NEV": "pausz",
                                    "(No column name)": "1"
                                },
                                {
                                    "KAT_NEV": "pénztárbizonylat",
                                    "(No column name)": "2"
                                },
                                {
                                    "KAT_NEV": "pénztárgépszalag",
                                    "(No column name)": "2"
                                },
                                {
                                    "KAT_NEV": "pixiron",
                                    "(No column name)": "9"
                                },
                                {
                                    "KAT_NEV": "plüss",
                                    "(No column name)": "3"
                                },
                                {
                                    "KAT_NEV": "post-it",
                                    "(No column name)": "2"
                                },
                                {
                                    "KAT_NEV": "radír",
                                    "(No column name)": "7"
                                },
                                {
                                    "KAT_NEV": "radírtoll",
                                    "(No column name)": "2"
                                },
                                {
                                    "KAT_NEV": "ragasztó",
                                    "(No column name)": "10"
                                },
                                {
                                    "KAT_NEV": "ragasztószalag",
                                    "(No column name)": "4"
                                },
                                {
                                    "KAT_NEV": "rágógumi",
                                    "(No column name)": "1"
                                },
                                {
                                    "KAT_NEV": "rajzlap",
                                    "(No column name)": "2"
                                },
                                {
                                    "KAT_NEV": "rajzszeg",
                                    "(No column name)": "2"
                                },
                                {
                                    "KAT_NEV": "regiszteres füzet",
                                    "(No column name)": "2"
                                },
                                {
                                    "KAT_NEV": "sál",
                                    "(No column name)": "1"
                                },
                                {
                                    "KAT_NEV": "spirál",
                                    "(No column name)": "1"
                                },
                                {
                                    "KAT_NEV": "strandlabda",
                                    "(No column name)": "1"
                                },
                                {
                                    "KAT_NEV": "szalvéta",
                                    "(No column name)": "6"
                                },
                                {
                                    "KAT_NEV": "számológép",
                                    "(No column name)": "2"
                                },
                                {
                                    "KAT_NEV": "szemetes",
                                    "(No column name)": "1"
                                },
                                {
                                    "KAT_NEV": "színes",
                                    "(No column name)": "2"
                                },
                                {
                                    "KAT_NEV": "szögmérő",
                                    "(No column name)": "3"
                                },
                                {
                                    "KAT_NEV": "szövegkiemelő",
                                    "(No column name)": "5"
                                },
                                {
                                    "KAT_NEV": "táblafilc",
                                    "(No column name)": "1"
                                },
                                {
                                    "KAT_NEV": "tapétavágó",
                                    "(No column name)": "1"
                                },
                                {
                                    "KAT_NEV": "tempera",
                                    "(No column name)": "2"
                                },
                                {
                                    "KAT_NEV": "térképtű",
                                    "(No column name)": "1"
                                },
                                {
                                    "KAT_NEV": "tintapatron",
                                    "(No column name)": "3"
                                },
                                {
                                    "KAT_NEV": "toll",
                                    "(No column name)": "2"
                                },
                                {
                                    "KAT_NEV": "tollbetét",
                                    "(No column name)": "18"
                                },
                                {
                                    "KAT_NEV": "tolltartó",
                                    "(No column name)": "7"
                                },
                                {
                                    "KAT_NEV": "toner",
                                    "(No column name)": "1"
                                },
                                {
                                    "KAT_NEV": "töltőtoll",
                                    "(No column name)": "1"
                                },
                                {
                                    "KAT_NEV": "tűzőgép",
                                    "(No column name)": "6"
                                },
                                {
                                    "KAT_NEV": "tűzőkapocs",
                                    "(No column name)": "2"
                                },
                                {
                                    "KAT_NEV": "vízfesték",
                                    "(No column name)": "4"
                                },
                                {
                                    "KAT_NEV": "vonalzó",
                                    "(No column name)": "6"
                                },
                                {
                                    "KAT_NEV": "zászló",
                                    "(No column name)": "1"
                                },
                                {
                                    "KAT_NEV": "zseléstoll",
                                    "(No column name)": "4"
                                }
                            ]
                        },
                        "text/html": [
                            "<table>",
                            "<tr><th>KAT_NEV</th><th>(No column name)</th></tr>",
                            "<tr><td>ajándék tárgy</td><td>3</td></tr>",
                            "<tr><td>ajándék tasak</td><td>20</td></tr>",
                            "<tr><td>álarc</td><td>3</td></tr>",
                            "<tr><td>alkalmi</td><td>3</td></tr>",
                            "<tr><td>alufólia</td><td>2</td></tr>",
                            "<tr><td>árazószalag</td><td>1</td></tr>",
                            "<tr><td>átírótömb</td><td>1</td></tr>",
                            "<tr><td>beíró</td><td>1</td></tr>",
                            "<tr><td>beírókönyv</td><td>2</td></tr>",
                            "<tr><td>bélyegző</td><td>4</td></tr>",
                            "<tr><td>bélyegzőfesték</td><td>1</td></tr>",
                            "<tr><td>boríték</td><td>7</td></tr>",
                            "<tr><td>cd tok</td><td>1</td></tr>",
                            "<tr><td>celofán</td><td>2</td></tr>",
                            "<tr><td>ceruza</td><td>19</td></tr>",
                            "<tr><td>címke</td><td>3</td></tr>",
                            "<tr><td>color copy</td><td>5</td></tr>",
                            "<tr><td>csomagoló</td><td>2</td></tr>",
                            "<tr><td>csomagoló papír</td><td>7</td></tr>",
                            "<tr><td>dekor</td><td>4</td></tr>",
                            "<tr><td>dipa</td><td>1</td></tr>",
                            "<tr><td>díszdoboz</td><td>3</td></tr>",
                            "<tr><td>díszkötöző</td><td>5</td></tr>",
                            "<tr><td>dvd</td><td>1</td></tr>",
                            "<tr><td>ecset</td><td>7</td></tr>",
                            "<tr><td>előlap</td><td>1</td></tr>",
                            "<tr><td>emlékkönyv</td><td>3</td></tr>",
                            "<tr><td>emléklap</td><td>1</td></tr>",
                            "<tr><td>fax papír</td><td>1</td></tr>",
                            "<tr><td>fehérnemű</td><td>7</td></tr>",
                            "<tr><td>fénymásoló papír</td><td>5</td></tr>",
                            "<tr><td>férfi ing</td><td>1</td></tr>",
                            "<tr><td>férfi kabát</td><td>1</td></tr>",
                            "<tr><td>férfi nadrág</td><td>2</td></tr>",
                            "<tr><td>festékpatron</td><td>1</td></tr>",
                            "<tr><td>filctoll</td><td>13</td></tr>",
                            "<tr><td>floppy</td><td>1</td></tr>",
                            "<tr><td>fólia</td><td>3</td></tr>",
                            "<tr><td>fotópapír</td><td>1</td></tr>",
                            "<tr><td>füzet</td><td>11</td></tr>",
                            "<tr><td>füzetborító</td><td>7</td></tr>",
                            "<tr><td>füzettartó</td><td>4</td></tr>",
                            "<tr><td>gemkapocs</td><td>2</td></tr>",
                            "<tr><td>gémkapocs</td><td>2</td></tr>",
                            "<tr><td>genoterm</td><td>1</td></tr>",
                            "<tr><td>genotherm</td><td>3</td></tr>",
                            "<tr><td>golyóstoll</td><td>26</td></tr>",
                            "<tr><td>gumigyűrű</td><td>1</td></tr>",
                            "<tr><td>gyermek cipő</td><td>6</td></tr>",
                            "<tr><td>gyermek kabát</td><td>2</td></tr>",
                            "<tr><td>gyermek nadrág</td><td>4</td></tr>",
                            "<tr><td>gyermek póló</td><td>2</td></tr>",
                            "<tr><td>gyorsfűző</td><td>3</td></tr>",
                            "<tr><td>gyurma</td><td>4</td></tr>",
                            "<tr><td>gyűrűskönyv</td><td>5</td></tr>",
                            "<tr><td>hajgumi</td><td>1</td></tr>",
                            "<tr><td>határidő napló</td><td>2</td></tr>",
                            "<tr><td>hegyező</td><td>4</td></tr>",
                            "<tr><td>hegyző</td><td>2</td></tr>",
                            "<tr><td>hibajavító</td><td>7</td></tr>",
                            "<tr><td>hűtőmágnes</td><td>2</td></tr>",
                            "<tr><td>indigó</td><td>2</td></tr>",
                            "<tr><td>írásvetítő fólia</td><td>1</td></tr>",
                            "<tr><td>iratgyűjtő</td><td>3</td></tr>",
                            "<tr><td>iratrendező</td><td>2</td></tr>",
                            "<tr><td>iratsín</td><td>2</td></tr>",
                            "<tr><td>irattartó</td><td>2</td></tr>",
                            "<tr><td>irodaszer</td><td>1</td></tr>",
                            "<tr><td>írólap</td><td>2</td></tr>",
                            "<tr><td>ironbél</td><td>5</td></tr>",
                            "<tr><td>iskolaszer</td><td>24</td></tr>",
                            "<tr><td>játékautó</td><td>4</td></tr>",
                            "<tr><td>jelzőkréta</td><td>1</td></tr>",
                            "<tr><td>kapocskiszedő</td><td>1</td></tr>",
                            "<tr><td>karton</td><td>6</td></tr>",
                            "<tr><td>kártya</td><td>1</td></tr>",
                            "<tr><td>képeslap</td><td>16</td></tr>",
                            "<tr><td>képkirakó</td><td>1</td></tr>",
                            "<tr><td>kosztüm</td><td>2</td></tr>",
                            "<tr><td>könyv</td><td>15</td></tr>",
                            "<tr><td>körző</td><td>3</td></tr>",
                            "<tr><td>kreatív</td><td>2</td></tr>",
                            "<tr><td>kulcstartó</td><td>7</td></tr>",
                            "<tr><td>labda</td><td>2</td></tr>",
                            "<tr><td>levélpapír</td><td>7</td></tr>",
                            "<tr><td>lufi</td><td>2</td></tr>",
                            "<tr><td>lyukasztó</td><td>2</td></tr>",
                            "<tr><td>mappa</td><td>9</td></tr>",
                            "<tr><td>matrica</td><td>10</td></tr>",
                            "<tr><td>meghívó</td><td>4</td></tr>",
                            "<tr><td>miliméterpapír</td><td>1</td></tr>",
                            "<tr><td>munkafüzet</td><td>9</td></tr>",
                            "<tr><td>műnyomó</td><td>1</td></tr>",
                            "<tr><td>naptár</td><td>1</td></tr>",
                            "<tr><td>naptárhát</td><td>2</td></tr>",
                            "<tr><td>névjegytartó</td><td>1</td></tr>",
                            "<tr><td>notesz</td><td>5</td></tr>",
                            "<tr><td>női kabát</td><td>1</td></tr>",
                            "<tr><td>női nadrág</td><td>1</td></tr>",
                            "<tr><td>ofszet</td><td>1</td></tr>",
                            "<tr><td>oklevél</td><td>2</td></tr>",
                            "<tr><td>olló</td><td>3</td></tr>",
                            "<tr><td>öntapadó</td><td>2</td></tr>",
                            "<tr><td>papízsebkendő</td><td>1</td></tr>",
                            "<tr><td>pausz</td><td>1</td></tr>",
                            "<tr><td>pénztárbizonylat</td><td>2</td></tr>",
                            "<tr><td>pénztárgépszalag</td><td>2</td></tr>",
                            "<tr><td>pixiron</td><td>9</td></tr>",
                            "<tr><td>plüss</td><td>3</td></tr>",
                            "<tr><td>post-it</td><td>2</td></tr>",
                            "<tr><td>radír</td><td>7</td></tr>",
                            "<tr><td>radírtoll</td><td>2</td></tr>",
                            "<tr><td>ragasztó</td><td>10</td></tr>",
                            "<tr><td>ragasztószalag</td><td>4</td></tr>",
                            "<tr><td>rágógumi</td><td>1</td></tr>",
                            "<tr><td>rajzlap</td><td>2</td></tr>",
                            "<tr><td>rajzszeg</td><td>2</td></tr>",
                            "<tr><td>regiszteres füzet</td><td>2</td></tr>",
                            "<tr><td>sál</td><td>1</td></tr>",
                            "<tr><td>spirál</td><td>1</td></tr>",
                            "<tr><td>strandlabda</td><td>1</td></tr>",
                            "<tr><td>szalvéta</td><td>6</td></tr>",
                            "<tr><td>számológép</td><td>2</td></tr>",
                            "<tr><td>szemetes</td><td>1</td></tr>",
                            "<tr><td>színes</td><td>2</td></tr>",
                            "<tr><td>szögmérő</td><td>3</td></tr>",
                            "<tr><td>szövegkiemelő</td><td>5</td></tr>",
                            "<tr><td>táblafilc</td><td>1</td></tr>",
                            "<tr><td>tapétavágó</td><td>1</td></tr>",
                            "<tr><td>tempera</td><td>2</td></tr>",
                            "<tr><td>térképtű</td><td>1</td></tr>",
                            "<tr><td>tintapatron</td><td>3</td></tr>",
                            "<tr><td>toll</td><td>2</td></tr>",
                            "<tr><td>tollbetét</td><td>18</td></tr>",
                            "<tr><td>tolltartó</td><td>7</td></tr>",
                            "<tr><td>toner</td><td>1</td></tr>",
                            "<tr><td>töltőtoll</td><td>1</td></tr>",
                            "<tr><td>tűzőgép</td><td>6</td></tr>",
                            "<tr><td>tűzőkapocs</td><td>2</td></tr>",
                            "<tr><td>vízfesték</td><td>4</td></tr>",
                            "<tr><td>vonalzó</td><td>6</td></tr>",
                            "<tr><td>zászló</td><td>1</td></tr>",
                            "<tr><td>zseléstoll</td><td>4</td></tr>",
                            "</table>"
                        ]
                    }
                }
            ],
            "execution_count": 24
        },
        {
            "cell_type": "markdown",
            "source": [
                "8. <span style=\"font-weight: 600; color: rgb(36, 41, 47); font-family: -apple-system, BlinkMacSystemFont, &quot;Segoe UI&quot;, Helvetica, Arial, sans-serif, &quot;Apple Color Emoji&quot;, &quot;Segoe UI Emoji&quot;; font-size: 16px;\">Készítsünk listát a rendelési tételekről. Az egyes rendelési tételeket termékenként soroljuk be 4 osztályba a rendelés mennyisége alapján. Jelenítsük meg ezt az információt is egy új oszlopban, az oszlop neve legyen 'Mennyiségi kategória'.</span>\n",
                "\n",
                "1. A lista csak a 100 Ft feletti egységárú rendelési tételeket vegye figyelembe!"
            ],
            "metadata": {
                "azdata_cell_guid": "27a3d3dc-eafb-4a5e-b103-9f465b9eda8f"
            },
            "attachments": {}
        },
        {
            "cell_type": "code",
            "source": [
                ""
            ],
            "metadata": {
                "azdata_cell_guid": "f09edb3f-649b-4a96-958e-9e12774ae8b7",
                "language": "sql"
            },
            "outputs": [],
            "execution_count": null
        },
        {
            "cell_type": "markdown",
            "source": [
                "9. <span style=\"font-weight: 600; color: rgb(36, 41, 47); font-family: -apple-system, BlinkMacSystemFont, &quot;Segoe UI&quot;, Helvetica, Arial, sans-serif, &quot;Apple Color Emoji&quot;, &quot;Segoe UI Emoji&quot;; font-size: 16px;\">Listázzuk a termékek kódját, megnevezését, kategóriájának nevét, és listaárát.</span>\n",
                "\n",
                "1. A listát egészítsük ki két új oszloppal, amelyek a kategória legolcsóbb, illetve legdrágább termékének árát tartalmazzák.\n",
                "2. A két új oszlop létrehozásánál partíciókkal dolgozzunk!"
            ],
            "metadata": {
                "azdata_cell_guid": "f12a331a-0e26-4d3d-9c68-812316286577"
            },
            "attachments": {}
        },
        {
            "cell_type": "code",
            "source": [
                ""
            ],
            "metadata": {
                "azdata_cell_guid": "10a77fc9-e61a-46fc-a401-59720d82bc50",
                "language": "sql"
            },
            "outputs": [],
            "execution_count": null
        },
        {
            "cell_type": "markdown",
            "source": [
                "10. <span style=\"font-weight: 600; color: rgb(36, 41, 47); font-family: -apple-system, BlinkMacSystemFont, &quot;Segoe UI&quot;, Helvetica, Arial, sans-serif, &quot;Apple Color Emoji&quot;, &quot;Segoe UI Emoji&quot;; font-size: 16px;\">Készítsünk listát a rendelésekről. A lista legyen rendezve ügyfelenként (LOGIN), azon belül a rendelés dátuma szerint. A listához készítsünk sorszámozást is. A sorszám a következő formában jelenjen meg: sorszám_év_login. Pl: 1_2015_adam1</span>\n",
                "\n",
                "1. A számozás login-onként, azon belül rendelési évenként kezdődjön újra.\n",
                "2. A sorszám oszlop neve legyen Azonosító"
            ],
            "metadata": {
                "azdata_cell_guid": "9229e2b6-e200-4499-b95b-2d0222149831"
            },
            "attachments": {}
        },
        {
            "cell_type": "code",
            "source": [
                ""
            ],
            "metadata": {
                "azdata_cell_guid": "8b49ed67-28c6-4880-82a8-cd369e5bba99",
                "language": "sql"
            },
            "outputs": [],
            "execution_count": null
        },
        {
            "cell_type": "markdown",
            "source": [
                "11. <span style=\"color: rgb(36, 41, 47); font-family: -apple-system, BlinkMacSystemFont, &quot;Segoe UI&quot;, Helvetica, Arial, sans-serif, &quot;Apple Color Emoji&quot;, &quot;Segoe UI Emoji&quot;; font-size: 16px;\">Készítsünk listát a termékek adatairól listaár szerint növekvő sorrendben! A lista jelenítse meg két új oszlopban a sorrend szerint előző, illetve következő termék listaárát is a termék saját kategóriájában és raktárában!</span>\n",
                "\n",
                "1. Ahol nincs előző vagy következő érték, ott 0 jelenjen meg!\n",
                "2. Az oszlopokat nevezzük el értelemszerűen!"
            ],
            "metadata": {
                "azdata_cell_guid": "7f5fc7a7-3b6a-4d89-b292-490830afb0c6"
            },
            "attachments": {}
        },
        {
            "cell_type": "code",
            "source": [
                ""
            ],
            "metadata": {
                "azdata_cell_guid": "4a9ece40-f782-4c0d-92cd-9c21969067ed",
                "language": "sql"
            },
            "outputs": [],
            "execution_count": null
        },
        {
            "cell_type": "markdown",
            "source": [
                "12. <span style=\"color: rgb(36, 41, 47); font-family: -apple-system, BlinkMacSystemFont, &quot;Segoe UI&quot;, Helvetica, Arial, sans-serif, &quot;Apple Color Emoji&quot;, &quot;Segoe UI Emoji&quot;; font-size: 16px;\">Listázzuk a termékek kódját, nevét és listaárát listaár szerinti sorrendben!</span>\n",
                "\n",
                "1. Vegyünk fel egy új oszlopot Mozgóátlag néven, amely minden esetben az aktuális termék, az előző, és a következő termék átlagárát tartalmazza!\n",
                "2. A mozgóátlagot kerekítsük két tizedesre!"
            ],
            "metadata": {
                "azdata_cell_guid": "5a483c52-bb98-44bb-bd03-1146d4b0abfa"
            },
            "attachments": {}
        },
        {
            "cell_type": "code",
            "source": [
                ""
            ],
            "metadata": {
                "azdata_cell_guid": "dd6e89bd-08f9-4b18-8460-03c45b503df0",
                "language": "sql"
            },
            "outputs": [],
            "execution_count": null
        },
        {
            "cell_type": "markdown",
            "source": [
                "13. <span style=\"color: rgb(36, 41, 47); font-family: -apple-system, BlinkMacSystemFont, &quot;Segoe UI&quot;, Helvetica, Arial, sans-serif, &quot;Apple Color Emoji&quot;, &quot;Segoe UI Emoji&quot;; font-size: 16px;\">Készítsünk listát, amely a rendelések sorszámát és a rendelés értékét tartalmazza. A listát egészítsük ki egy új oszloppal, amely minden rendelés esetén addigi rendelések összegét tartalmazza (az aktuálisat is beleértve)!</span>\n",
                "\n",
                "1. A listát rendezzük sorszám szerint növekvő sorrendbe.\n",
                "2. A lista ne tartalmazzon duplikált sorokat!"
            ],
            "metadata": {
                "azdata_cell_guid": "85d5cb66-96c6-42de-99cf-85ab22d08548"
            },
            "attachments": {}
        },
        {
            "cell_type": "code",
            "source": [
                ""
            ],
            "metadata": {
                "azdata_cell_guid": "cb07d64b-0eaa-498b-b4d2-0b46971e95ce",
                "language": "sql"
            },
            "outputs": [],
            "execution_count": null
        },
        {
            "cell_type": "markdown",
            "source": [
                "14. <span style=\"color: rgb(36, 41, 47); font-family: -apple-system, BlinkMacSystemFont, &quot;Segoe UI&quot;, Helvetica, Arial, sans-serif, &quot;Apple Color Emoji&quot;, &quot;Segoe UI Emoji&quot;; font-size: 16px;\">Készítsünk listát a termékek kódjáról, nevéről, kategória azonosítójáról, raktár azonosítójáról és listaáráról, valamint a termék adott szempontok szerinti rangsorokban elfoglalt helyezéseiről. (Szempontonként külön oszlopban, a helyezéseknél növekvő sorrendet feltételezve). A szempontok a következők legyenek: listaár, kategória szerinti listaár, és raktárkód szerinti listaár.</span>\n",
                "\n",
                "1. Az oszlopokat nevezzük el értelemszerűen.\n",
                "2. A helyezések egyenlőség esetén \"sűrűn\" kövessék egymást.\n",
                "3. A lista legyen rendezett kategória azonosító, azon belül listaár szerint!"
            ],
            "metadata": {
                "azdata_cell_guid": "f95ad665-a807-4099-bf06-64ed974f866f"
            },
            "attachments": {}
        },
        {
            "cell_type": "code",
            "source": [
                ""
            ],
            "metadata": {
                "azdata_cell_guid": "74c7ec8a-ae4a-4d03-b1c4-e8f6bb1be12c",
                "language": "sql"
            },
            "outputs": [],
            "execution_count": null
        },
        {
            "cell_type": "markdown",
            "source": [
                "15. <span style=\"color: rgb(36, 41, 47); font-family: -apple-system, BlinkMacSystemFont, &quot;Segoe UI&quot;, Helvetica, Arial, sans-serif, &quot;Apple Color Emoji&quot;, &quot;Segoe UI Emoji&quot;; font-size: 16px;\">Készítsünk listát a rendelési tételekről, amely minden sor esetén göngyölítve tartalmazza az ügyfél adott rendelési tételig meglévő rendelési tételeinek összértékét!</span>\n",
                "\n",
                "1. Az új oszlop neve legyen Eddigi rendelési tételek összértéke!\n",
                "2. Az ügyfél neve is jelenjen meg!"
            ],
            "metadata": {
                "azdata_cell_guid": "93552388-ffec-49ff-99e5-ae8dc8072601"
            },
            "attachments": {}
        },
        {
            "cell_type": "code",
            "source": [
                ""
            ],
            "metadata": {
                "azdata_cell_guid": "0e7f547f-7d96-4611-b1c2-0fa84a581e79",
                "language": "sql"
            },
            "outputs": [],
            "execution_count": null
        }
    ]
}