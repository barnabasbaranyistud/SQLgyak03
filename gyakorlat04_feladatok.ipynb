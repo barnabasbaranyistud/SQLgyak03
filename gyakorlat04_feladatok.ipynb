{
    "metadata": {
        "kernelspec": {
            "name": "SQL",
            "display_name": "SQL",
            "language": "sql"
        },
        "language_info": {
            "name": "sql",
            "version": ""
        }
    },
    "nbformat_minor": 2,
    "nbformat": 4,
    "cells": [
        {
            "cell_type": "markdown",
            "source": [
                "1. <span style=\"background-color: rgb(255, 255, 255); color: rgb(0, 0, 0); font-family: &quot;Open Sans&quot;, sans-serif; font-size: 14.44px;\">Készítsünk listát arról, hogy ügyfelenként (LOGIN), azon belül szállítási módonként hány megrendelés történt!&nbsp;</span> \n",
                "\n",
                "a. A lista tartalmazza a részösszegeket és a végösszeget is!  \n",
                "b. Használjuk a ROLLUP záradékot!"
            ],
            "metadata": {
                "azdata_cell_guid": "363cd270-6577-449b-9c89-d4b7c7972d52"
            },
            "attachments": {}
        },
        {
            "cell_type": "code",
            "source": [
                "SELECT (CASE GROUPING_ID(LOGIN)\r\n",
                "WHEN 0 THEN CAST(LOGIN as nvarchar(4))\r\n",
                "WHEN 1 THEN '' END),\r\n",
                "(CASE GROUPING_ID(LOGIN, szall_mod)\r\n",
                "WHEN 0 THEN CAST(szall_mod as nvarchar(10))\r\n",
                "WHEN 1 THEN 'Szállítási módonként szum' \r\n",
                "WHEN 3 THEN 'Összesen' END) \r\n",
                "AS 'Szállítási mód', \r\n",
                "count(*)\r\n",
                "FROM Rendeles\r\n",
                "GROUP BY ROLLUP(LOGIN, szall_mod)"
            ],
            "metadata": {
                "azdata_cell_guid": "6ab9f633-a3b5-48c9-a1dc-4fb8235ae85b",
                "language": "sql"
            },
            "outputs": [
                {
                    "output_type": "display_data",
                    "data": {
                        "text/html": "(763 rows affected)"
                    },
                    "metadata": {}
                },
                {
                    "output_type": "display_data",
                    "data": {
                        "text/html": "Total execution time: 00:00:00.057"
                    },
                    "metadata": {}
                },
                {
                    "output_type": "execute_result",
                    "metadata": {},
                    "execution_count": 12,
                    "data": {
                        "application/vnd.dataresource+json": {
                            "schema": {
                                "fields": [
                                    {
                                        "name": "(No column name)"
                                    },
                                    {
                                        "name": "Szállítási mód"
                                    },
                                    {
                                        "name": "(No column name)"
                                    }
                                ]
                            },
                            "data": [
                                {
                                    "(No column name)": "129",
                                    "Szállítási mód": "GLS"
                                },
                                {
                                    "(No column name)": "132",
                                    "Szállítási mód": "Posta"
                                },
                                {
                                    "(No column name)": "131",
                                    "Szállítási mód": "Személyes "
                                },
                                {
                                    "(No column name)": "392",
                                    "Szállítási mód": "Szállítási módonként szum"
                                },
                                {
                                    "(No column name)": "10",
                                    "Szállítási mód": "GLS"
                                },
                                {
                                    "(No column name)": "3",
                                    "Szállítási mód": "Posta"
                                },
                                {
                                    "(No column name)": "2",
                                    "Szállítási mód": "Személyes "
                                },
                                {
                                    "(No column name)": "15",
                                    "Szállítási mód": "Szállítási módonként szum"
                                },
                                {
                                    "(No column name)": "12",
                                    "Szállítási mód": "GLS"
                                },
                                {
                                    "(No column name)": "6",
                                    "Szállítási mód": "Posta"
                                },
                                {
                                    "(No column name)": "11",
                                    "Szállítási mód": "Személyes "
                                },
                                {
                                    "(No column name)": "29",
                                    "Szállítási mód": "Szállítási módonként szum"
                                },
                                {
                                    "(No column name)": "144",
                                    "Szállítási mód": "GLS"
                                },
                                {
                                    "(No column name)": "130",
                                    "Szállítási mód": "Posta"
                                },
                                {
                                    "(No column name)": "144",
                                    "Szállítási mód": "Személyes "
                                },
                                {
                                    "(No column name)": "418",
                                    "Szállítási mód": "Szállítási módonként szum"
                                },
                                {
                                    "(No column name)": "148",
                                    "Szállítási mód": "GLS"
                                },
                                {
                                    "(No column name)": "146",
                                    "Szállítási mód": "Posta"
                                },
                                {
                                    "(No column name)": "136",
                                    "Szállítási mód": "Személyes "
                                },
                                {
                                    "(No column name)": "430",
                                    "Szállítási mód": "Szállítási módonként szum"
                                },
                                {
                                    "(No column name)": "2",
                                    "Szállítási mód": "GLS"
                                },
                                {
                                    "(No column name)": "3",
                                    "Szállítási mód": "Posta"
                                },
                                {
                                    "(No column name)": "6",
                                    "Szállítási mód": "Személyes "
                                },
                                {
                                    "(No column name)": "11",
                                    "Szállítási mód": "Szállítási módonként szum"
                                },
                                {
                                    "(No column name)": "1",
                                    "Szállítási mód": "GLS"
                                },
                                {
                                    "(No column name)": "7",
                                    "Szállítási mód": "Posta"
                                },
                                {
                                    "(No column name)": "7",
                                    "Szállítási mód": "Személyes "
                                },
                                {
                                    "(No column name)": "15",
                                    "Szállítási mód": "Szállítási módonként szum"
                                },
                                {
                                    "(No column name)": "146",
                                    "Szállítási mód": "GLS"
                                },
                                {
                                    "(No column name)": "143",
                                    "Szállítási mód": "Posta"
                                },
                                {
                                    "(No column name)": "140",
                                    "Szállítási mód": "Személyes "
                                },
                                {
                                    "(No column name)": "429",
                                    "Szállítási mód": "Szállítási módonként szum"
                                },
                                {
                                    "(No column name)": "156",
                                    "Szállítási mód": "GLS"
                                },
                                {
                                    "(No column name)": "134",
                                    "Szállítási mód": "Posta"
                                },
                                {
                                    "(No column name)": "118",
                                    "Szállítási mód": "Személyes "
                                },
                                {
                                    "(No column name)": "408",
                                    "Szállítási mód": "Szállítási módonként szum"
                                },
                                {
                                    "(No column name)": "5",
                                    "Szállítási mód": "GLS"
                                },
                                {
                                    "(No column name)": "9",
                                    "Szállítási mód": "Posta"
                                },
                                {
                                    "(No column name)": "5",
                                    "Szállítási mód": "Személyes "
                                },
                                {
                                    "(No column name)": "19",
                                    "Szállítási mód": "Szállítási módonként szum"
                                },
                                {
                                    "(No column name)": "7",
                                    "Szállítási mód": "GLS"
                                },
                                {
                                    "(No column name)": "4",
                                    "Szállítási mód": "Posta"
                                },
                                {
                                    "(No column name)": "7",
                                    "Szállítási mód": "Személyes "
                                },
                                {
                                    "(No column name)": "18",
                                    "Szállítási mód": "Szállítási módonként szum"
                                },
                                {
                                    "(No column name)": "4",
                                    "Szállítási mód": "GLS"
                                },
                                {
                                    "(No column name)": "7",
                                    "Szállítási mód": "Posta"
                                },
                                {
                                    "(No column name)": "11",
                                    "Szállítási mód": "Személyes "
                                },
                                {
                                    "(No column name)": "22",
                                    "Szállítási mód": "Szállítási módonként szum"
                                },
                                {
                                    "(No column name)": "140",
                                    "Szállítási mód": "GLS"
                                },
                                {
                                    "(No column name)": "124",
                                    "Szállítási mód": "Posta"
                                },
                                {
                                    "(No column name)": "126",
                                    "Szállítási mód": "Személyes "
                                },
                                {
                                    "(No column name)": "390",
                                    "Szállítási mód": "Szállítási módonként szum"
                                },
                                {
                                    "(No column name)": "3",
                                    "Szállítási mód": "GLS"
                                },
                                {
                                    "(No column name)": "1",
                                    "Szállítási mód": "Posta"
                                },
                                {
                                    "(No column name)": "5",
                                    "Szállítási mód": "Személyes "
                                },
                                {
                                    "(No column name)": "9",
                                    "Szállítási mód": "Szállítási módonként szum"
                                },
                                {
                                    "(No column name)": "4",
                                    "Szállítási mód": "GLS"
                                },
                                {
                                    "(No column name)": "4",
                                    "Szállítási mód": "Posta"
                                },
                                {
                                    "(No column name)": "4",
                                    "Szállítási mód": "Személyes "
                                },
                                {
                                    "(No column name)": "12",
                                    "Szállítási mód": "Szállítási módonként szum"
                                },
                                {
                                    "(No column name)": "149",
                                    "Szállítási mód": "GLS"
                                },
                                {
                                    "(No column name)": "137",
                                    "Szállítási mód": "Posta"
                                },
                                {
                                    "(No column name)": "133",
                                    "Szállítási mód": "Személyes "
                                },
                                {
                                    "(No column name)": "419",
                                    "Szállítási mód": "Szállítási módonként szum"
                                },
                                {
                                    "(No column name)": "159",
                                    "Szállítási mód": "GLS"
                                },
                                {
                                    "(No column name)": "141",
                                    "Szállítási mód": "Posta"
                                },
                                {
                                    "(No column name)": "136",
                                    "Szállítási mód": "Személyes "
                                },
                                {
                                    "(No column name)": "436",
                                    "Szállítási mód": "Szállítási módonként szum"
                                },
                                {
                                    "(No column name)": "10",
                                    "Szállítási mód": "GLS"
                                },
                                {
                                    "(No column name)": "9",
                                    "Szállítási mód": "Posta"
                                },
                                {
                                    "(No column name)": "5",
                                    "Szállítási mód": "Személyes "
                                },
                                {
                                    "(No column name)": "24",
                                    "Szállítási mód": "Szállítási módonként szum"
                                },
                                {
                                    "(No column name)": "12",
                                    "Szállítási mód": "GLS"
                                },
                                {
                                    "(No column name)": "4",
                                    "Szállítási mód": "Posta"
                                },
                                {
                                    "(No column name)": "8",
                                    "Szállítási mód": "Személyes "
                                },
                                {
                                    "(No column name)": "24",
                                    "Szállítási mód": "Szállítási módonként szum"
                                },
                                {
                                    "(No column name)": "131",
                                    "Szállítási mód": "GLS"
                                },
                                {
                                    "(No column name)": "136",
                                    "Szállítási mód": "Posta"
                                },
                                {
                                    "(No column name)": "146",
                                    "Szállítási mód": "Személyes "
                                },
                                {
                                    "(No column name)": "413",
                                    "Szállítási mód": "Szállítási módonként szum"
                                },
                                {
                                    "(No column name)": "7",
                                    "Szállítási mód": "GLS"
                                },
                                {
                                    "(No column name)": "4",
                                    "Szállítási mód": "Posta"
                                },
                                {
                                    "(No column name)": "7",
                                    "Szállítási mód": "Személyes "
                                },
                                {
                                    "(No column name)": "18",
                                    "Szállítási mód": "Szállítási módonként szum"
                                },
                                {
                                    "(No column name)": "3",
                                    "Szállítási mód": "GLS"
                                },
                                {
                                    "(No column name)": "6",
                                    "Szállítási mód": "Posta"
                                },
                                {
                                    "(No column name)": "12",
                                    "Szállítási mód": "Személyes "
                                },
                                {
                                    "(No column name)": "21",
                                    "Szállítási mód": "Szállítási módonként szum"
                                },
                                {
                                    "(No column name)": "3",
                                    "Szállítási mód": "GLS"
                                },
                                {
                                    "(No column name)": "6",
                                    "Szállítási mód": "Posta"
                                },
                                {
                                    "(No column name)": "9",
                                    "Szállítási mód": "Személyes "
                                },
                                {
                                    "(No column name)": "18",
                                    "Szállítási mód": "Szállítási módonként szum"
                                },
                                {
                                    "(No column name)": "128",
                                    "Szállítási mód": "GLS"
                                },
                                {
                                    "(No column name)": "137",
                                    "Szállítási mód": "Posta"
                                },
                                {
                                    "(No column name)": "138",
                                    "Szállítási mód": "Személyes "
                                },
                                {
                                    "(No column name)": "403",
                                    "Szállítási mód": "Szállítási módonként szum"
                                },
                                {
                                    "(No column name)": "6",
                                    "Szállítási mód": "GLS"
                                },
                                {
                                    "(No column name)": "6",
                                    "Szállítási mód": "Posta"
                                },
                                {
                                    "(No column name)": "3",
                                    "Szállítási mód": "Személyes "
                                },
                                {
                                    "(No column name)": "15",
                                    "Szállítási mód": "Szállítási módonként szum"
                                },
                                {
                                    "(No column name)": "128",
                                    "Szállítási mód": "GLS"
                                },
                                {
                                    "(No column name)": "126",
                                    "Szállítási mód": "Posta"
                                },
                                {
                                    "(No column name)": "150",
                                    "Szállítási mód": "Személyes "
                                },
                                {
                                    "(No column name)": "404",
                                    "Szállítási mód": "Szállítási módonként szum"
                                },
                                {
                                    "(No column name)": "5",
                                    "Szállítási mód": "GLS"
                                },
                                {
                                    "(No column name)": "2",
                                    "Szállítási mód": "Posta"
                                },
                                {
                                    "(No column name)": "5",
                                    "Szállítási mód": "Személyes "
                                },
                                {
                                    "(No column name)": "12",
                                    "Szállítási mód": "Szállítási módonként szum"
                                },
                                {
                                    "(No column name)": "5",
                                    "Szállítási mód": "GLS"
                                },
                                {
                                    "(No column name)": "4",
                                    "Szállítási mód": "Posta"
                                },
                                {
                                    "(No column name)": "7",
                                    "Szállítási mód": "Személyes "
                                },
                                {
                                    "(No column name)": "16",
                                    "Szállítási mód": "Szállítási módonként szum"
                                },
                                {
                                    "(No column name)": "8",
                                    "Szállítási mód": "GLS"
                                },
                                {
                                    "(No column name)": "2",
                                    "Szállítási mód": "Posta"
                                },
                                {
                                    "(No column name)": "3",
                                    "Szállítási mód": "Személyes "
                                },
                                {
                                    "(No column name)": "13",
                                    "Szállítási mód": "Szállítási módonként szum"
                                },
                                {
                                    "(No column name)": "132",
                                    "Szállítási mód": "GLS"
                                },
                                {
                                    "(No column name)": "133",
                                    "Szállítási mód": "Posta"
                                },
                                {
                                    "(No column name)": "144",
                                    "Szállítási mód": "Személyes "
                                },
                                {
                                    "(No column name)": "409",
                                    "Szállítási mód": "Szállítási módonként szum"
                                },
                                {
                                    "(No column name)": "155",
                                    "Szállítási mód": "GLS"
                                },
                                {
                                    "(No column name)": "120",
                                    "Szállítási mód": "Posta"
                                },
                                {
                                    "(No column name)": "155",
                                    "Szállítási mód": "Személyes "
                                },
                                {
                                    "(No column name)": "430",
                                    "Szállítási mód": "Szállítási módonként szum"
                                },
                                {
                                    "(No column name)": "6",
                                    "Szállítási mód": "GLS"
                                },
                                {
                                    "(No column name)": "1",
                                    "Szállítási mód": "Posta"
                                },
                                {
                                    "(No column name)": "10",
                                    "Szállítási mód": "Személyes "
                                },
                                {
                                    "(No column name)": "17",
                                    "Szállítási mód": "Szállítási módonként szum"
                                },
                                {
                                    "(No column name)": "6",
                                    "Szállítási mód": "GLS"
                                },
                                {
                                    "(No column name)": "3",
                                    "Szállítási mód": "Posta"
                                },
                                {
                                    "(No column name)": "5",
                                    "Szállítási mód": "Személyes "
                                },
                                {
                                    "(No column name)": "14",
                                    "Szállítási mód": "Szállítási módonként szum"
                                },
                                {
                                    "(No column name)": "6",
                                    "Szállítási mód": "GLS"
                                },
                                {
                                    "(No column name)": "3",
                                    "Szállítási mód": "Posta"
                                },
                                {
                                    "(No column name)": "7",
                                    "Szállítási mód": "Személyes "
                                },
                                {
                                    "(No column name)": "16",
                                    "Szállítási mód": "Szállítási módonként szum"
                                },
                                {
                                    "(No column name)": "5",
                                    "Szállítási mód": "GLS"
                                },
                                {
                                    "(No column name)": "7",
                                    "Szállítási mód": "Posta"
                                },
                                {
                                    "(No column name)": "6",
                                    "Szállítási mód": "Személyes "
                                },
                                {
                                    "(No column name)": "18",
                                    "Szállítási mód": "Szállítási módonként szum"
                                },
                                {
                                    "(No column name)": "135",
                                    "Szállítási mód": "GLS"
                                },
                                {
                                    "(No column name)": "125",
                                    "Szállítási mód": "Posta"
                                },
                                {
                                    "(No column name)": "141",
                                    "Szállítási mód": "Személyes "
                                },
                                {
                                    "(No column name)": "401",
                                    "Szállítási mód": "Szállítási módonként szum"
                                },
                                {
                                    "(No column name)": "4",
                                    "Szállítási mód": "GLS"
                                },
                                {
                                    "(No column name)": "4",
                                    "Szállítási mód": "Posta"
                                },
                                {
                                    "(No column name)": "6",
                                    "Szállítási mód": "Személyes "
                                },
                                {
                                    "(No column name)": "14",
                                    "Szállítási mód": "Szállítási módonként szum"
                                },
                                {
                                    "(No column name)": "128",
                                    "Szállítási mód": "GLS"
                                },
                                {
                                    "(No column name)": "136",
                                    "Szállítási mód": "Posta"
                                },
                                {
                                    "(No column name)": "155",
                                    "Szállítási mód": "Személyes "
                                },
                                {
                                    "(No column name)": "419",
                                    "Szállítási mód": "Szállítási módonként szum"
                                },
                                {
                                    "(No column name)": "5",
                                    "Szállítási mód": "GLS"
                                },
                                {
                                    "(No column name)": "7",
                                    "Szállítási mód": "Posta"
                                },
                                {
                                    "(No column name)": "5",
                                    "Szállítási mód": "Személyes "
                                },
                                {
                                    "(No column name)": "17",
                                    "Szállítási mód": "Szállítási módonként szum"
                                },
                                {
                                    "(No column name)": "6",
                                    "Szállítási mód": "GLS"
                                },
                                {
                                    "(No column name)": "6",
                                    "Szállítási mód": "Posta"
                                },
                                {
                                    "(No column name)": "3",
                                    "Szállítási mód": "Személyes "
                                },
                                {
                                    "(No column name)": "15",
                                    "Szállítási mód": "Szállítási módonként szum"
                                },
                                {
                                    "(No column name)": "10",
                                    "Szállítási mód": "GLS"
                                },
                                {
                                    "(No column name)": "4",
                                    "Szállítási mód": "Posta"
                                },
                                {
                                    "(No column name)": "2",
                                    "Szállítási mód": "Személyes "
                                },
                                {
                                    "(No column name)": "16",
                                    "Szállítási mód": "Szállítási módonként szum"
                                },
                                {
                                    "(No column name)": "158",
                                    "Szállítási mód": "GLS"
                                },
                                {
                                    "(No column name)": "152",
                                    "Szállítási mód": "Posta"
                                },
                                {
                                    "(No column name)": "152",
                                    "Szállítási mód": "Személyes "
                                },
                                {
                                    "(No column name)": "462",
                                    "Szállítási mód": "Szállítási módonként szum"
                                },
                                {
                                    "(No column name)": "8",
                                    "Szállítási mód": "GLS"
                                },
                                {
                                    "(No column name)": "6",
                                    "Szállítási mód": "Posta"
                                },
                                {
                                    "(No column name)": "3",
                                    "Szállítási mód": "Személyes "
                                },
                                {
                                    "(No column name)": "17",
                                    "Szállítási mód": "Szállítási módonként szum"
                                },
                                {
                                    "(No column name)": "127",
                                    "Szállítási mód": "GLS"
                                },
                                {
                                    "(No column name)": "137",
                                    "Szállítási mód": "Posta"
                                },
                                {
                                    "(No column name)": "123",
                                    "Szállítási mód": "Személyes "
                                },
                                {
                                    "(No column name)": "387",
                                    "Szállítási mód": "Szállítási módonként szum"
                                },
                                {
                                    "(No column name)": "135",
                                    "Szállítási mód": "GLS"
                                },
                                {
                                    "(No column name)": "155",
                                    "Szállítási mód": "Posta"
                                },
                                {
                                    "(No column name)": "145",
                                    "Szállítási mód": "Személyes "
                                },
                                {
                                    "(No column name)": "435",
                                    "Szállítási mód": "Szállítási módonként szum"
                                },
                                {
                                    "(No column name)": "146",
                                    "Szállítási mód": "GLS"
                                },
                                {
                                    "(No column name)": "141",
                                    "Szállítási mód": "Posta"
                                },
                                {
                                    "(No column name)": "133",
                                    "Szállítási mód": "Személyes "
                                },
                                {
                                    "(No column name)": "420",
                                    "Szállítási mód": "Szállítási módonként szum"
                                },
                                {
                                    "(No column name)": "11",
                                    "Szállítási mód": "GLS"
                                },
                                {
                                    "(No column name)": "2",
                                    "Szállítási mód": "Posta"
                                },
                                {
                                    "(No column name)": "5",
                                    "Szállítási mód": "Személyes "
                                },
                                {
                                    "(No column name)": "18",
                                    "Szállítási mód": "Szállítási módonként szum"
                                },
                                {
                                    "(No column name)": "4",
                                    "Szállítási mód": "GLS"
                                },
                                {
                                    "(No column name)": "6",
                                    "Szállítási mód": "Posta"
                                },
                                {
                                    "(No column name)": "8",
                                    "Szállítási mód": "Személyes "
                                },
                                {
                                    "(No column name)": "18",
                                    "Szállítási mód": "Szállítási módonként szum"
                                },
                                {
                                    "(No column name)": "5",
                                    "Szállítási mód": "GLS"
                                },
                                {
                                    "(No column name)": "7",
                                    "Szállítási mód": "Posta"
                                },
                                {
                                    "(No column name)": "5",
                                    "Szállítási mód": "Személyes "
                                },
                                {
                                    "(No column name)": "17",
                                    "Szállítási mód": "Szállítási módonként szum"
                                },
                                {
                                    "(No column name)": "10",
                                    "Szállítási mód": "GLS"
                                },
                                {
                                    "(No column name)": "5",
                                    "Szállítási mód": "Posta"
                                },
                                {
                                    "(No column name)": "5",
                                    "Szállítási mód": "Személyes "
                                },
                                {
                                    "(No column name)": "20",
                                    "Szállítási mód": "Szállítási módonként szum"
                                },
                                {
                                    "(No column name)": "6",
                                    "Szállítási mód": "GLS"
                                },
                                {
                                    "(No column name)": "2",
                                    "Szállítási mód": "Posta"
                                },
                                {
                                    "(No column name)": "7",
                                    "Szállítási mód": "Személyes "
                                },
                                {
                                    "(No column name)": "15",
                                    "Szállítási mód": "Szállítási módonként szum"
                                },
                                {
                                    "(No column name)": "7",
                                    "Szállítási mód": "GLS"
                                },
                                {
                                    "(No column name)": "2",
                                    "Szállítási mód": "Posta"
                                },
                                {
                                    "(No column name)": "7",
                                    "Szállítási mód": "Személyes "
                                },
                                {
                                    "(No column name)": "16",
                                    "Szállítási mód": "Szállítási módonként szum"
                                },
                                {
                                    "(No column name)": "128",
                                    "Szállítási mód": "GLS"
                                },
                                {
                                    "(No column name)": "124",
                                    "Szállítási mód": "Posta"
                                },
                                {
                                    "(No column name)": "101",
                                    "Szállítási mód": "Személyes "
                                },
                                {
                                    "(No column name)": "353",
                                    "Szállítási mód": "Szállítási módonként szum"
                                },
                                {
                                    "(No column name)": "137",
                                    "Szállítási mód": "GLS"
                                },
                                {
                                    "(No column name)": "137",
                                    "Szállítási mód": "Posta"
                                },
                                {
                                    "(No column name)": "119",
                                    "Szállítási mód": "Személyes "
                                },
                                {
                                    "(No column name)": "393",
                                    "Szállítási mód": "Szállítási módonként szum"
                                },
                                {
                                    "(No column name)": "144",
                                    "Szállítási mód": "GLS"
                                },
                                {
                                    "(No column name)": "130",
                                    "Szállítási mód": "Posta"
                                },
                                {
                                    "(No column name)": "139",
                                    "Szállítási mód": "Személyes "
                                },
                                {
                                    "(No column name)": "413",
                                    "Szállítási mód": "Szállítási módonként szum"
                                },
                                {
                                    "(No column name)": "5",
                                    "Szállítási mód": "GLS"
                                },
                                {
                                    "(No column name)": "2",
                                    "Szállítási mód": "Posta"
                                },
                                {
                                    "(No column name)": "8",
                                    "Szállítási mód": "Személyes "
                                },
                                {
                                    "(No column name)": "15",
                                    "Szállítási mód": "Szállítási módonként szum"
                                },
                                {
                                    "(No column name)": "5",
                                    "Szállítási mód": "GLS"
                                },
                                {
                                    "(No column name)": "8",
                                    "Szállítási mód": "Személyes "
                                },
                                {
                                    "(No column name)": "13",
                                    "Szállítási mód": "Szállítási módonként szum"
                                },
                                {
                                    "(No column name)": "7",
                                    "Szállítási mód": "GLS"
                                },
                                {
                                    "(No column name)": "2",
                                    "Szállítási mód": "Posta"
                                },
                                {
                                    "(No column name)": "4",
                                    "Szállítási mód": "Személyes "
                                },
                                {
                                    "(No column name)": "13",
                                    "Szállítási mód": "Szállítási módonként szum"
                                },
                                {
                                    "(No column name)": "156",
                                    "Szállítási mód": "GLS"
                                },
                                {
                                    "(No column name)": "131",
                                    "Szállítási mód": "Posta"
                                },
                                {
                                    "(No column name)": "132",
                                    "Szállítási mód": "Személyes "
                                },
                                {
                                    "(No column name)": "419",
                                    "Szállítási mód": "Szállítási módonként szum"
                                },
                                {
                                    "(No column name)": "161",
                                    "Szállítási mód": "GLS"
                                },
                                {
                                    "(No column name)": "144",
                                    "Szállítási mód": "Posta"
                                },
                                {
                                    "(No column name)": "146",
                                    "Szállítási mód": "Személyes "
                                },
                                {
                                    "(No column name)": "451",
                                    "Szállítási mód": "Szállítási módonként szum"
                                },
                                {
                                    "(No column name)": "8",
                                    "Szállítási mód": "GLS"
                                },
                                {
                                    "(No column name)": "1",
                                    "Szállítási mód": "Posta"
                                },
                                {
                                    "(No column name)": "8",
                                    "Szállítási mód": "Személyes "
                                },
                                {
                                    "(No column name)": "17",
                                    "Szállítási mód": "Szállítási módonként szum"
                                },
                                {
                                    "(No column name)": "3",
                                    "Szállítási mód": "GLS"
                                },
                                {
                                    "(No column name)": "8",
                                    "Szállítási mód": "Posta"
                                },
                                {
                                    "(No column name)": "10",
                                    "Szállítási mód": "Személyes "
                                },
                                {
                                    "(No column name)": "21",
                                    "Szállítási mód": "Szállítási módonként szum"
                                },
                                {
                                    "(No column name)": "7",
                                    "Szállítási mód": "GLS"
                                },
                                {
                                    "(No column name)": "6",
                                    "Szállítási mód": "Posta"
                                },
                                {
                                    "(No column name)": "3",
                                    "Szállítási mód": "Személyes "
                                },
                                {
                                    "(No column name)": "16",
                                    "Szállítási mód": "Szállítási módonként szum"
                                },
                                {
                                    "(No column name)": "3",
                                    "Szállítási mód": "GLS"
                                },
                                {
                                    "(No column name)": "2",
                                    "Szállítási mód": "Posta"
                                },
                                {
                                    "(No column name)": "4",
                                    "Szállítási mód": "Személyes "
                                },
                                {
                                    "(No column name)": "9",
                                    "Szállítási mód": "Szállítási módonként szum"
                                },
                                {
                                    "(No column name)": "144",
                                    "Szállítási mód": "GLS"
                                },
                                {
                                    "(No column name)": "124",
                                    "Szállítási mód": "Posta"
                                },
                                {
                                    "(No column name)": "164",
                                    "Szállítási mód": "Személyes "
                                },
                                {
                                    "(No column name)": "432",
                                    "Szállítási mód": "Szállítási módonként szum"
                                },
                                {
                                    "(No column name)": "7",
                                    "Szállítási mód": "GLS"
                                },
                                {
                                    "(No column name)": "2",
                                    "Szállítási mód": "Posta"
                                },
                                {
                                    "(No column name)": "4",
                                    "Szállítási mód": "Személyes "
                                },
                                {
                                    "(No column name)": "13",
                                    "Szállítási mód": "Szállítási módonként szum"
                                },
                                {
                                    "(No column name)": "128",
                                    "Szállítási mód": "GLS"
                                },
                                {
                                    "(No column name)": "136",
                                    "Szállítási mód": "Posta"
                                },
                                {
                                    "(No column name)": "142",
                                    "Szállítási mód": "Személyes "
                                },
                                {
                                    "(No column name)": "406",
                                    "Szállítási mód": "Szállítási módonként szum"
                                },
                                {
                                    "(No column name)": "127",
                                    "Szállítási mód": "GLS"
                                },
                                {
                                    "(No column name)": "136",
                                    "Szállítási mód": "Posta"
                                },
                                {
                                    "(No column name)": "152",
                                    "Szállítási mód": "Személyes "
                                },
                                {
                                    "(No column name)": "415",
                                    "Szállítási mód": "Szállítási módonként szum"
                                },
                                {
                                    "(No column name)": "141",
                                    "Szállítási mód": "GLS"
                                },
                                {
                                    "(No column name)": "134",
                                    "Szállítási mód": "Posta"
                                },
                                {
                                    "(No column name)": "149",
                                    "Szállítási mód": "Személyes "
                                },
                                {
                                    "(No column name)": "424",
                                    "Szállítási mód": "Szállítási módonként szum"
                                },
                                {
                                    "(No column name)": "6",
                                    "Szállítási mód": "GLS"
                                },
                                {
                                    "(No column name)": "9",
                                    "Szállítási mód": "Posta"
                                },
                                {
                                    "(No column name)": "7",
                                    "Szállítási mód": "Személyes "
                                },
                                {
                                    "(No column name)": "22",
                                    "Szállítási mód": "Szállítási módonként szum"
                                },
                                {
                                    "(No column name)": "125",
                                    "Szállítási mód": "GLS"
                                },
                                {
                                    "(No column name)": "140",
                                    "Szállítási mód": "Posta"
                                },
                                {
                                    "(No column name)": "139",
                                    "Szállítási mód": "Személyes "
                                },
                                {
                                    "(No column name)": "404",
                                    "Szállítási mód": "Szállítási módonként szum"
                                },
                                {
                                    "(No column name)": "154",
                                    "Szállítási mód": "GLS"
                                },
                                {
                                    "(No column name)": "138",
                                    "Szállítási mód": "Posta"
                                },
                                {
                                    "(No column name)": "170",
                                    "Szállítási mód": "Személyes "
                                },
                                {
                                    "(No column name)": "462",
                                    "Szállítási mód": "Szállítási módonként szum"
                                },
                                {
                                    "(No column name)": "2",
                                    "Szállítási mód": "GLS"
                                },
                                {
                                    "(No column name)": "1",
                                    "Szállítási mód": "Posta"
                                },
                                {
                                    "(No column name)": "4",
                                    "Szállítási mód": "Személyes "
                                },
                                {
                                    "(No column name)": "7",
                                    "Szállítási mód": "Szállítási módonként szum"
                                },
                                {
                                    "(No column name)": "144",
                                    "Szállítási mód": "GLS"
                                },
                                {
                                    "(No column name)": "158",
                                    "Szállítási mód": "Posta"
                                },
                                {
                                    "(No column name)": "135",
                                    "Szállítási mód": "Személyes "
                                },
                                {
                                    "(No column name)": "437",
                                    "Szállítási mód": "Szállítási módonként szum"
                                },
                                {
                                    "(No column name)": "8",
                                    "Szállítási mód": "GLS"
                                },
                                {
                                    "(No column name)": "3",
                                    "Szállítási mód": "Posta"
                                },
                                {
                                    "(No column name)": "7",
                                    "Szállítási mód": "Személyes "
                                },
                                {
                                    "(No column name)": "18",
                                    "Szállítási mód": "Szállítási módonként szum"
                                },
                                {
                                    "(No column name)": "9",
                                    "Szállítási mód": "GLS"
                                },
                                {
                                    "(No column name)": "5",
                                    "Szállítási mód": "Posta"
                                },
                                {
                                    "(No column name)": "5",
                                    "Szállítási mód": "Személyes "
                                },
                                {
                                    "(No column name)": "19",
                                    "Szállítási mód": "Szállítási módonként szum"
                                },
                                {
                                    "(No column name)": "7",
                                    "Szállítási mód": "GLS"
                                },
                                {
                                    "(No column name)": "9",
                                    "Szállítási mód": "Posta"
                                },
                                {
                                    "(No column name)": "4",
                                    "Szállítási mód": "Személyes "
                                },
                                {
                                    "(No column name)": "20",
                                    "Szállítási mód": "Szállítási módonként szum"
                                },
                                {
                                    "(No column name)": "5",
                                    "Szállítási mód": "GLS"
                                },
                                {
                                    "(No column name)": "6",
                                    "Szállítási mód": "Posta"
                                },
                                {
                                    "(No column name)": "4",
                                    "Szállítási mód": "Személyes "
                                },
                                {
                                    "(No column name)": "15",
                                    "Szállítási mód": "Szállítási módonként szum"
                                },
                                {
                                    "(No column name)": "5",
                                    "Szállítási mód": "GLS"
                                },
                                {
                                    "(No column name)": "4",
                                    "Szállítási mód": "Posta"
                                },
                                {
                                    "(No column name)": "5",
                                    "Szállítási mód": "Személyes "
                                },
                                {
                                    "(No column name)": "14",
                                    "Szállítási mód": "Szállítási módonként szum"
                                },
                                {
                                    "(No column name)": "4",
                                    "Szállítási mód": "GLS"
                                },
                                {
                                    "(No column name)": "5",
                                    "Szállítási mód": "Posta"
                                },
                                {
                                    "(No column name)": "7",
                                    "Szállítási mód": "Személyes "
                                },
                                {
                                    "(No column name)": "16",
                                    "Szállítási mód": "Szállítási módonként szum"
                                },
                                {
                                    "(No column name)": "9",
                                    "Szállítási mód": "GLS"
                                },
                                {
                                    "(No column name)": "2",
                                    "Szállítási mód": "Posta"
                                },
                                {
                                    "(No column name)": "10",
                                    "Szállítási mód": "Személyes "
                                },
                                {
                                    "(No column name)": "21",
                                    "Szállítási mód": "Szállítási módonként szum"
                                },
                                {
                                    "(No column name)": "5",
                                    "Szállítási mód": "GLS"
                                },
                                {
                                    "(No column name)": "4",
                                    "Szállítási mód": "Posta"
                                },
                                {
                                    "(No column name)": "5",
                                    "Szállítási mód": "Személyes "
                                },
                                {
                                    "(No column name)": "14",
                                    "Szállítási mód": "Szállítási módonként szum"
                                },
                                {
                                    "(No column name)": "6",
                                    "Szállítási mód": "GLS"
                                },
                                {
                                    "(No column name)": "6",
                                    "Szállítási mód": "Posta"
                                },
                                {
                                    "(No column name)": "3",
                                    "Szállítási mód": "Személyes "
                                },
                                {
                                    "(No column name)": "15",
                                    "Szállítási mód": "Szállítási módonként szum"
                                },
                                {
                                    "(No column name)": "7",
                                    "Szállítási mód": "GLS"
                                },
                                {
                                    "(No column name)": "4",
                                    "Szállítási mód": "Posta"
                                },
                                {
                                    "(No column name)": "5",
                                    "Szállítási mód": "Személyes "
                                },
                                {
                                    "(No column name)": "16",
                                    "Szállítási mód": "Szállítási módonként szum"
                                },
                                {
                                    "(No column name)": "7",
                                    "Szállítási mód": "GLS"
                                },
                                {
                                    "(No column name)": "4",
                                    "Szállítási mód": "Posta"
                                },
                                {
                                    "(No column name)": "5",
                                    "Szállítási mód": "Személyes "
                                },
                                {
                                    "(No column name)": "16",
                                    "Szállítási mód": "Szállítási módonként szum"
                                },
                                {
                                    "(No column name)": "140",
                                    "Szállítási mód": "GLS"
                                },
                                {
                                    "(No column name)": "125",
                                    "Szállítási mód": "Posta"
                                },
                                {
                                    "(No column name)": "157",
                                    "Szállítási mód": "Személyes "
                                },
                                {
                                    "(No column name)": "422",
                                    "Szállítási mód": "Szállítási módonként szum"
                                },
                                {
                                    "(No column name)": "9",
                                    "Szállítási mód": "GLS"
                                },
                                {
                                    "(No column name)": "2",
                                    "Szállítási mód": "Posta"
                                },
                                {
                                    "(No column name)": "7",
                                    "Szállítási mód": "Személyes "
                                },
                                {
                                    "(No column name)": "18",
                                    "Szállítási mód": "Szállítási módonként szum"
                                },
                                {
                                    "(No column name)": "5",
                                    "Szállítási mód": "GLS"
                                },
                                {
                                    "(No column name)": "4",
                                    "Szállítási mód": "Posta"
                                },
                                {
                                    "(No column name)": "6",
                                    "Szállítási mód": "Személyes "
                                },
                                {
                                    "(No column name)": "15",
                                    "Szállítási mód": "Szállítási módonként szum"
                                },
                                {
                                    "(No column name)": "8",
                                    "Szállítási mód": "GLS"
                                },
                                {
                                    "(No column name)": "4",
                                    "Szállítási mód": "Posta"
                                },
                                {
                                    "(No column name)": "3",
                                    "Szállítási mód": "Személyes "
                                },
                                {
                                    "(No column name)": "15",
                                    "Szállítási mód": "Szállítási módonként szum"
                                },
                                {
                                    "(No column name)": "3",
                                    "Szállítási mód": "GLS"
                                },
                                {
                                    "(No column name)": "4",
                                    "Szállítási mód": "Posta"
                                },
                                {
                                    "(No column name)": "4",
                                    "Szállítási mód": "Személyes "
                                },
                                {
                                    "(No column name)": "11",
                                    "Szállítási mód": "Szállítási módonként szum"
                                },
                                {
                                    "(No column name)": "8",
                                    "Szállítási mód": "GLS"
                                },
                                {
                                    "(No column name)": "4",
                                    "Szállítási mód": "Posta"
                                },
                                {
                                    "(No column name)": "7",
                                    "Szállítási mód": "Személyes "
                                },
                                {
                                    "(No column name)": "19",
                                    "Szállítási mód": "Szállítási módonként szum"
                                },
                                {
                                    "(No column name)": "4",
                                    "Szállítási mód": "GLS"
                                },
                                {
                                    "(No column name)": "9",
                                    "Szállítási mód": "Posta"
                                },
                                {
                                    "(No column name)": "8",
                                    "Szállítási mód": "Személyes "
                                },
                                {
                                    "(No column name)": "21",
                                    "Szállítási mód": "Szállítási módonként szum"
                                },
                                {
                                    "(No column name)": "5",
                                    "Szállítási mód": "GLS"
                                },
                                {
                                    "(No column name)": "2",
                                    "Szállítási mód": "Posta"
                                },
                                {
                                    "(No column name)": "6",
                                    "Szállítási mód": "Személyes "
                                },
                                {
                                    "(No column name)": "13",
                                    "Szállítási mód": "Szállítási módonként szum"
                                },
                                {
                                    "(No column name)": "3",
                                    "Szállítási mód": "GLS"
                                },
                                {
                                    "(No column name)": "3",
                                    "Szállítási mód": "Posta"
                                },
                                {
                                    "(No column name)": "4",
                                    "Szállítási mód": "Személyes "
                                },
                                {
                                    "(No column name)": "10",
                                    "Szállítási mód": "Szállítási módonként szum"
                                },
                                {
                                    "(No column name)": "7",
                                    "Szállítási mód": "GLS"
                                },
                                {
                                    "(No column name)": "7",
                                    "Szállítási mód": "Posta"
                                },
                                {
                                    "(No column name)": "3",
                                    "Szállítási mód": "Személyes "
                                },
                                {
                                    "(No column name)": "17",
                                    "Szállítási mód": "Szállítási módonként szum"
                                },
                                {
                                    "(No column name)": "116",
                                    "Szállítási mód": "GLS"
                                },
                                {
                                    "(No column name)": "132",
                                    "Szállítási mód": "Posta"
                                },
                                {
                                    "(No column name)": "134",
                                    "Szállítási mód": "Személyes "
                                },
                                {
                                    "(No column name)": "382",
                                    "Szállítási mód": "Szállítási módonként szum"
                                },
                                {
                                    "(No column name)": "7",
                                    "Szállítási mód": "GLS"
                                },
                                {
                                    "(No column name)": "2",
                                    "Szállítási mód": "Posta"
                                },
                                {
                                    "(No column name)": "4",
                                    "Szállítási mód": "Személyes "
                                },
                                {
                                    "(No column name)": "13",
                                    "Szállítási mód": "Szállítási módonként szum"
                                },
                                {
                                    "(No column name)": "11",
                                    "Szállítási mód": "GLS"
                                },
                                {
                                    "(No column name)": "1",
                                    "Szállítási mód": "Posta"
                                },
                                {
                                    "(No column name)": "9",
                                    "Szállítási mód": "Személyes "
                                },
                                {
                                    "(No column name)": "21",
                                    "Szállítási mód": "Szállítási módonként szum"
                                },
                                {
                                    "(No column name)": "170",
                                    "Szállítási mód": "GLS"
                                },
                                {
                                    "(No column name)": "130",
                                    "Szállítási mód": "Posta"
                                },
                                {
                                    "(No column name)": "150",
                                    "Szállítási mód": "Személyes "
                                },
                                {
                                    "(No column name)": "450",
                                    "Szállítási mód": "Szállítási módonként szum"
                                },
                                {
                                    "(No column name)": "137",
                                    "Szállítási mód": "GLS"
                                },
                                {
                                    "(No column name)": "160",
                                    "Szállítási mód": "Posta"
                                },
                                {
                                    "(No column name)": "138",
                                    "Szállítási mód": "Személyes "
                                },
                                {
                                    "(No column name)": "435",
                                    "Szállítási mód": "Szállítási módonként szum"
                                },
                                {
                                    "(No column name)": "2",
                                    "Szállítási mód": "GLS"
                                },
                                {
                                    "(No column name)": "4",
                                    "Szállítási mód": "Posta"
                                },
                                {
                                    "(No column name)": "8",
                                    "Szállítási mód": "Személyes "
                                },
                                {
                                    "(No column name)": "14",
                                    "Szállítási mód": "Szállítási módonként szum"
                                },
                                {
                                    "(No column name)": "8",
                                    "Szállítási mód": "GLS"
                                },
                                {
                                    "(No column name)": "12",
                                    "Szállítási mód": "Posta"
                                },
                                {
                                    "(No column name)": "7",
                                    "Szállítási mód": "Személyes "
                                },
                                {
                                    "(No column name)": "27",
                                    "Szállítási mód": "Szállítási módonként szum"
                                },
                                {
                                    "(No column name)": "5",
                                    "Szállítási mód": "GLS"
                                },
                                {
                                    "(No column name)": "4",
                                    "Szállítási mód": "Posta"
                                },
                                {
                                    "(No column name)": "3",
                                    "Szállítási mód": "Személyes "
                                },
                                {
                                    "(No column name)": "12",
                                    "Szállítási mód": "Szállítási módonként szum"
                                },
                                {
                                    "(No column name)": "7",
                                    "Szállítási mód": "GLS"
                                },
                                {
                                    "(No column name)": "7",
                                    "Szállítási mód": "Posta"
                                },
                                {
                                    "(No column name)": "5",
                                    "Szállítási mód": "Személyes "
                                },
                                {
                                    "(No column name)": "19",
                                    "Szállítási mód": "Szállítási módonként szum"
                                },
                                {
                                    "(No column name)": "7",
                                    "Szállítási mód": "GLS"
                                },
                                {
                                    "(No column name)": "5",
                                    "Szállítási mód": "Posta"
                                },
                                {
                                    "(No column name)": "11",
                                    "Szállítási mód": "Személyes "
                                },
                                {
                                    "(No column name)": "23",
                                    "Szállítási mód": "Szállítási módonként szum"
                                },
                                {
                                    "(No column name)": "4",
                                    "Szállítási mód": "GLS"
                                },
                                {
                                    "(No column name)": "5",
                                    "Szállítási mód": "Posta"
                                },
                                {
                                    "(No column name)": "4",
                                    "Szállítási mód": "Személyes "
                                },
                                {
                                    "(No column name)": "13",
                                    "Szállítási mód": "Szállítási módonként szum"
                                },
                                {
                                    "(No column name)": "6",
                                    "Szállítási mód": "GLS"
                                },
                                {
                                    "(No column name)": "6",
                                    "Szállítási mód": "Posta"
                                },
                                {
                                    "(No column name)": "10",
                                    "Szállítási mód": "Személyes "
                                },
                                {
                                    "(No column name)": "22",
                                    "Szállítási mód": "Szállítási módonként szum"
                                },
                                {
                                    "(No column name)": "3",
                                    "Szállítási mód": "GLS"
                                },
                                {
                                    "(No column name)": "9",
                                    "Szállítási mód": "Posta"
                                },
                                {
                                    "(No column name)": "5",
                                    "Szállítási mód": "Személyes "
                                },
                                {
                                    "(No column name)": "17",
                                    "Szállítási mód": "Szállítási módonként szum"
                                },
                                {
                                    "(No column name)": "3",
                                    "Szállítási mód": "GLS"
                                },
                                {
                                    "(No column name)": "1",
                                    "Szállítási mód": "Posta"
                                },
                                {
                                    "(No column name)": "7",
                                    "Szállítási mód": "Személyes "
                                },
                                {
                                    "(No column name)": "11",
                                    "Szállítási mód": "Szállítási módonként szum"
                                },
                                {
                                    "(No column name)": "9",
                                    "Szállítási mód": "GLS"
                                },
                                {
                                    "(No column name)": "4",
                                    "Szállítási mód": "Posta"
                                },
                                {
                                    "(No column name)": "8",
                                    "Szállítási mód": "Személyes "
                                },
                                {
                                    "(No column name)": "21",
                                    "Szállítási mód": "Szállítási módonként szum"
                                },
                                {
                                    "(No column name)": "3",
                                    "Szállítási mód": "GLS"
                                },
                                {
                                    "(No column name)": "5",
                                    "Szállítási mód": "Posta"
                                },
                                {
                                    "(No column name)": "5",
                                    "Szállítási mód": "Személyes "
                                },
                                {
                                    "(No column name)": "13",
                                    "Szállítási mód": "Szállítási módonként szum"
                                },
                                {
                                    "(No column name)": "5",
                                    "Szállítási mód": "GLS"
                                },
                                {
                                    "(No column name)": "6",
                                    "Szállítási mód": "Posta"
                                },
                                {
                                    "(No column name)": "6",
                                    "Szállítási mód": "Személyes "
                                },
                                {
                                    "(No column name)": "17",
                                    "Szállítási mód": "Szállítási módonként szum"
                                },
                                {
                                    "(No column name)": "118",
                                    "Szállítási mód": "GLS"
                                },
                                {
                                    "(No column name)": "136",
                                    "Szállítási mód": "Posta"
                                },
                                {
                                    "(No column name)": "130",
                                    "Szállítási mód": "Személyes "
                                },
                                {
                                    "(No column name)": "384",
                                    "Szállítási mód": "Szállítási módonként szum"
                                },
                                {
                                    "(No column name)": "149",
                                    "Szállítási mód": "GLS"
                                },
                                {
                                    "(No column name)": "150",
                                    "Szállítási mód": "Posta"
                                },
                                {
                                    "(No column name)": "157",
                                    "Szállítási mód": "Személyes "
                                },
                                {
                                    "(No column name)": "456",
                                    "Szállítási mód": "Szállítási módonként szum"
                                },
                                {
                                    "(No column name)": "10",
                                    "Szállítási mód": "GLS"
                                },
                                {
                                    "(No column name)": "4",
                                    "Szállítási mód": "Posta"
                                },
                                {
                                    "(No column name)": "8",
                                    "Szállítási mód": "Személyes "
                                },
                                {
                                    "(No column name)": "22",
                                    "Szállítási mód": "Szállítási módonként szum"
                                },
                                {
                                    "(No column name)": "6",
                                    "Szállítási mód": "GLS"
                                },
                                {
                                    "(No column name)": "6",
                                    "Szállítási mód": "Posta"
                                },
                                {
                                    "(No column name)": "10",
                                    "Szállítási mód": "Személyes "
                                },
                                {
                                    "(No column name)": "22",
                                    "Szállítási mód": "Szállítási módonként szum"
                                },
                                {
                                    "(No column name)": "5",
                                    "Szállítási mód": "GLS"
                                },
                                {
                                    "(No column name)": "2",
                                    "Szállítási mód": "Posta"
                                },
                                {
                                    "(No column name)": "9",
                                    "Szállítási mód": "Személyes "
                                },
                                {
                                    "(No column name)": "16",
                                    "Szállítási mód": "Szállítási módonként szum"
                                },
                                {
                                    "(No column name)": "5",
                                    "Szállítási mód": "GLS"
                                },
                                {
                                    "(No column name)": "3",
                                    "Szállítási mód": "Posta"
                                },
                                {
                                    "(No column name)": "9",
                                    "Szállítási mód": "Személyes "
                                },
                                {
                                    "(No column name)": "17",
                                    "Szállítási mód": "Szállítási módonként szum"
                                },
                                {
                                    "(No column name)": "130",
                                    "Szállítási mód": "GLS"
                                },
                                {
                                    "(No column name)": "129",
                                    "Szállítási mód": "Posta"
                                },
                                {
                                    "(No column name)": "135",
                                    "Szállítási mód": "Személyes "
                                },
                                {
                                    "(No column name)": "394",
                                    "Szállítási mód": "Szállítási módonként szum"
                                },
                                {
                                    "(No column name)": "12",
                                    "Szállítási mód": "GLS"
                                },
                                {
                                    "(No column name)": "6",
                                    "Szállítási mód": "Posta"
                                },
                                {
                                    "(No column name)": "7",
                                    "Szállítási mód": "Személyes "
                                },
                                {
                                    "(No column name)": "25",
                                    "Szállítási mód": "Szállítási módonként szum"
                                },
                                {
                                    "(No column name)": "156",
                                    "Szállítási mód": "GLS"
                                },
                                {
                                    "(No column name)": "136",
                                    "Szállítási mód": "Posta"
                                },
                                {
                                    "(No column name)": "154",
                                    "Szállítási mód": "Személyes "
                                },
                                {
                                    "(No column name)": "446",
                                    "Szállítási mód": "Szállítási módonként szum"
                                },
                                {
                                    "(No column name)": "126",
                                    "Szállítási mód": "GLS"
                                },
                                {
                                    "(No column name)": "131",
                                    "Szállítási mód": "Posta"
                                },
                                {
                                    "(No column name)": "143",
                                    "Szállítási mód": "Személyes "
                                },
                                {
                                    "(No column name)": "400",
                                    "Szállítási mód": "Szállítási módonként szum"
                                },
                                {
                                    "(No column name)": "4",
                                    "Szállítási mód": "GLS"
                                },
                                {
                                    "(No column name)": "5",
                                    "Szállítási mód": "Posta"
                                },
                                {
                                    "(No column name)": "1",
                                    "Szállítási mód": "Személyes "
                                },
                                {
                                    "(No column name)": "10",
                                    "Szállítási mód": "Szállítási módonként szum"
                                },
                                {
                                    "(No column name)": "128",
                                    "Szállítási mód": "GLS"
                                },
                                {
                                    "(No column name)": "142",
                                    "Szállítási mód": "Posta"
                                },
                                {
                                    "(No column name)": "142",
                                    "Szállítási mód": "Személyes "
                                },
                                {
                                    "(No column name)": "412",
                                    "Szállítási mód": "Szállítási módonként szum"
                                },
                                {
                                    "(No column name)": "5",
                                    "Szállítási mód": "GLS"
                                },
                                {
                                    "(No column name)": "4",
                                    "Szállítási mód": "Posta"
                                },
                                {
                                    "(No column name)": "5",
                                    "Szállítási mód": "Személyes "
                                },
                                {
                                    "(No column name)": "14",
                                    "Szállítási mód": "Szállítási módonként szum"
                                },
                                {
                                    "(No column name)": "6",
                                    "Szállítási mód": "GLS"
                                },
                                {
                                    "(No column name)": "10",
                                    "Szállítási mód": "Posta"
                                },
                                {
                                    "(No column name)": "9",
                                    "Szállítási mód": "Személyes "
                                },
                                {
                                    "(No column name)": "25",
                                    "Szállítási mód": "Szállítási módonként szum"
                                },
                                {
                                    "(No column name)": "138",
                                    "Szállítási mód": "GLS"
                                },
                                {
                                    "(No column name)": "131",
                                    "Szállítási mód": "Posta"
                                },
                                {
                                    "(No column name)": "164",
                                    "Szállítási mód": "Személyes "
                                },
                                {
                                    "(No column name)": "433",
                                    "Szállítási mód": "Szállítási módonként szum"
                                },
                                {
                                    "(No column name)": "4",
                                    "Szállítási mód": "GLS"
                                },
                                {
                                    "(No column name)": "5",
                                    "Szállítási mód": "Posta"
                                },
                                {
                                    "(No column name)": "3",
                                    "Szállítási mód": "Személyes "
                                },
                                {
                                    "(No column name)": "12",
                                    "Szállítási mód": "Szállítási módonként szum"
                                },
                                {
                                    "(No column name)": "3",
                                    "Szállítási mód": "GLS"
                                },
                                {
                                    "(No column name)": "4",
                                    "Szállítási mód": "Posta"
                                },
                                {
                                    "(No column name)": "6",
                                    "Szállítási mód": "Személyes "
                                },
                                {
                                    "(No column name)": "13",
                                    "Szállítási mód": "Szállítási módonként szum"
                                },
                                {
                                    "(No column name)": "7",
                                    "Szállítási mód": "GLS"
                                },
                                {
                                    "(No column name)": "4",
                                    "Szállítási mód": "Posta"
                                },
                                {
                                    "(No column name)": "2",
                                    "Szállítási mód": "Személyes "
                                },
                                {
                                    "(No column name)": "13",
                                    "Szállítási mód": "Szállítási módonként szum"
                                },
                                {
                                    "(No column name)": "6",
                                    "Szállítási mód": "GLS"
                                },
                                {
                                    "(No column name)": "1",
                                    "Szállítási mód": "Posta"
                                },
                                {
                                    "(No column name)": "8",
                                    "Szállítási mód": "Személyes "
                                },
                                {
                                    "(No column name)": "15",
                                    "Szállítási mód": "Szállítási módonként szum"
                                },
                                {
                                    "(No column name)": "133",
                                    "Szállítási mód": "GLS"
                                },
                                {
                                    "(No column name)": "151",
                                    "Szállítási mód": "Posta"
                                },
                                {
                                    "(No column name)": "123",
                                    "Szállítási mód": "Személyes "
                                },
                                {
                                    "(No column name)": "407",
                                    "Szállítási mód": "Szállítási módonként szum"
                                },
                                {
                                    "(No column name)": "147",
                                    "Szállítási mód": "GLS"
                                },
                                {
                                    "(No column name)": "139",
                                    "Szállítási mód": "Posta"
                                },
                                {
                                    "(No column name)": "134",
                                    "Szállítási mód": "Személyes "
                                },
                                {
                                    "(No column name)": "420",
                                    "Szállítási mód": "Szállítási módonként szum"
                                },
                                {
                                    "(No column name)": "4",
                                    "Szállítási mód": "GLS"
                                },
                                {
                                    "(No column name)": "3",
                                    "Szállítási mód": "Posta"
                                },
                                {
                                    "(No column name)": "10",
                                    "Szállítási mód": "Személyes "
                                },
                                {
                                    "(No column name)": "17",
                                    "Szállítási mód": "Szállítási módonként szum"
                                },
                                {
                                    "(No column name)": "137",
                                    "Szállítási mód": "GLS"
                                },
                                {
                                    "(No column name)": "158",
                                    "Szállítási mód": "Posta"
                                },
                                {
                                    "(No column name)": "119",
                                    "Szállítási mód": "Személyes "
                                },
                                {
                                    "(No column name)": "414",
                                    "Szállítási mód": "Szállítási módonként szum"
                                },
                                {
                                    "(No column name)": "13",
                                    "Szállítási mód": "GLS"
                                },
                                {
                                    "(No column name)": "7",
                                    "Szállítási mód": "Posta"
                                },
                                {
                                    "(No column name)": "5",
                                    "Szállítási mód": "Személyes "
                                },
                                {
                                    "(No column name)": "25",
                                    "Szállítási mód": "Szállítási módonként szum"
                                },
                                {
                                    "(No column name)": "7",
                                    "Szállítási mód": "GLS"
                                },
                                {
                                    "(No column name)": "4",
                                    "Szállítási mód": "Posta"
                                },
                                {
                                    "(No column name)": "11",
                                    "Szállítási mód": "Szállítási módonként szum"
                                },
                                {
                                    "(No column name)": "1",
                                    "Szállítási mód": "GLS"
                                },
                                {
                                    "(No column name)": "3",
                                    "Szállítási mód": "Posta"
                                },
                                {
                                    "(No column name)": "9",
                                    "Szállítási mód": "Személyes "
                                },
                                {
                                    "(No column name)": "13",
                                    "Szállítási mód": "Szállítási módonként szum"
                                },
                                {
                                    "(No column name)": "1",
                                    "Szállítási mód": "GLS"
                                },
                                {
                                    "(No column name)": "6",
                                    "Szállítási mód": "Posta"
                                },
                                {
                                    "(No column name)": "9",
                                    "Szállítási mód": "Személyes "
                                },
                                {
                                    "(No column name)": "16",
                                    "Szállítási mód": "Szállítási módonként szum"
                                },
                                {
                                    "(No column name)": "152",
                                    "Szállítási mód": "GLS"
                                },
                                {
                                    "(No column name)": "132",
                                    "Szállítási mód": "Posta"
                                },
                                {
                                    "(No column name)": "154",
                                    "Szállítási mód": "Személyes "
                                },
                                {
                                    "(No column name)": "438",
                                    "Szállítási mód": "Szállítási módonként szum"
                                },
                                {
                                    "(No column name)": "151",
                                    "Szállítási mód": "GLS"
                                },
                                {
                                    "(No column name)": "135",
                                    "Szállítási mód": "Posta"
                                },
                                {
                                    "(No column name)": "126",
                                    "Szállítási mód": "Személyes "
                                },
                                {
                                    "(No column name)": "412",
                                    "Szállítási mód": "Szállítási módonként szum"
                                },
                                {
                                    "(No column name)": "7",
                                    "Szállítási mód": "GLS"
                                },
                                {
                                    "(No column name)": "4",
                                    "Szállítási mód": "Posta"
                                },
                                {
                                    "(No column name)": "7",
                                    "Szállítási mód": "Személyes "
                                },
                                {
                                    "(No column name)": "18",
                                    "Szállítási mód": "Szállítási módonként szum"
                                },
                                {
                                    "(No column name)": "8",
                                    "Szállítási mód": "GLS"
                                },
                                {
                                    "(No column name)": "7",
                                    "Szállítási mód": "Posta"
                                },
                                {
                                    "(No column name)": "10",
                                    "Szállítási mód": "Személyes "
                                },
                                {
                                    "(No column name)": "25",
                                    "Szállítási mód": "Szállítási módonként szum"
                                },
                                {
                                    "(No column name)": "266",
                                    "Szállítási mód": "GLS"
                                },
                                {
                                    "(No column name)": "293",
                                    "Szállítási mód": "Posta"
                                },
                                {
                                    "(No column name)": "293",
                                    "Szállítási mód": "Személyes "
                                },
                                {
                                    "(No column name)": "852",
                                    "Szállítási mód": "Szállítási módonként szum"
                                },
                                {
                                    "(No column name)": "2",
                                    "Szállítási mód": "GLS"
                                },
                                {
                                    "(No column name)": "4",
                                    "Szállítási mód": "Posta"
                                },
                                {
                                    "(No column name)": "9",
                                    "Szállítási mód": "Személyes "
                                },
                                {
                                    "(No column name)": "15",
                                    "Szállítási mód": "Szállítási módonként szum"
                                },
                                {
                                    "(No column name)": "9",
                                    "Szállítási mód": "GLS"
                                },
                                {
                                    "(No column name)": "6",
                                    "Szállítási mód": "Posta"
                                },
                                {
                                    "(No column name)": "7",
                                    "Szállítási mód": "Személyes "
                                },
                                {
                                    "(No column name)": "22",
                                    "Szállítási mód": "Szállítási módonként szum"
                                },
                                {
                                    "(No column name)": "6",
                                    "Szállítási mód": "GLS"
                                },
                                {
                                    "(No column name)": "5",
                                    "Szállítási mód": "Posta"
                                },
                                {
                                    "(No column name)": "6",
                                    "Szállítási mód": "Személyes "
                                },
                                {
                                    "(No column name)": "17",
                                    "Szállítási mód": "Szállítási módonként szum"
                                },
                                {
                                    "(No column name)": "5",
                                    "Szállítási mód": "GLS"
                                },
                                {
                                    "(No column name)": "4",
                                    "Szállítási mód": "Posta"
                                },
                                {
                                    "(No column name)": "11",
                                    "Szállítási mód": "Személyes "
                                },
                                {
                                    "(No column name)": "20",
                                    "Szállítási mód": "Szállítási módonként szum"
                                },
                                {
                                    "(No column name)": "135",
                                    "Szállítási mód": "GLS"
                                },
                                {
                                    "(No column name)": "140",
                                    "Szállítási mód": "Posta"
                                },
                                {
                                    "(No column name)": "147",
                                    "Szállítási mód": "Személyes "
                                },
                                {
                                    "(No column name)": "422",
                                    "Szállítási mód": "Szállítási módonként szum"
                                },
                                {
                                    "(No column name)": "6",
                                    "Szállítási mód": "GLS"
                                },
                                {
                                    "(No column name)": "5",
                                    "Szállítási mód": "Posta"
                                },
                                {
                                    "(No column name)": "5",
                                    "Szállítási mód": "Személyes "
                                },
                                {
                                    "(No column name)": "16",
                                    "Szállítási mód": "Szállítási módonként szum"
                                },
                                {
                                    "(No column name)": "5",
                                    "Szállítási mód": "GLS"
                                },
                                {
                                    "(No column name)": "1",
                                    "Szállítási mód": "Posta"
                                },
                                {
                                    "(No column name)": "7",
                                    "Szállítási mód": "Személyes "
                                },
                                {
                                    "(No column name)": "13",
                                    "Szállítási mód": "Szállítási módonként szum"
                                },
                                {
                                    "(No column name)": "5",
                                    "Szállítási mód": "GLS"
                                },
                                {
                                    "(No column name)": "3",
                                    "Szállítási mód": "Posta"
                                },
                                {
                                    "(No column name)": "5",
                                    "Szállítási mód": "Személyes "
                                },
                                {
                                    "(No column name)": "13",
                                    "Szállítási mód": "Szállítási módonként szum"
                                },
                                {
                                    "(No column name)": "8",
                                    "Szállítási mód": "GLS"
                                },
                                {
                                    "(No column name)": "8",
                                    "Szállítási mód": "Posta"
                                },
                                {
                                    "(No column name)": "10",
                                    "Szállítási mód": "Személyes "
                                },
                                {
                                    "(No column name)": "26",
                                    "Szállítási mód": "Szállítási módonként szum"
                                },
                                {
                                    "(No column name)": "132",
                                    "Szállítási mód": "GLS"
                                },
                                {
                                    "(No column name)": "157",
                                    "Szállítási mód": "Posta"
                                },
                                {
                                    "(No column name)": "125",
                                    "Szállítási mód": "Személyes "
                                },
                                {
                                    "(No column name)": "414",
                                    "Szállítási mód": "Szállítási módonként szum"
                                },
                                {
                                    "(No column name)": "142",
                                    "Szállítási mód": "GLS"
                                },
                                {
                                    "(No column name)": "155",
                                    "Szállítási mód": "Posta"
                                },
                                {
                                    "(No column name)": "135",
                                    "Szállítási mód": "Személyes "
                                },
                                {
                                    "(No column name)": "432",
                                    "Szállítási mód": "Szállítási módonként szum"
                                },
                                {
                                    "(No column name)": "3",
                                    "Szállítási mód": "GLS"
                                },
                                {
                                    "(No column name)": "2",
                                    "Szállítási mód": "Posta"
                                },
                                {
                                    "(No column name)": "3",
                                    "Szállítási mód": "Személyes "
                                },
                                {
                                    "(No column name)": "8",
                                    "Szállítási mód": "Szállítási módonként szum"
                                },
                                {
                                    "(No column name)": "4",
                                    "Szállítási mód": "GLS"
                                },
                                {
                                    "(No column name)": "6",
                                    "Szállítási mód": "Posta"
                                },
                                {
                                    "(No column name)": "7",
                                    "Szállítási mód": "Személyes "
                                },
                                {
                                    "(No column name)": "17",
                                    "Szállítási mód": "Szállítási módonként szum"
                                },
                                {
                                    "(No column name)": "4",
                                    "Szállítási mód": "GLS"
                                },
                                {
                                    "(No column name)": "4",
                                    "Szállítási mód": "Posta"
                                },
                                {
                                    "(No column name)": "6",
                                    "Szállítási mód": "Személyes "
                                },
                                {
                                    "(No column name)": "14",
                                    "Szállítási mód": "Szállítási módonként szum"
                                },
                                {
                                    "(No column name)": "4",
                                    "Szállítási mód": "GLS"
                                },
                                {
                                    "(No column name)": "2",
                                    "Szállítási mód": "Posta"
                                },
                                {
                                    "(No column name)": "5",
                                    "Szállítási mód": "Személyes "
                                },
                                {
                                    "(No column name)": "11",
                                    "Szállítási mód": "Szállítási módonként szum"
                                },
                                {
                                    "(No column name)": "4",
                                    "Szállítási mód": "GLS"
                                },
                                {
                                    "(No column name)": "7",
                                    "Szállítási mód": "Posta"
                                },
                                {
                                    "(No column name)": "9",
                                    "Szállítási mód": "Személyes "
                                },
                                {
                                    "(No column name)": "20",
                                    "Szállítási mód": "Szállítási módonként szum"
                                },
                                {
                                    "(No column name)": "6",
                                    "Szállítási mód": "GLS"
                                },
                                {
                                    "(No column name)": "3",
                                    "Szállítási mód": "Posta"
                                },
                                {
                                    "(No column name)": "6",
                                    "Szállítási mód": "Személyes "
                                },
                                {
                                    "(No column name)": "15",
                                    "Szállítási mód": "Szállítási módonként szum"
                                },
                                {
                                    "(No column name)": "4",
                                    "Szállítási mód": "GLS"
                                },
                                {
                                    "(No column name)": "6",
                                    "Szállítási mód": "Posta"
                                },
                                {
                                    "(No column name)": "6",
                                    "Szállítási mód": "Személyes "
                                },
                                {
                                    "(No column name)": "16",
                                    "Szállítási mód": "Szállítási módonként szum"
                                },
                                {
                                    "(No column name)": "145",
                                    "Szállítási mód": "GLS"
                                },
                                {
                                    "(No column name)": "157",
                                    "Szállítási mód": "Posta"
                                },
                                {
                                    "(No column name)": "169",
                                    "Szállítási mód": "Személyes "
                                },
                                {
                                    "(No column name)": "471",
                                    "Szállítási mód": "Szállítási módonként szum"
                                },
                                {
                                    "(No column name)": "126",
                                    "Szállítási mód": "GLS"
                                },
                                {
                                    "(No column name)": "153",
                                    "Szállítási mód": "Posta"
                                },
                                {
                                    "(No column name)": "129",
                                    "Szállítási mód": "Személyes "
                                },
                                {
                                    "(No column name)": "408",
                                    "Szállítási mód": "Szállítási módonként szum"
                                },
                                {
                                    "(No column name)": "144",
                                    "Szállítási mód": "GLS"
                                },
                                {
                                    "(No column name)": "131",
                                    "Szállítási mód": "Posta"
                                },
                                {
                                    "(No column name)": "111",
                                    "Szállítási mód": "Személyes "
                                },
                                {
                                    "(No column name)": "386",
                                    "Szállítási mód": "Szállítási módonként szum"
                                },
                                {
                                    "(No column name)": "156",
                                    "Szállítási mód": "GLS"
                                },
                                {
                                    "(No column name)": "151",
                                    "Szállítási mód": "Posta"
                                },
                                {
                                    "(No column name)": "138",
                                    "Szállítási mód": "Személyes "
                                },
                                {
                                    "(No column name)": "445",
                                    "Szállítási mód": "Szállítási módonként szum"
                                },
                                {
                                    "(No column name)": "6",
                                    "Szállítási mód": "GLS"
                                },
                                {
                                    "(No column name)": "4",
                                    "Szállítási mód": "Posta"
                                },
                                {
                                    "(No column name)": "3",
                                    "Szállítási mód": "Személyes "
                                },
                                {
                                    "(No column name)": "13",
                                    "Szállítási mód": "Szállítási módonként szum"
                                },
                                {
                                    "(No column name)": "143",
                                    "Szállítási mód": "GLS"
                                },
                                {
                                    "(No column name)": "156",
                                    "Szállítási mód": "Posta"
                                },
                                {
                                    "(No column name)": "122",
                                    "Szállítási mód": "Személyes "
                                },
                                {
                                    "(No column name)": "421",
                                    "Szállítási mód": "Szállítási módonként szum"
                                },
                                {
                                    "(No column name)": "159",
                                    "Szállítási mód": "GLS"
                                },
                                {
                                    "(No column name)": "145",
                                    "Szállítási mód": "Posta"
                                },
                                {
                                    "(No column name)": "129",
                                    "Szállítási mód": "Személyes "
                                },
                                {
                                    "(No column name)": "433",
                                    "Szállítási mód": "Szállítási módonként szum"
                                },
                                {
                                    "(No column name)": "115",
                                    "Szállítási mód": "GLS"
                                },
                                {
                                    "(No column name)": "129",
                                    "Szállítási mód": "Posta"
                                },
                                {
                                    "(No column name)": "130",
                                    "Szállítási mód": "Személyes "
                                },
                                {
                                    "(No column name)": "374",
                                    "Szállítási mód": "Szállítási módonként szum"
                                },
                                {
                                    "(No column name)": "7",
                                    "Szállítási mód": "GLS"
                                },
                                {
                                    "(No column name)": "7",
                                    "Szállítási mód": "Posta"
                                },
                                {
                                    "(No column name)": "11",
                                    "Szállítási mód": "Személyes "
                                },
                                {
                                    "(No column name)": "25",
                                    "Szállítási mód": "Szállítási módonként szum"
                                },
                                {
                                    "(No column name)": "9",
                                    "Szállítási mód": "GLS"
                                },
                                {
                                    "(No column name)": "6",
                                    "Szállítási mód": "Posta"
                                },
                                {
                                    "(No column name)": "5",
                                    "Szállítási mód": "Személyes "
                                },
                                {
                                    "(No column name)": "20",
                                    "Szállítási mód": "Szállítási módonként szum"
                                },
                                {
                                    "(No column name)": "14",
                                    "Szállítási mód": "GLS"
                                },
                                {
                                    "(No column name)": "23",
                                    "Szállítási mód": "Posta"
                                },
                                {
                                    "(No column name)": "18",
                                    "Szállítási mód": "Személyes "
                                },
                                {
                                    "(No column name)": "55",
                                    "Szállítási mód": "Szállítási módonként szum"
                                },
                                {
                                    "(No column name)": "1",
                                    "Szállítási mód": "GLS"
                                },
                                {
                                    "(No column name)": "5",
                                    "Szállítási mód": "Posta"
                                },
                                {
                                    "(No column name)": "10",
                                    "Szállítási mód": "Személyes "
                                },
                                {
                                    "(No column name)": "16",
                                    "Szállítási mód": "Szállítási módonként szum"
                                },
                                {
                                    "(No column name)": "6",
                                    "Szállítási mód": "GLS"
                                },
                                {
                                    "(No column name)": "6",
                                    "Szállítási mód": "Posta"
                                },
                                {
                                    "(No column name)": "4",
                                    "Szállítási mód": "Személyes "
                                },
                                {
                                    "(No column name)": "16",
                                    "Szállítási mód": "Szállítási módonként szum"
                                },
                                {
                                    "(No column name)": "5",
                                    "Szállítási mód": "GLS"
                                },
                                {
                                    "(No column name)": "5",
                                    "Szállítási mód": "Posta"
                                },
                                {
                                    "(No column name)": "3",
                                    "Szállítási mód": "Személyes "
                                },
                                {
                                    "(No column name)": "13",
                                    "Szállítási mód": "Szállítási módonként szum"
                                },
                                {
                                    "(No column name)": "5",
                                    "Szállítási mód": "GLS"
                                },
                                {
                                    "(No column name)": "6",
                                    "Szállítási mód": "Posta"
                                },
                                {
                                    "(No column name)": "7",
                                    "Szállítási mód": "Személyes "
                                },
                                {
                                    "(No column name)": "18",
                                    "Szállítási mód": "Szállítási módonként szum"
                                },
                                {
                                    "(No column name)": "5",
                                    "Szállítási mód": "GLS"
                                },
                                {
                                    "(No column name)": "4",
                                    "Szállítási mód": "Posta"
                                },
                                {
                                    "(No column name)": "5",
                                    "Szállítási mód": "Személyes "
                                },
                                {
                                    "(No column name)": "14",
                                    "Szállítási mód": "Szállítási módonként szum"
                                },
                                {
                                    "(No column name)": "8",
                                    "Szállítási mód": "GLS"
                                },
                                {
                                    "(No column name)": "6",
                                    "Szállítási mód": "Posta"
                                },
                                {
                                    "(No column name)": "6",
                                    "Szállítási mód": "Személyes "
                                },
                                {
                                    "(No column name)": "20",
                                    "Szállítási mód": "Szállítási módonként szum"
                                },
                                {
                                    "(No column name)": "9",
                                    "Szállítási mód": "GLS"
                                },
                                {
                                    "(No column name)": "6",
                                    "Szállítási mód": "Posta"
                                },
                                {
                                    "(No column name)": "7",
                                    "Szállítási mód": "Személyes "
                                },
                                {
                                    "(No column name)": "22",
                                    "Szállítási mód": "Szállítási módonként szum"
                                },
                                {
                                    "(No column name)": "5",
                                    "Szállítási mód": "GLS"
                                },
                                {
                                    "(No column name)": "3",
                                    "Szállítási mód": "Posta"
                                },
                                {
                                    "(No column name)": "7",
                                    "Szállítási mód": "Személyes "
                                },
                                {
                                    "(No column name)": "15",
                                    "Szállítási mód": "Szállítási módonként szum"
                                },
                                {
                                    "(No column name)": "129",
                                    "Szállítási mód": "GLS"
                                },
                                {
                                    "(No column name)": "124",
                                    "Szállítási mód": "Posta"
                                },
                                {
                                    "(No column name)": "171",
                                    "Szállítási mód": "Személyes "
                                },
                                {
                                    "(No column name)": "424",
                                    "Szállítási mód": "Szállítási módonként szum"
                                },
                                {
                                    "(No column name)": "6",
                                    "Szállítási mód": "GLS"
                                },
                                {
                                    "(No column name)": "3",
                                    "Szállítási mód": "Posta"
                                },
                                {
                                    "(No column name)": "4",
                                    "Szállítási mód": "Személyes "
                                },
                                {
                                    "(No column name)": "13",
                                    "Szállítási mód": "Szállítási módonként szum"
                                },
                                {
                                    "(No column name)": "127",
                                    "Szállítási mód": "GLS"
                                },
                                {
                                    "(No column name)": "107",
                                    "Szállítási mód": "Posta"
                                },
                                {
                                    "(No column name)": "123",
                                    "Szállítási mód": "Személyes "
                                },
                                {
                                    "(No column name)": "357",
                                    "Szállítási mód": "Szállítási módonként szum"
                                },
                                {
                                    "(No column name)": "7",
                                    "Szállítási mód": "GLS"
                                },
                                {
                                    "(No column name)": "6",
                                    "Szállítási mód": "Posta"
                                },
                                {
                                    "(No column name)": "6",
                                    "Szállítási mód": "Személyes "
                                },
                                {
                                    "(No column name)": "19",
                                    "Szállítási mód": "Szállítási módonként szum"
                                },
                                {
                                    "(No column name)": "11",
                                    "Szállítási mód": "GLS"
                                },
                                {
                                    "(No column name)": "6",
                                    "Szállítási mód": "Posta"
                                },
                                {
                                    "(No column name)": "3",
                                    "Szállítási mód": "Személyes "
                                },
                                {
                                    "(No column name)": "20",
                                    "Szállítási mód": "Szállítási módonként szum"
                                },
                                {
                                    "(No column name)": "1",
                                    "Szállítási mód": "GLS"
                                },
                                {
                                    "(No column name)": "8",
                                    "Szállítási mód": "Posta"
                                },
                                {
                                    "(No column name)": "9",
                                    "Szállítási mód": "Személyes "
                                },
                                {
                                    "(No column name)": "18",
                                    "Szállítási mód": "Szállítási módonként szum"
                                },
                                {
                                    "(No column name)": "8",
                                    "Szállítási mód": "GLS"
                                },
                                {
                                    "(No column name)": "5",
                                    "Szállítási mód": "Posta"
                                },
                                {
                                    "(No column name)": "3",
                                    "Szállítási mód": "Személyes "
                                },
                                {
                                    "(No column name)": "16",
                                    "Szállítási mód": "Szállítási módonként szum"
                                },
                                {
                                    "(No column name)": "5",
                                    "Szállítási mód": "GLS"
                                },
                                {
                                    "(No column name)": "5",
                                    "Szállítási mód": "Posta"
                                },
                                {
                                    "(No column name)": "6",
                                    "Szállítási mód": "Személyes "
                                },
                                {
                                    "(No column name)": "16",
                                    "Szállítási mód": "Szállítási módonként szum"
                                },
                                {
                                    "(No column name)": "7",
                                    "Szállítási mód": "GLS"
                                },
                                {
                                    "(No column name)": "5",
                                    "Szállítási mód": "Posta"
                                },
                                {
                                    "(No column name)": "3",
                                    "Szállítási mód": "Személyes "
                                },
                                {
                                    "(No column name)": "15",
                                    "Szállítási mód": "Szállítási módonként szum"
                                },
                                {
                                    "(No column name)": "139",
                                    "Szállítási mód": "GLS"
                                },
                                {
                                    "(No column name)": "139",
                                    "Szállítási mód": "Posta"
                                },
                                {
                                    "(No column name)": "142",
                                    "Szállítási mód": "Személyes "
                                },
                                {
                                    "(No column name)": "420",
                                    "Szállítási mód": "Szállítási módonként szum"
                                },
                                {
                                    "(No column name)": "28085",
                                    "Szállítási mód": "Szállítási módonként szum"
                                }
                            ]
                        },
                        "text/html": [
                            "<table>",
                            "<tr><th>(No column name)</th><th>Szállítási mód</th><th>(No column name)</th></tr>",
                            "<tr><td>adam</td><td>GLS</td><td>129</td></tr>",
                            "<tr><td>adam</td><td>Posta</td><td>132</td></tr>",
                            "<tr><td>adam</td><td>Személyes </td><td>131</td></tr>",
                            "<tr><td>adam</td><td>Szállítási módonként szum</td><td>392</td></tr>",
                            "<tr><td>adam</td><td>GLS</td><td>10</td></tr>",
                            "<tr><td>adam</td><td>Posta</td><td>3</td></tr>",
                            "<tr><td>adam</td><td>Személyes </td><td>2</td></tr>",
                            "<tr><td>adam</td><td>Szállítási módonként szum</td><td>15</td></tr>",
                            "<tr><td>adam</td><td>GLS</td><td>12</td></tr>",
                            "<tr><td>adam</td><td>Posta</td><td>6</td></tr>",
                            "<tr><td>adam</td><td>Személyes </td><td>11</td></tr>",
                            "<tr><td>adam</td><td>Szállítási módonként szum</td><td>29</td></tr>",
                            "<tr><td>agne</td><td>GLS</td><td>144</td></tr>",
                            "<tr><td>agne</td><td>Posta</td><td>130</td></tr>",
                            "<tr><td>agne</td><td>Személyes </td><td>144</td></tr>",
                            "<tr><td>agne</td><td>Szállítási módonként szum</td><td>418</td></tr>",
                            "<tr><td>agne</td><td>GLS</td><td>148</td></tr>",
                            "<tr><td>agne</td><td>Posta</td><td>146</td></tr>",
                            "<tr><td>agne</td><td>Személyes </td><td>136</td></tr>",
                            "<tr><td>agne</td><td>Szállítási módonként szum</td><td>430</td></tr>",
                            "<tr><td>AGNE</td><td>GLS</td><td>2</td></tr>",
                            "<tr><td>AGNE</td><td>Posta</td><td>3</td></tr>",
                            "<tr><td>AGNE</td><td>Személyes </td><td>6</td></tr>",
                            "<tr><td>AGNE</td><td>Szállítási módonként szum</td><td>11</td></tr>",
                            "<tr><td>AGNE</td><td>GLS</td><td>1</td></tr>",
                            "<tr><td>AGNE</td><td>Posta</td><td>7</td></tr>",
                            "<tr><td>AGNE</td><td>Személyes </td><td>7</td></tr>",
                            "<tr><td>AGNE</td><td>Szállítási módonként szum</td><td>15</td></tr>",
                            "<tr><td>akos</td><td>GLS</td><td>146</td></tr>",
                            "<tr><td>akos</td><td>Posta</td><td>143</td></tr>",
                            "<tr><td>akos</td><td>Személyes </td><td>140</td></tr>",
                            "<tr><td>akos</td><td>Szállítási módonként szum</td><td>429</td></tr>",
                            "<tr><td>alad</td><td>GLS</td><td>156</td></tr>",
                            "<tr><td>alad</td><td>Posta</td><td>134</td></tr>",
                            "<tr><td>alad</td><td>Személyes </td><td>118</td></tr>",
                            "<tr><td>alad</td><td>Szállítási módonként szum</td><td>408</td></tr>",
                            "<tr><td>alex</td><td>GLS</td><td>5</td></tr>",
                            "<tr><td>alex</td><td>Posta</td><td>9</td></tr>",
                            "<tr><td>alex</td><td>Személyes </td><td>5</td></tr>",
                            "<tr><td>alex</td><td>Szállítási módonként szum</td><td>19</td></tr>",
                            "<tr><td>andi</td><td>GLS</td><td>7</td></tr>",
                            "<tr><td>andi</td><td>Posta</td><td>4</td></tr>",
                            "<tr><td>andi</td><td>Személyes </td><td>7</td></tr>",
                            "<tr><td>andi</td><td>Szállítási módonként szum</td><td>18</td></tr>",
                            "<tr><td>andr</td><td>GLS</td><td>4</td></tr>",
                            "<tr><td>andr</td><td>Posta</td><td>7</td></tr>",
                            "<tr><td>andr</td><td>Személyes </td><td>11</td></tr>",
                            "<tr><td>andr</td><td>Szállítási módonként szum</td><td>22</td></tr>",
                            "<tr><td>andr</td><td>GLS</td><td>140</td></tr>",
                            "<tr><td>andr</td><td>Posta</td><td>124</td></tr>",
                            "<tr><td>andr</td><td>Személyes </td><td>126</td></tr>",
                            "<tr><td>andr</td><td>Szállítási módonként szum</td><td>390</td></tr>",
                            "<tr><td>andr</td><td>GLS</td><td>3</td></tr>",
                            "<tr><td>andr</td><td>Posta</td><td>1</td></tr>",
                            "<tr><td>andr</td><td>Személyes </td><td>5</td></tr>",
                            "<tr><td>andr</td><td>Szállítási módonként szum</td><td>9</td></tr>",
                            "<tr><td>andr</td><td>GLS</td><td>4</td></tr>",
                            "<tr><td>andr</td><td>Posta</td><td>4</td></tr>",
                            "<tr><td>andr</td><td>Személyes </td><td>4</td></tr>",
                            "<tr><td>andr</td><td>Szállítási módonként szum</td><td>12</td></tr>",
                            "<tr><td>andr</td><td>GLS</td><td>149</td></tr>",
                            "<tr><td>andr</td><td>Posta</td><td>137</td></tr>",
                            "<tr><td>andr</td><td>Személyes </td><td>133</td></tr>",
                            "<tr><td>andr</td><td>Szállítási módonként szum</td><td>419</td></tr>",
                            "<tr><td>ANDR</td><td>GLS</td><td>159</td></tr>",
                            "<tr><td>ANDR</td><td>Posta</td><td>141</td></tr>",
                            "<tr><td>ANDR</td><td>Személyes </td><td>136</td></tr>",
                            "<tr><td>ANDR</td><td>Szállítási módonként szum</td><td>436</td></tr>",
                            "<tr><td>ANDR</td><td>GLS</td><td>10</td></tr>",
                            "<tr><td>ANDR</td><td>Posta</td><td>9</td></tr>",
                            "<tr><td>ANDR</td><td>Személyes </td><td>5</td></tr>",
                            "<tr><td>ANDR</td><td>Szállítási módonként szum</td><td>24</td></tr>",
                            "<tr><td>andr</td><td>GLS</td><td>12</td></tr>",
                            "<tr><td>andr</td><td>Posta</td><td>4</td></tr>",
                            "<tr><td>andr</td><td>Személyes </td><td>8</td></tr>",
                            "<tr><td>andr</td><td>Szállítási módonként szum</td><td>24</td></tr>",
                            "<tr><td>andr</td><td>GLS</td><td>131</td></tr>",
                            "<tr><td>andr</td><td>Posta</td><td>136</td></tr>",
                            "<tr><td>andr</td><td>Személyes </td><td>146</td></tr>",
                            "<tr><td>andr</td><td>Szállítási módonként szum</td><td>413</td></tr>",
                            "<tr><td>andr</td><td>GLS</td><td>7</td></tr>",
                            "<tr><td>andr</td><td>Posta</td><td>4</td></tr>",
                            "<tr><td>andr</td><td>Személyes </td><td>7</td></tr>",
                            "<tr><td>andr</td><td>Szállítási módonként szum</td><td>18</td></tr>",
                            "<tr><td>ANDR</td><td>GLS</td><td>3</td></tr>",
                            "<tr><td>ANDR</td><td>Posta</td><td>6</td></tr>",
                            "<tr><td>ANDR</td><td>Személyes </td><td>12</td></tr>",
                            "<tr><td>ANDR</td><td>Szállítási módonként szum</td><td>21</td></tr>",
                            "<tr><td>anet</td><td>GLS</td><td>3</td></tr>",
                            "<tr><td>anet</td><td>Posta</td><td>6</td></tr>",
                            "<tr><td>anet</td><td>Személyes </td><td>9</td></tr>",
                            "<tr><td>anet</td><td>Szállítási módonként szum</td><td>18</td></tr>",
                            "<tr><td>anik</td><td>GLS</td><td>128</td></tr>",
                            "<tr><td>anik</td><td>Posta</td><td>137</td></tr>",
                            "<tr><td>anik</td><td>Személyes </td><td>138</td></tr>",
                            "<tr><td>anik</td><td>Szállítási módonként szum</td><td>403</td></tr>",
                            "<tr><td>anik</td><td>GLS</td><td>6</td></tr>",
                            "<tr><td>anik</td><td>Posta</td><td>6</td></tr>",
                            "<tr><td>anik</td><td>Személyes </td><td>3</td></tr>",
                            "<tr><td>anik</td><td>Szállítási módonként szum</td><td>15</td></tr>",
                            "<tr><td>ANIK</td><td>GLS</td><td>128</td></tr>",
                            "<tr><td>ANIK</td><td>Posta</td><td>126</td></tr>",
                            "<tr><td>ANIK</td><td>Személyes </td><td>150</td></tr>",
                            "<tr><td>ANIK</td><td>Szállítási módonként szum</td><td>404</td></tr>",
                            "<tr><td>anit</td><td>GLS</td><td>5</td></tr>",
                            "<tr><td>anit</td><td>Posta</td><td>2</td></tr>",
                            "<tr><td>anit</td><td>Személyes </td><td>5</td></tr>",
                            "<tr><td>anit</td><td>Szállítási módonként szum</td><td>12</td></tr>",
                            "<tr><td>anna</td><td>GLS</td><td>5</td></tr>",
                            "<tr><td>anna</td><td>Posta</td><td>4</td></tr>",
                            "<tr><td>anna</td><td>Személyes </td><td>7</td></tr>",
                            "<tr><td>anna</td><td>Szállítási módonként szum</td><td>16</td></tr>",
                            "<tr><td>ANNA</td><td>GLS</td><td>8</td></tr>",
                            "<tr><td>ANNA</td><td>Posta</td><td>2</td></tr>",
                            "<tr><td>ANNA</td><td>Személyes </td><td>3</td></tr>",
                            "<tr><td>ANNA</td><td>Szállítási módonként szum</td><td>13</td></tr>",
                            "<tr><td>aron</td><td>GLS</td><td>132</td></tr>",
                            "<tr><td>aron</td><td>Posta</td><td>133</td></tr>",
                            "<tr><td>aron</td><td>Személyes </td><td>144</td></tr>",
                            "<tr><td>aron</td><td>Szállítási módonként szum</td><td>409</td></tr>",
                            "<tr><td>ARON</td><td>GLS</td><td>155</td></tr>",
                            "<tr><td>ARON</td><td>Posta</td><td>120</td></tr>",
                            "<tr><td>ARON</td><td>Személyes </td><td>155</td></tr>",
                            "<tr><td>ARON</td><td>Szállítási módonként szum</td><td>430</td></tr>",
                            "<tr><td>arpa</td><td>GLS</td><td>6</td></tr>",
                            "<tr><td>arpa</td><td>Posta</td><td>1</td></tr>",
                            "<tr><td>arpa</td><td>Személyes </td><td>10</td></tr>",
                            "<tr><td>arpa</td><td>Szállítási módonként szum</td><td>17</td></tr>",
                            "<tr><td>ARPA</td><td>GLS</td><td>6</td></tr>",
                            "<tr><td>ARPA</td><td>Posta</td><td>3</td></tr>",
                            "<tr><td>ARPA</td><td>Személyes </td><td>5</td></tr>",
                            "<tr><td>ARPA</td><td>Szállítási módonként szum</td><td>14</td></tr>",
                            "<tr><td>ARPA</td><td>GLS</td><td>6</td></tr>",
                            "<tr><td>ARPA</td><td>Posta</td><td>3</td></tr>",
                            "<tr><td>ARPA</td><td>Személyes </td><td>7</td></tr>",
                            "<tr><td>ARPA</td><td>Szállítási módonként szum</td><td>16</td></tr>",
                            "<tr><td>atti</td><td>GLS</td><td>5</td></tr>",
                            "<tr><td>atti</td><td>Posta</td><td>7</td></tr>",
                            "<tr><td>atti</td><td>Személyes </td><td>6</td></tr>",
                            "<tr><td>atti</td><td>Szállítási módonként szum</td><td>18</td></tr>",
                            "<tr><td>atti</td><td>GLS</td><td>135</td></tr>",
                            "<tr><td>atti</td><td>Posta</td><td>125</td></tr>",
                            "<tr><td>atti</td><td>Személyes </td><td>141</td></tr>",
                            "<tr><td>atti</td><td>Szállítási módonként szum</td><td>401</td></tr>",
                            "<tr><td>ATTI</td><td>GLS</td><td>4</td></tr>",
                            "<tr><td>ATTI</td><td>Posta</td><td>4</td></tr>",
                            "<tr><td>ATTI</td><td>Személyes </td><td>6</td></tr>",
                            "<tr><td>ATTI</td><td>Szállítási módonként szum</td><td>14</td></tr>",
                            "<tr><td>bala</td><td>GLS</td><td>128</td></tr>",
                            "<tr><td>bala</td><td>Posta</td><td>136</td></tr>",
                            "<tr><td>bala</td><td>Személyes </td><td>155</td></tr>",
                            "<tr><td>bala</td><td>Szállítási módonként szum</td><td>419</td></tr>",
                            "<tr><td>bala</td><td>GLS</td><td>5</td></tr>",
                            "<tr><td>bala</td><td>Posta</td><td>7</td></tr>",
                            "<tr><td>bala</td><td>Személyes </td><td>5</td></tr>",
                            "<tr><td>bala</td><td>Szállítási módonként szum</td><td>17</td></tr>",
                            "<tr><td>bala</td><td>GLS</td><td>6</td></tr>",
                            "<tr><td>bala</td><td>Posta</td><td>6</td></tr>",
                            "<tr><td>bala</td><td>Személyes </td><td>3</td></tr>",
                            "<tr><td>bala</td><td>Szállítási módonként szum</td><td>15</td></tr>",
                            "<tr><td>bali</td><td>GLS</td><td>10</td></tr>",
                            "<tr><td>bali</td><td>Posta</td><td>4</td></tr>",
                            "<tr><td>bali</td><td>Személyes </td><td>2</td></tr>",
                            "<tr><td>bali</td><td>Szállítási módonként szum</td><td>16</td></tr>",
                            "<tr><td>bali</td><td>GLS</td><td>158</td></tr>",
                            "<tr><td>bali</td><td>Posta</td><td>152</td></tr>",
                            "<tr><td>bali</td><td>Személyes </td><td>152</td></tr>",
                            "<tr><td>bali</td><td>Szállítási módonként szum</td><td>462</td></tr>",
                            "<tr><td>bali</td><td>GLS</td><td>8</td></tr>",
                            "<tr><td>bali</td><td>Posta</td><td>6</td></tr>",
                            "<tr><td>bali</td><td>Személyes </td><td>3</td></tr>",
                            "<tr><td>bali</td><td>Szállítási módonként szum</td><td>17</td></tr>",
                            "<tr><td>balu</td><td>GLS</td><td>127</td></tr>",
                            "<tr><td>balu</td><td>Posta</td><td>137</td></tr>",
                            "<tr><td>balu</td><td>Személyes </td><td>123</td></tr>",
                            "<tr><td>balu</td><td>Szállítási módonként szum</td><td>387</td></tr>",
                            "<tr><td>BEAT</td><td>GLS</td><td>135</td></tr>",
                            "<tr><td>BEAT</td><td>Posta</td><td>155</td></tr>",
                            "<tr><td>BEAT</td><td>Személyes </td><td>145</td></tr>",
                            "<tr><td>BEAT</td><td>Szállítási módonként szum</td><td>435</td></tr>",
                            "<tr><td>BEAT</td><td>GLS</td><td>146</td></tr>",
                            "<tr><td>BEAT</td><td>Posta</td><td>141</td></tr>",
                            "<tr><td>BEAT</td><td>Személyes </td><td>133</td></tr>",
                            "<tr><td>BEAT</td><td>Szállítási módonként szum</td><td>420</td></tr>",
                            "<tr><td>BELA</td><td>GLS</td><td>11</td></tr>",
                            "<tr><td>BELA</td><td>Posta</td><td>2</td></tr>",
                            "<tr><td>BELA</td><td>Személyes </td><td>5</td></tr>",
                            "<tr><td>BELA</td><td>Szállítási módonként szum</td><td>18</td></tr>",
                            "<tr><td>benc</td><td>GLS</td><td>4</td></tr>",
                            "<tr><td>benc</td><td>Posta</td><td>6</td></tr>",
                            "<tr><td>benc</td><td>Személyes </td><td>8</td></tr>",
                            "<tr><td>benc</td><td>Szállítási módonként szum</td><td>18</td></tr>",
                            "<tr><td>BENC</td><td>GLS</td><td>5</td></tr>",
                            "<tr><td>BENC</td><td>Posta</td><td>7</td></tr>",
                            "<tr><td>BENC</td><td>Személyes </td><td>5</td></tr>",
                            "<tr><td>BENC</td><td>Szállítási módonként szum</td><td>17</td></tr>",
                            "<tr><td>bern</td><td>GLS</td><td>10</td></tr>",
                            "<tr><td>bern</td><td>Posta</td><td>5</td></tr>",
                            "<tr><td>bern</td><td>Személyes </td><td>5</td></tr>",
                            "<tr><td>bern</td><td>Szállítási módonként szum</td><td>20</td></tr>",
                            "<tr><td>bern</td><td>GLS</td><td>6</td></tr>",
                            "<tr><td>bern</td><td>Posta</td><td>2</td></tr>",
                            "<tr><td>bern</td><td>Személyes </td><td>7</td></tr>",
                            "<tr><td>bern</td><td>Szállítási módonként szum</td><td>15</td></tr>",
                            "<tr><td>BERN</td><td>GLS</td><td>7</td></tr>",
                            "<tr><td>BERN</td><td>Posta</td><td>2</td></tr>",
                            "<tr><td>BERN</td><td>Személyes </td><td>7</td></tr>",
                            "<tr><td>BERN</td><td>Szállítási módonként szum</td><td>16</td></tr>",
                            "<tr><td>bert</td><td>GLS</td><td>128</td></tr>",
                            "<tr><td>bert</td><td>Posta</td><td>124</td></tr>",
                            "<tr><td>bert</td><td>Személyes </td><td>101</td></tr>",
                            "<tr><td>bert</td><td>Szállítási módonként szum</td><td>353</td></tr>",
                            "<tr><td>brig</td><td>GLS</td><td>137</td></tr>",
                            "<tr><td>brig</td><td>Posta</td><td>137</td></tr>",
                            "<tr><td>brig</td><td>Személyes </td><td>119</td></tr>",
                            "<tr><td>brig</td><td>Szállítási módonként szum</td><td>393</td></tr>",
                            "<tr><td>brig</td><td>GLS</td><td>144</td></tr>",
                            "<tr><td>brig</td><td>Posta</td><td>130</td></tr>",
                            "<tr><td>brig</td><td>Személyes </td><td>139</td></tr>",
                            "<tr><td>brig</td><td>Szállítási módonként szum</td><td>413</td></tr>",
                            "<tr><td>cson</td><td>GLS</td><td>5</td></tr>",
                            "<tr><td>cson</td><td>Posta</td><td>2</td></tr>",
                            "<tr><td>cson</td><td>Személyes </td><td>8</td></tr>",
                            "<tr><td>cson</td><td>Szállítási módonként szum</td><td>15</td></tr>",
                            "<tr><td>dani</td><td>GLS</td><td>5</td></tr>",
                            "<tr><td>dani</td><td>Személyes </td><td>8</td></tr>",
                            "<tr><td>dani</td><td>Szállítási módonként szum</td><td>13</td></tr>",
                            "<tr><td>dani</td><td>GLS</td><td>7</td></tr>",
                            "<tr><td>dani</td><td>Posta</td><td>2</td></tr>",
                            "<tr><td>dani</td><td>Személyes </td><td>4</td></tr>",
                            "<tr><td>dani</td><td>Szállítási módonként szum</td><td>13</td></tr>",
                            "<tr><td>dani</td><td>GLS</td><td>156</td></tr>",
                            "<tr><td>dani</td><td>Posta</td><td>131</td></tr>",
                            "<tr><td>dani</td><td>Személyes </td><td>132</td></tr>",
                            "<tr><td>dani</td><td>Szállítási módonként szum</td><td>419</td></tr>",
                            "<tr><td>davi</td><td>GLS</td><td>161</td></tr>",
                            "<tr><td>davi</td><td>Posta</td><td>144</td></tr>",
                            "<tr><td>davi</td><td>Személyes </td><td>146</td></tr>",
                            "<tr><td>davi</td><td>Szállítási módonként szum</td><td>451</td></tr>",
                            "<tr><td>davi</td><td>GLS</td><td>8</td></tr>",
                            "<tr><td>davi</td><td>Posta</td><td>1</td></tr>",
                            "<tr><td>davi</td><td>Személyes </td><td>8</td></tr>",
                            "<tr><td>davi</td><td>Szállítási módonként szum</td><td>17</td></tr>",
                            "<tr><td>davi</td><td>GLS</td><td>3</td></tr>",
                            "<tr><td>davi</td><td>Posta</td><td>8</td></tr>",
                            "<tr><td>davi</td><td>Személyes </td><td>10</td></tr>",
                            "<tr><td>davi</td><td>Szállítási módonként szum</td><td>21</td></tr>",
                            "<tr><td>debo</td><td>GLS</td><td>7</td></tr>",
                            "<tr><td>debo</td><td>Posta</td><td>6</td></tr>",
                            "<tr><td>debo</td><td>Személyes </td><td>3</td></tr>",
                            "<tr><td>debo</td><td>Szállítási módonként szum</td><td>16</td></tr>",
                            "<tr><td>dene</td><td>GLS</td><td>3</td></tr>",
                            "<tr><td>dene</td><td>Posta</td><td>2</td></tr>",
                            "<tr><td>dene</td><td>Személyes </td><td>4</td></tr>",
                            "<tr><td>dene</td><td>Szállítási módonként szum</td><td>9</td></tr>",
                            "<tr><td>dora</td><td>GLS</td><td>144</td></tr>",
                            "<tr><td>dora</td><td>Posta</td><td>124</td></tr>",
                            "<tr><td>dora</td><td>Személyes </td><td>164</td></tr>",
                            "<tr><td>dora</td><td>Szállítási módonként szum</td><td>432</td></tr>",
                            "<tr><td>edit</td><td>GLS</td><td>7</td></tr>",
                            "<tr><td>edit</td><td>Posta</td><td>2</td></tr>",
                            "<tr><td>edit</td><td>Személyes </td><td>4</td></tr>",
                            "<tr><td>edit</td><td>Szállítási módonként szum</td><td>13</td></tr>",
                            "<tr><td>emes</td><td>GLS</td><td>128</td></tr>",
                            "<tr><td>emes</td><td>Posta</td><td>136</td></tr>",
                            "<tr><td>emes</td><td>Személyes </td><td>142</td></tr>",
                            "<tr><td>emes</td><td>Szállítási módonként szum</td><td>406</td></tr>",
                            "<tr><td>eszt</td><td>GLS</td><td>127</td></tr>",
                            "<tr><td>eszt</td><td>Posta</td><td>136</td></tr>",
                            "<tr><td>eszt</td><td>Személyes </td><td>152</td></tr>",
                            "<tr><td>eszt</td><td>Szállítási módonként szum</td><td>415</td></tr>",
                            "<tr><td>eszt</td><td>GLS</td><td>141</td></tr>",
                            "<tr><td>eszt</td><td>Posta</td><td>134</td></tr>",
                            "<tr><td>eszt</td><td>Személyes </td><td>149</td></tr>",
                            "<tr><td>eszt</td><td>Szállítási módonként szum</td><td>424</td></tr>",
                            "<tr><td>ESZT</td><td>GLS</td><td>6</td></tr>",
                            "<tr><td>ESZT</td><td>Posta</td><td>9</td></tr>",
                            "<tr><td>ESZT</td><td>Személyes </td><td>7</td></tr>",
                            "<tr><td>ESZT</td><td>Szállítási módonként szum</td><td>22</td></tr>",
                            "<tr><td>eva</td><td>GLS</td><td>125</td></tr>",
                            "<tr><td>eva</td><td>Posta</td><td>140</td></tr>",
                            "<tr><td>eva</td><td>Személyes </td><td>139</td></tr>",
                            "<tr><td>eva</td><td>Szállítási módonként szum</td><td>404</td></tr>",
                            "<tr><td>eva2</td><td>GLS</td><td>154</td></tr>",
                            "<tr><td>eva2</td><td>Posta</td><td>138</td></tr>",
                            "<tr><td>eva2</td><td>Személyes </td><td>170</td></tr>",
                            "<tr><td>eva2</td><td>Szállítási módonként szum</td><td>462</td></tr>",
                            "<tr><td>EVAV</td><td>GLS</td><td>2</td></tr>",
                            "<tr><td>EVAV</td><td>Posta</td><td>1</td></tr>",
                            "<tr><td>EVAV</td><td>Személyes </td><td>4</td></tr>",
                            "<tr><td>EVAV</td><td>Szállítási módonként szum</td><td>7</td></tr>",
                            "<tr><td>fere</td><td>GLS</td><td>144</td></tr>",
                            "<tr><td>fere</td><td>Posta</td><td>158</td></tr>",
                            "<tr><td>fere</td><td>Személyes </td><td>135</td></tr>",
                            "<tr><td>fere</td><td>Szállítási módonként szum</td><td>437</td></tr>",
                            "<tr><td>fruz</td><td>GLS</td><td>8</td></tr>",
                            "<tr><td>fruz</td><td>Posta</td><td>3</td></tr>",
                            "<tr><td>fruz</td><td>Személyes </td><td>7</td></tr>",
                            "<tr><td>fruz</td><td>Szállítási módonként szum</td><td>18</td></tr>",
                            "<tr><td>gabo</td><td>GLS</td><td>9</td></tr>",
                            "<tr><td>gabo</td><td>Posta</td><td>5</td></tr>",
                            "<tr><td>gabo</td><td>Személyes </td><td>5</td></tr>",
                            "<tr><td>gabo</td><td>Szállítási módonként szum</td><td>19</td></tr>",
                            "<tr><td>gabo</td><td>GLS</td><td>7</td></tr>",
                            "<tr><td>gabo</td><td>Posta</td><td>9</td></tr>",
                            "<tr><td>gabo</td><td>Személyes </td><td>4</td></tr>",
                            "<tr><td>gabo</td><td>Szállítási módonként szum</td><td>20</td></tr>",
                            "<tr><td>GABO</td><td>GLS</td><td>5</td></tr>",
                            "<tr><td>GABO</td><td>Posta</td><td>6</td></tr>",
                            "<tr><td>GABO</td><td>Személyes </td><td>4</td></tr>",
                            "<tr><td>GABO</td><td>Szállítási módonként szum</td><td>15</td></tr>",
                            "<tr><td>gabr</td><td>GLS</td><td>5</td></tr>",
                            "<tr><td>gabr</td><td>Posta</td><td>4</td></tr>",
                            "<tr><td>gabr</td><td>Személyes </td><td>5</td></tr>",
                            "<tr><td>gabr</td><td>Szállítási módonként szum</td><td>14</td></tr>",
                            "<tr><td>gabr</td><td>GLS</td><td>4</td></tr>",
                            "<tr><td>gabr</td><td>Posta</td><td>5</td></tr>",
                            "<tr><td>gabr</td><td>Személyes </td><td>7</td></tr>",
                            "<tr><td>gabr</td><td>Szállítási módonként szum</td><td>16</td></tr>",
                            "<tr><td>geor</td><td>GLS</td><td>9</td></tr>",
                            "<tr><td>geor</td><td>Posta</td><td>2</td></tr>",
                            "<tr><td>geor</td><td>Személyes </td><td>10</td></tr>",
                            "<tr><td>geor</td><td>Szállítási módonként szum</td><td>21</td></tr>",
                            "<tr><td>gusz</td><td>GLS</td><td>5</td></tr>",
                            "<tr><td>gusz</td><td>Posta</td><td>4</td></tr>",
                            "<tr><td>gusz</td><td>Személyes </td><td>5</td></tr>",
                            "<tr><td>gusz</td><td>Szállítási módonként szum</td><td>14</td></tr>",
                            "<tr><td>GYON</td><td>GLS</td><td>6</td></tr>",
                            "<tr><td>GYON</td><td>Posta</td><td>6</td></tr>",
                            "<tr><td>GYON</td><td>Személyes </td><td>3</td></tr>",
                            "<tr><td>GYON</td><td>Szállítási módonként szum</td><td>15</td></tr>",
                            "<tr><td>GYOR</td><td>GLS</td><td>7</td></tr>",
                            "<tr><td>GYOR</td><td>Posta</td><td>4</td></tr>",
                            "<tr><td>GYOR</td><td>Személyes </td><td>5</td></tr>",
                            "<tr><td>GYOR</td><td>Szállítási módonként szum</td><td>16</td></tr>",
                            "<tr><td>henr</td><td>GLS</td><td>7</td></tr>",
                            "<tr><td>henr</td><td>Posta</td><td>4</td></tr>",
                            "<tr><td>henr</td><td>Személyes </td><td>5</td></tr>",
                            "<tr><td>henr</td><td>Szállítási módonként szum</td><td>16</td></tr>",
                            "<tr><td>IBOL</td><td>GLS</td><td>140</td></tr>",
                            "<tr><td>IBOL</td><td>Posta</td><td>125</td></tr>",
                            "<tr><td>IBOL</td><td>Személyes </td><td>157</td></tr>",
                            "<tr><td>IBOL</td><td>Szállítási módonként szum</td><td>422</td></tr>",
                            "<tr><td>ilon</td><td>GLS</td><td>9</td></tr>",
                            "<tr><td>ilon</td><td>Posta</td><td>2</td></tr>",
                            "<tr><td>ilon</td><td>Személyes </td><td>7</td></tr>",
                            "<tr><td>ilon</td><td>Szállítási módonként szum</td><td>18</td></tr>",
                            "<tr><td>imre</td><td>GLS</td><td>5</td></tr>",
                            "<tr><td>imre</td><td>Posta</td><td>4</td></tr>",
                            "<tr><td>imre</td><td>Személyes </td><td>6</td></tr>",
                            "<tr><td>imre</td><td>Szállítási módonként szum</td><td>15</td></tr>",
                            "<tr><td>imre</td><td>GLS</td><td>8</td></tr>",
                            "<tr><td>imre</td><td>Posta</td><td>4</td></tr>",
                            "<tr><td>imre</td><td>Személyes </td><td>3</td></tr>",
                            "<tr><td>imre</td><td>Szállítási módonként szum</td><td>15</td></tr>",
                            "<tr><td>istv</td><td>GLS</td><td>3</td></tr>",
                            "<tr><td>istv</td><td>Posta</td><td>4</td></tr>",
                            "<tr><td>istv</td><td>Személyes </td><td>4</td></tr>",
                            "<tr><td>istv</td><td>Szállítási módonként szum</td><td>11</td></tr>",
                            "<tr><td>istv</td><td>GLS</td><td>8</td></tr>",
                            "<tr><td>istv</td><td>Posta</td><td>4</td></tr>",
                            "<tr><td>istv</td><td>Személyes </td><td>7</td></tr>",
                            "<tr><td>istv</td><td>Szállítási módonként szum</td><td>19</td></tr>",
                            "<tr><td>ISTV</td><td>GLS</td><td>4</td></tr>",
                            "<tr><td>ISTV</td><td>Posta</td><td>9</td></tr>",
                            "<tr><td>ISTV</td><td>Személyes </td><td>8</td></tr>",
                            "<tr><td>ISTV</td><td>Szállítási módonként szum</td><td>21</td></tr>",
                            "<tr><td>jano</td><td>GLS</td><td>5</td></tr>",
                            "<tr><td>jano</td><td>Posta</td><td>2</td></tr>",
                            "<tr><td>jano</td><td>Személyes </td><td>6</td></tr>",
                            "<tr><td>jano</td><td>Szállítási módonként szum</td><td>13</td></tr>",
                            "<tr><td>JANO</td><td>GLS</td><td>3</td></tr>",
                            "<tr><td>JANO</td><td>Posta</td><td>3</td></tr>",
                            "<tr><td>JANO</td><td>Személyes </td><td>4</td></tr>",
                            "<tr><td>JANO</td><td>Szállítási módonként szum</td><td>10</td></tr>",
                            "<tr><td>JANO</td><td>GLS</td><td>7</td></tr>",
                            "<tr><td>JANO</td><td>Posta</td><td>7</td></tr>",
                            "<tr><td>JANO</td><td>Személyes </td><td>3</td></tr>",
                            "<tr><td>JANO</td><td>Szállítási módonként szum</td><td>17</td></tr>",
                            "<tr><td>jozs</td><td>GLS</td><td>116</td></tr>",
                            "<tr><td>jozs</td><td>Posta</td><td>132</td></tr>",
                            "<tr><td>jozs</td><td>Személyes </td><td>134</td></tr>",
                            "<tr><td>jozs</td><td>Szállítási módonként szum</td><td>382</td></tr>",
                            "<tr><td>jozs</td><td>GLS</td><td>7</td></tr>",
                            "<tr><td>jozs</td><td>Posta</td><td>2</td></tr>",
                            "<tr><td>jozs</td><td>Személyes </td><td>4</td></tr>",
                            "<tr><td>jozs</td><td>Szállítási módonként szum</td><td>13</td></tr>",
                            "<tr><td>JOZS</td><td>GLS</td><td>11</td></tr>",
                            "<tr><td>JOZS</td><td>Posta</td><td>1</td></tr>",
                            "<tr><td>JOZS</td><td>Személyes </td><td>9</td></tr>",
                            "<tr><td>JOZS</td><td>Szállítási módonként szum</td><td>21</td></tr>",
                            "<tr><td>JUDI</td><td>GLS</td><td>170</td></tr>",
                            "<tr><td>JUDI</td><td>Posta</td><td>130</td></tr>",
                            "<tr><td>JUDI</td><td>Személyes </td><td>150</td></tr>",
                            "<tr><td>JUDI</td><td>Szállítási módonként szum</td><td>450</td></tr>",
                            "<tr><td>juli</td><td>GLS</td><td>137</td></tr>",
                            "<tr><td>juli</td><td>Posta</td><td>160</td></tr>",
                            "<tr><td>juli</td><td>Személyes </td><td>138</td></tr>",
                            "<tr><td>juli</td><td>Szállítási módonként szum</td><td>435</td></tr>",
                            "<tr><td>juli</td><td>GLS</td><td>2</td></tr>",
                            "<tr><td>juli</td><td>Posta</td><td>4</td></tr>",
                            "<tr><td>juli</td><td>Személyes </td><td>8</td></tr>",
                            "<tr><td>juli</td><td>Szállítási módonként szum</td><td>14</td></tr>",
                            "<tr><td>juli</td><td>GLS</td><td>8</td></tr>",
                            "<tr><td>juli</td><td>Posta</td><td>12</td></tr>",
                            "<tr><td>juli</td><td>Személyes </td><td>7</td></tr>",
                            "<tr><td>juli</td><td>Szállítási módonként szum</td><td>27</td></tr>",
                            "<tr><td>kata</td><td>GLS</td><td>5</td></tr>",
                            "<tr><td>kata</td><td>Posta</td><td>4</td></tr>",
                            "<tr><td>kata</td><td>Személyes </td><td>3</td></tr>",
                            "<tr><td>kata</td><td>Szállítási módonként szum</td><td>12</td></tr>",
                            "<tr><td>kata</td><td>GLS</td><td>7</td></tr>",
                            "<tr><td>kata</td><td>Posta</td><td>7</td></tr>",
                            "<tr><td>kata</td><td>Személyes </td><td>5</td></tr>",
                            "<tr><td>kata</td><td>Szállítási módonként szum</td><td>19</td></tr>",
                            "<tr><td>kata</td><td>GLS</td><td>7</td></tr>",
                            "<tr><td>kata</td><td>Posta</td><td>5</td></tr>",
                            "<tr><td>kata</td><td>Személyes </td><td>11</td></tr>",
                            "<tr><td>kata</td><td>Szállítási módonként szum</td><td>23</td></tr>",
                            "<tr><td>kati</td><td>GLS</td><td>4</td></tr>",
                            "<tr><td>kati</td><td>Posta</td><td>5</td></tr>",
                            "<tr><td>kati</td><td>Személyes </td><td>4</td></tr>",
                            "<tr><td>kati</td><td>Szállítási módonként szum</td><td>13</td></tr>",
                            "<tr><td>katk</td><td>GLS</td><td>6</td></tr>",
                            "<tr><td>katk</td><td>Posta</td><td>6</td></tr>",
                            "<tr><td>katk</td><td>Személyes </td><td>10</td></tr>",
                            "<tr><td>katk</td><td>Szállítási módonként szum</td><td>22</td></tr>",
                            "<tr><td>klau</td><td>GLS</td><td>3</td></tr>",
                            "<tr><td>klau</td><td>Posta</td><td>9</td></tr>",
                            "<tr><td>klau</td><td>Személyes </td><td>5</td></tr>",
                            "<tr><td>klau</td><td>Szállítási módonként szum</td><td>17</td></tr>",
                            "<tr><td>korn</td><td>GLS</td><td>3</td></tr>",
                            "<tr><td>korn</td><td>Posta</td><td>1</td></tr>",
                            "<tr><td>korn</td><td>Személyes </td><td>7</td></tr>",
                            "<tr><td>korn</td><td>Szállítási módonként szum</td><td>11</td></tr>",
                            "<tr><td>kris</td><td>GLS</td><td>9</td></tr>",
                            "<tr><td>kris</td><td>Posta</td><td>4</td></tr>",
                            "<tr><td>kris</td><td>Személyes </td><td>8</td></tr>",
                            "<tr><td>kris</td><td>Szállítási módonként szum</td><td>21</td></tr>",
                            "<tr><td>kris</td><td>GLS</td><td>3</td></tr>",
                            "<tr><td>kris</td><td>Posta</td><td>5</td></tr>",
                            "<tr><td>kris</td><td>Személyes </td><td>5</td></tr>",
                            "<tr><td>kris</td><td>Szállítási módonként szum</td><td>13</td></tr>",
                            "<tr><td>kris</td><td>GLS</td><td>5</td></tr>",
                            "<tr><td>kris</td><td>Posta</td><td>6</td></tr>",
                            "<tr><td>kris</td><td>Személyes </td><td>6</td></tr>",
                            "<tr><td>kris</td><td>Szállítási módonként szum</td><td>17</td></tr>",
                            "<tr><td>KRIS</td><td>GLS</td><td>118</td></tr>",
                            "<tr><td>KRIS</td><td>Posta</td><td>136</td></tr>",
                            "<tr><td>KRIS</td><td>Személyes </td><td>130</td></tr>",
                            "<tr><td>KRIS</td><td>Szállítási módonként szum</td><td>384</td></tr>",
                            "<tr><td>kris</td><td>GLS</td><td>149</td></tr>",
                            "<tr><td>kris</td><td>Posta</td><td>150</td></tr>",
                            "<tr><td>kris</td><td>Személyes </td><td>157</td></tr>",
                            "<tr><td>kris</td><td>Szállítási módonként szum</td><td>456</td></tr>",
                            "<tr><td>kris</td><td>GLS</td><td>10</td></tr>",
                            "<tr><td>kris</td><td>Posta</td><td>4</td></tr>",
                            "<tr><td>kris</td><td>Személyes </td><td>8</td></tr>",
                            "<tr><td>kris</td><td>Szállítási módonként szum</td><td>22</td></tr>",
                            "<tr><td>KRIS</td><td>GLS</td><td>6</td></tr>",
                            "<tr><td>KRIS</td><td>Posta</td><td>6</td></tr>",
                            "<tr><td>KRIS</td><td>Személyes </td><td>10</td></tr>",
                            "<tr><td>KRIS</td><td>Szállítási módonként szum</td><td>22</td></tr>",
                            "<tr><td>lajo</td><td>GLS</td><td>5</td></tr>",
                            "<tr><td>lajo</td><td>Posta</td><td>2</td></tr>",
                            "<tr><td>lajo</td><td>Személyes </td><td>9</td></tr>",
                            "<tr><td>lajo</td><td>Szállítási módonként szum</td><td>16</td></tr>",
                            "<tr><td>lala</td><td>GLS</td><td>5</td></tr>",
                            "<tr><td>lala</td><td>Posta</td><td>3</td></tr>",
                            "<tr><td>lala</td><td>Személyes </td><td>9</td></tr>",
                            "<tr><td>lala</td><td>Szállítási módonként szum</td><td>17</td></tr>",
                            "<tr><td>lasz</td><td>GLS</td><td>130</td></tr>",
                            "<tr><td>lasz</td><td>Posta</td><td>129</td></tr>",
                            "<tr><td>lasz</td><td>Személyes </td><td>135</td></tr>",
                            "<tr><td>lasz</td><td>Szállítási módonként szum</td><td>394</td></tr>",
                            "<tr><td>lasz</td><td>GLS</td><td>12</td></tr>",
                            "<tr><td>lasz</td><td>Posta</td><td>6</td></tr>",
                            "<tr><td>lasz</td><td>Személyes </td><td>7</td></tr>",
                            "<tr><td>lasz</td><td>Szállítási módonként szum</td><td>25</td></tr>",
                            "<tr><td>LASZ</td><td>GLS</td><td>156</td></tr>",
                            "<tr><td>LASZ</td><td>Posta</td><td>136</td></tr>",
                            "<tr><td>LASZ</td><td>Személyes </td><td>154</td></tr>",
                            "<tr><td>LASZ</td><td>Szállítási módonként szum</td><td>446</td></tr>",
                            "<tr><td>LASZ</td><td>GLS</td><td>126</td></tr>",
                            "<tr><td>LASZ</td><td>Posta</td><td>131</td></tr>",
                            "<tr><td>LASZ</td><td>Személyes </td><td>143</td></tr>",
                            "<tr><td>LASZ</td><td>Szállítási módonként szum</td><td>400</td></tr>",
                            "<tr><td>mari</td><td>GLS</td><td>4</td></tr>",
                            "<tr><td>mari</td><td>Posta</td><td>5</td></tr>",
                            "<tr><td>mari</td><td>Személyes </td><td>1</td></tr>",
                            "<tr><td>mari</td><td>Szállítási módonként szum</td><td>10</td></tr>",
                            "<tr><td>MARK</td><td>GLS</td><td>128</td></tr>",
                            "<tr><td>MARK</td><td>Posta</td><td>142</td></tr>",
                            "<tr><td>MARK</td><td>Személyes </td><td>142</td></tr>",
                            "<tr><td>MARK</td><td>Szállítási módonként szum</td><td>412</td></tr>",
                            "<tr><td>mart</td><td>GLS</td><td>5</td></tr>",
                            "<tr><td>mart</td><td>Posta</td><td>4</td></tr>",
                            "<tr><td>mart</td><td>Személyes </td><td>5</td></tr>",
                            "<tr><td>mart</td><td>Szállítási módonként szum</td><td>14</td></tr>",
                            "<tr><td>MATE</td><td>GLS</td><td>6</td></tr>",
                            "<tr><td>MATE</td><td>Posta</td><td>10</td></tr>",
                            "<tr><td>MATE</td><td>Személyes </td><td>9</td></tr>",
                            "<tr><td>MATE</td><td>Szállítási módonként szum</td><td>25</td></tr>",
                            "<tr><td>maty</td><td>GLS</td><td>138</td></tr>",
                            "<tr><td>maty</td><td>Posta</td><td>131</td></tr>",
                            "<tr><td>maty</td><td>Személyes </td><td>164</td></tr>",
                            "<tr><td>maty</td><td>Szállítási módonként szum</td><td>433</td></tr>",
                            "<tr><td>MATY</td><td>GLS</td><td>4</td></tr>",
                            "<tr><td>MATY</td><td>Posta</td><td>5</td></tr>",
                            "<tr><td>MATY</td><td>Személyes </td><td>3</td></tr>",
                            "<tr><td>MATY</td><td>Szállítási módonként szum</td><td>12</td></tr>",
                            "<tr><td>MIHA</td><td>GLS</td><td>3</td></tr>",
                            "<tr><td>MIHA</td><td>Posta</td><td>4</td></tr>",
                            "<tr><td>MIHA</td><td>Személyes </td><td>6</td></tr>",
                            "<tr><td>MIHA</td><td>Szállítási módonként szum</td><td>13</td></tr>",
                            "<tr><td>mikl</td><td>GLS</td><td>7</td></tr>",
                            "<tr><td>mikl</td><td>Posta</td><td>4</td></tr>",
                            "<tr><td>mikl</td><td>Személyes </td><td>2</td></tr>",
                            "<tr><td>mikl</td><td>Szállítási módonként szum</td><td>13</td></tr>",
                            "<tr><td>MIKL</td><td>GLS</td><td>6</td></tr>",
                            "<tr><td>MIKL</td><td>Posta</td><td>1</td></tr>",
                            "<tr><td>MIKL</td><td>Személyes </td><td>8</td></tr>",
                            "<tr><td>MIKL</td><td>Szállítási módonként szum</td><td>15</td></tr>",
                            "<tr><td>MONI</td><td>GLS</td><td>133</td></tr>",
                            "<tr><td>MONI</td><td>Posta</td><td>151</td></tr>",
                            "<tr><td>MONI</td><td>Személyes </td><td>123</td></tr>",
                            "<tr><td>MONI</td><td>Szállítási módonként szum</td><td>407</td></tr>",
                            "<tr><td>NAND</td><td>GLS</td><td>147</td></tr>",
                            "<tr><td>NAND</td><td>Posta</td><td>139</td></tr>",
                            "<tr><td>NAND</td><td>Személyes </td><td>134</td></tr>",
                            "<tr><td>NAND</td><td>Szállítási módonként szum</td><td>420</td></tr>",
                            "<tr><td>niko</td><td>GLS</td><td>4</td></tr>",
                            "<tr><td>niko</td><td>Posta</td><td>3</td></tr>",
                            "<tr><td>niko</td><td>Személyes </td><td>10</td></tr>",
                            "<tr><td>niko</td><td>Szállítási módonként szum</td><td>17</td></tr>",
                            "<tr><td>niko</td><td>GLS</td><td>137</td></tr>",
                            "<tr><td>niko</td><td>Posta</td><td>158</td></tr>",
                            "<tr><td>niko</td><td>Személyes </td><td>119</td></tr>",
                            "<tr><td>niko</td><td>Szállítási módonként szum</td><td>414</td></tr>",
                            "<tr><td>NIKO</td><td>GLS</td><td>13</td></tr>",
                            "<tr><td>NIKO</td><td>Posta</td><td>7</td></tr>",
                            "<tr><td>NIKO</td><td>Személyes </td><td>5</td></tr>",
                            "<tr><td>NIKO</td><td>Szállítási módonként szum</td><td>25</td></tr>",
                            "<tr><td>norb</td><td>GLS</td><td>7</td></tr>",
                            "<tr><td>norb</td><td>Posta</td><td>4</td></tr>",
                            "<tr><td>norb</td><td>Szállítási módonként szum</td><td>11</td></tr>",
                            "<tr><td>norb</td><td>GLS</td><td>1</td></tr>",
                            "<tr><td>norb</td><td>Posta</td><td>3</td></tr>",
                            "<tr><td>norb</td><td>Személyes </td><td>9</td></tr>",
                            "<tr><td>norb</td><td>Szállítási módonként szum</td><td>13</td></tr>",
                            "<tr><td>norb</td><td>GLS</td><td>1</td></tr>",
                            "<tr><td>norb</td><td>Posta</td><td>6</td></tr>",
                            "<tr><td>norb</td><td>Személyes </td><td>9</td></tr>",
                            "<tr><td>norb</td><td>Szállítási módonként szum</td><td>16</td></tr>",
                            "<tr><td>pal</td><td>GLS</td><td>152</td></tr>",
                            "<tr><td>pal</td><td>Posta</td><td>132</td></tr>",
                            "<tr><td>pal</td><td>Személyes </td><td>154</td></tr>",
                            "<tr><td>pal</td><td>Szállítási módonként szum</td><td>438</td></tr>",
                            "<tr><td>pete</td><td>GLS</td><td>151</td></tr>",
                            "<tr><td>pete</td><td>Posta</td><td>135</td></tr>",
                            "<tr><td>pete</td><td>Személyes </td><td>126</td></tr>",
                            "<tr><td>pete</td><td>Szállítási módonként szum</td><td>412</td></tr>",
                            "<tr><td>pete</td><td>GLS</td><td>7</td></tr>",
                            "<tr><td>pete</td><td>Posta</td><td>4</td></tr>",
                            "<tr><td>pete</td><td>Személyes </td><td>7</td></tr>",
                            "<tr><td>pete</td><td>Szállítási módonként szum</td><td>18</td></tr>",
                            "<tr><td>pete</td><td>GLS</td><td>8</td></tr>",
                            "<tr><td>pete</td><td>Posta</td><td>7</td></tr>",
                            "<tr><td>pete</td><td>Személyes </td><td>10</td></tr>",
                            "<tr><td>pete</td><td>Szállítási módonként szum</td><td>25</td></tr>",
                            "<tr><td>pete</td><td>GLS</td><td>266</td></tr>",
                            "<tr><td>pete</td><td>Posta</td><td>293</td></tr>",
                            "<tr><td>pete</td><td>Személyes </td><td>293</td></tr>",
                            "<tr><td>pete</td><td>Szállítási módonként szum</td><td>852</td></tr>",
                            "<tr><td>PETE</td><td>GLS</td><td>2</td></tr>",
                            "<tr><td>PETE</td><td>Posta</td><td>4</td></tr>",
                            "<tr><td>PETE</td><td>Személyes </td><td>9</td></tr>",
                            "<tr><td>PETE</td><td>Szállítási módonként szum</td><td>15</td></tr>",
                            "<tr><td>poll</td><td>GLS</td><td>9</td></tr>",
                            "<tr><td>poll</td><td>Posta</td><td>6</td></tr>",
                            "<tr><td>poll</td><td>Személyes </td><td>7</td></tr>",
                            "<tr><td>poll</td><td>Szállítási módonként szum</td><td>22</td></tr>",
                            "<tr><td>rajm</td><td>GLS</td><td>6</td></tr>",
                            "<tr><td>rajm</td><td>Posta</td><td>5</td></tr>",
                            "<tr><td>rajm</td><td>Személyes </td><td>6</td></tr>",
                            "<tr><td>rajm</td><td>Szállítási módonként szum</td><td>17</td></tr>",
                            "<tr><td>reka</td><td>GLS</td><td>5</td></tr>",
                            "<tr><td>reka</td><td>Posta</td><td>4</td></tr>",
                            "<tr><td>reka</td><td>Személyes </td><td>11</td></tr>",
                            "<tr><td>reka</td><td>Szállítási módonként szum</td><td>20</td></tr>",
                            "<tr><td>RENA</td><td>GLS</td><td>135</td></tr>",
                            "<tr><td>RENA</td><td>Posta</td><td>140</td></tr>",
                            "<tr><td>RENA</td><td>Személyes </td><td>147</td></tr>",
                            "<tr><td>RENA</td><td>Szállítási módonként szum</td><td>422</td></tr>",
                            "<tr><td>RENA</td><td>GLS</td><td>6</td></tr>",
                            "<tr><td>RENA</td><td>Posta</td><td>5</td></tr>",
                            "<tr><td>RENA</td><td>Személyes </td><td>5</td></tr>",
                            "<tr><td>RENA</td><td>Szállítási módonként szum</td><td>16</td></tr>",
                            "<tr><td>robe</td><td>GLS</td><td>5</td></tr>",
                            "<tr><td>robe</td><td>Posta</td><td>1</td></tr>",
                            "<tr><td>robe</td><td>Személyes </td><td>7</td></tr>",
                            "<tr><td>robe</td><td>Szállítási módonként szum</td><td>13</td></tr>",
                            "<tr><td>ROBE</td><td>GLS</td><td>5</td></tr>",
                            "<tr><td>ROBE</td><td>Posta</td><td>3</td></tr>",
                            "<tr><td>ROBE</td><td>Személyes </td><td>5</td></tr>",
                            "<tr><td>ROBE</td><td>Szállítási módonként szum</td><td>13</td></tr>",
                            "<tr><td>ROBE</td><td>GLS</td><td>8</td></tr>",
                            "<tr><td>ROBE</td><td>Posta</td><td>8</td></tr>",
                            "<tr><td>ROBE</td><td>Személyes </td><td>10</td></tr>",
                            "<tr><td>ROBE</td><td>Szállítási módonként szum</td><td>26</td></tr>",
                            "<tr><td>rola</td><td>GLS</td><td>132</td></tr>",
                            "<tr><td>rola</td><td>Posta</td><td>157</td></tr>",
                            "<tr><td>rola</td><td>Személyes </td><td>125</td></tr>",
                            "<tr><td>rola</td><td>Szállítási módonként szum</td><td>414</td></tr>",
                            "<tr><td>rola</td><td>GLS</td><td>142</td></tr>",
                            "<tr><td>rola</td><td>Posta</td><td>155</td></tr>",
                            "<tr><td>rola</td><td>Személyes </td><td>135</td></tr>",
                            "<tr><td>rola</td><td>Szállítási módonként szum</td><td>432</td></tr>",
                            "<tr><td>roza</td><td>GLS</td><td>3</td></tr>",
                            "<tr><td>roza</td><td>Posta</td><td>2</td></tr>",
                            "<tr><td>roza</td><td>Személyes </td><td>3</td></tr>",
                            "<tr><td>roza</td><td>Szállítási módonként szum</td><td>8</td></tr>",
                            "<tr><td>sand</td><td>GLS</td><td>4</td></tr>",
                            "<tr><td>sand</td><td>Posta</td><td>6</td></tr>",
                            "<tr><td>sand</td><td>Személyes </td><td>7</td></tr>",
                            "<tr><td>sand</td><td>Szállítási módonként szum</td><td>17</td></tr>",
                            "<tr><td>sand</td><td>GLS</td><td>4</td></tr>",
                            "<tr><td>sand</td><td>Posta</td><td>4</td></tr>",
                            "<tr><td>sand</td><td>Személyes </td><td>6</td></tr>",
                            "<tr><td>sand</td><td>Szállítási módonként szum</td><td>14</td></tr>",
                            "<tr><td>sand</td><td>GLS</td><td>4</td></tr>",
                            "<tr><td>sand</td><td>Posta</td><td>2</td></tr>",
                            "<tr><td>sand</td><td>Személyes </td><td>5</td></tr>",
                            "<tr><td>sand</td><td>Szállítási módonként szum</td><td>11</td></tr>",
                            "<tr><td>sara</td><td>GLS</td><td>4</td></tr>",
                            "<tr><td>sara</td><td>Posta</td><td>7</td></tr>",
                            "<tr><td>sara</td><td>Személyes </td><td>9</td></tr>",
                            "<tr><td>sara</td><td>Szállítási módonként szum</td><td>20</td></tr>",
                            "<tr><td>SEBA</td><td>GLS</td><td>6</td></tr>",
                            "<tr><td>SEBA</td><td>Posta</td><td>3</td></tr>",
                            "<tr><td>SEBA</td><td>Személyes </td><td>6</td></tr>",
                            "<tr><td>SEBA</td><td>Szállítási módonként szum</td><td>15</td></tr>",
                            "<tr><td>sebe</td><td>GLS</td><td>4</td></tr>",
                            "<tr><td>sebe</td><td>Posta</td><td>6</td></tr>",
                            "<tr><td>sebe</td><td>Személyes </td><td>6</td></tr>",
                            "<tr><td>sebe</td><td>Szállítási módonként szum</td><td>16</td></tr>",
                            "<tr><td>szab</td><td>GLS</td><td>145</td></tr>",
                            "<tr><td>szab</td><td>Posta</td><td>157</td></tr>",
                            "<tr><td>szab</td><td>Személyes </td><td>169</td></tr>",
                            "<tr><td>szab</td><td>Szállítási módonként szum</td><td>471</td></tr>",
                            "<tr><td>SZAB</td><td>GLS</td><td>126</td></tr>",
                            "<tr><td>SZAB</td><td>Posta</td><td>153</td></tr>",
                            "<tr><td>SZAB</td><td>Személyes </td><td>129</td></tr>",
                            "<tr><td>SZAB</td><td>Szállítási módonként szum</td><td>408</td></tr>",
                            "<tr><td>SZIL</td><td>GLS</td><td>144</td></tr>",
                            "<tr><td>SZIL</td><td>Posta</td><td>131</td></tr>",
                            "<tr><td>SZIL</td><td>Személyes </td><td>111</td></tr>",
                            "<tr><td>SZIL</td><td>Szállítási módonként szum</td><td>386</td></tr>",
                            "<tr><td>szil</td><td>GLS</td><td>156</td></tr>",
                            "<tr><td>szil</td><td>Posta</td><td>151</td></tr>",
                            "<tr><td>szil</td><td>Személyes </td><td>138</td></tr>",
                            "<tr><td>szil</td><td>Szállítási módonként szum</td><td>445</td></tr>",
                            "<tr><td>tama</td><td>GLS</td><td>6</td></tr>",
                            "<tr><td>tama</td><td>Posta</td><td>4</td></tr>",
                            "<tr><td>tama</td><td>Személyes </td><td>3</td></tr>",
                            "<tr><td>tama</td><td>Szállítási módonként szum</td><td>13</td></tr>",
                            "<tr><td>tama</td><td>GLS</td><td>143</td></tr>",
                            "<tr><td>tama</td><td>Posta</td><td>156</td></tr>",
                            "<tr><td>tama</td><td>Személyes </td><td>122</td></tr>",
                            "<tr><td>tama</td><td>Szállítási módonként szum</td><td>421</td></tr>",
                            "<tr><td>TAMA</td><td>GLS</td><td>159</td></tr>",
                            "<tr><td>TAMA</td><td>Posta</td><td>145</td></tr>",
                            "<tr><td>TAMA</td><td>Személyes </td><td>129</td></tr>",
                            "<tr><td>TAMA</td><td>Szállítási módonként szum</td><td>433</td></tr>",
                            "<tr><td>tibo</td><td>GLS</td><td>115</td></tr>",
                            "<tr><td>tibo</td><td>Posta</td><td>129</td></tr>",
                            "<tr><td>tibo</td><td>Személyes </td><td>130</td></tr>",
                            "<tr><td>tibo</td><td>Szállítási módonként szum</td><td>374</td></tr>",
                            "<tr><td>tibo</td><td>GLS</td><td>7</td></tr>",
                            "<tr><td>tibo</td><td>Posta</td><td>7</td></tr>",
                            "<tr><td>tibo</td><td>Személyes </td><td>11</td></tr>",
                            "<tr><td>tibo</td><td>Szállítási módonként szum</td><td>25</td></tr>",
                            "<tr><td>tiha</td><td>GLS</td><td>9</td></tr>",
                            "<tr><td>tiha</td><td>Posta</td><td>6</td></tr>",
                            "<tr><td>tiha</td><td>Személyes </td><td>5</td></tr>",
                            "<tr><td>tiha</td><td>Szállítási módonként szum</td><td>20</td></tr>",
                            "<tr><td>time</td><td>GLS</td><td>14</td></tr>",
                            "<tr><td>time</td><td>Posta</td><td>23</td></tr>",
                            "<tr><td>time</td><td>Személyes </td><td>18</td></tr>",
                            "<tr><td>time</td><td>Szállítási módonként szum</td><td>55</td></tr>",
                            "<tr><td>time</td><td>GLS</td><td>1</td></tr>",
                            "<tr><td>time</td><td>Posta</td><td>5</td></tr>",
                            "<tr><td>time</td><td>Személyes </td><td>10</td></tr>",
                            "<tr><td>time</td><td>Szállítási módonként szum</td><td>16</td></tr>",
                            "<tr><td>tund</td><td>GLS</td><td>6</td></tr>",
                            "<tr><td>tund</td><td>Posta</td><td>6</td></tr>",
                            "<tr><td>tund</td><td>Személyes </td><td>4</td></tr>",
                            "<tr><td>tund</td><td>Szállítási módonként szum</td><td>16</td></tr>",
                            "<tr><td>vale</td><td>GLS</td><td>5</td></tr>",
                            "<tr><td>vale</td><td>Posta</td><td>5</td></tr>",
                            "<tr><td>vale</td><td>Személyes </td><td>3</td></tr>",
                            "<tr><td>vale</td><td>Szállítási módonként szum</td><td>13</td></tr>",
                            "<tr><td>vero</td><td>GLS</td><td>5</td></tr>",
                            "<tr><td>vero</td><td>Posta</td><td>6</td></tr>",
                            "<tr><td>vero</td><td>Személyes </td><td>7</td></tr>",
                            "<tr><td>vero</td><td>Szállítási módonként szum</td><td>18</td></tr>",
                            "<tr><td>VIKT</td><td>GLS</td><td>5</td></tr>",
                            "<tr><td>VIKT</td><td>Posta</td><td>4</td></tr>",
                            "<tr><td>VIKT</td><td>Személyes </td><td>5</td></tr>",
                            "<tr><td>VIKT</td><td>Szállítási módonként szum</td><td>14</td></tr>",
                            "<tr><td>VIKT</td><td>GLS</td><td>8</td></tr>",
                            "<tr><td>VIKT</td><td>Posta</td><td>6</td></tr>",
                            "<tr><td>VIKT</td><td>Személyes </td><td>6</td></tr>",
                            "<tr><td>VIKT</td><td>Szállítási módonként szum</td><td>20</td></tr>",
                            "<tr><td>vivi</td><td>GLS</td><td>9</td></tr>",
                            "<tr><td>vivi</td><td>Posta</td><td>6</td></tr>",
                            "<tr><td>vivi</td><td>Személyes </td><td>7</td></tr>",
                            "<tr><td>vivi</td><td>Szállítási módonként szum</td><td>22</td></tr>",
                            "<tr><td>zolt</td><td>GLS</td><td>5</td></tr>",
                            "<tr><td>zolt</td><td>Posta</td><td>3</td></tr>",
                            "<tr><td>zolt</td><td>Személyes </td><td>7</td></tr>",
                            "<tr><td>zolt</td><td>Szállítási módonként szum</td><td>15</td></tr>",
                            "<tr><td>zolt</td><td>GLS</td><td>129</td></tr>",
                            "<tr><td>zolt</td><td>Posta</td><td>124</td></tr>",
                            "<tr><td>zolt</td><td>Személyes </td><td>171</td></tr>",
                            "<tr><td>zolt</td><td>Szállítási módonként szum</td><td>424</td></tr>",
                            "<tr><td>ZOLT</td><td>GLS</td><td>6</td></tr>",
                            "<tr><td>ZOLT</td><td>Posta</td><td>3</td></tr>",
                            "<tr><td>ZOLT</td><td>Személyes </td><td>4</td></tr>",
                            "<tr><td>ZOLT</td><td>Szállítási módonként szum</td><td>13</td></tr>",
                            "<tr><td>ZOLT</td><td>GLS</td><td>127</td></tr>",
                            "<tr><td>ZOLT</td><td>Posta</td><td>107</td></tr>",
                            "<tr><td>ZOLT</td><td>Személyes </td><td>123</td></tr>",
                            "<tr><td>ZOLT</td><td>Szállítási módonként szum</td><td>357</td></tr>",
                            "<tr><td>zsof</td><td>GLS</td><td>7</td></tr>",
                            "<tr><td>zsof</td><td>Posta</td><td>6</td></tr>",
                            "<tr><td>zsof</td><td>Személyes </td><td>6</td></tr>",
                            "<tr><td>zsof</td><td>Szállítási módonként szum</td><td>19</td></tr>",
                            "<tr><td>zsol</td><td>GLS</td><td>11</td></tr>",
                            "<tr><td>zsol</td><td>Posta</td><td>6</td></tr>",
                            "<tr><td>zsol</td><td>Személyes </td><td>3</td></tr>",
                            "<tr><td>zsol</td><td>Szállítási módonként szum</td><td>20</td></tr>",
                            "<tr><td>ZSOL</td><td>GLS</td><td>1</td></tr>",
                            "<tr><td>ZSOL</td><td>Posta</td><td>8</td></tr>",
                            "<tr><td>ZSOL</td><td>Személyes </td><td>9</td></tr>",
                            "<tr><td>ZSOL</td><td>Szállítási módonként szum</td><td>18</td></tr>",
                            "<tr><td>zsuz</td><td>GLS</td><td>8</td></tr>",
                            "<tr><td>zsuz</td><td>Posta</td><td>5</td></tr>",
                            "<tr><td>zsuz</td><td>Személyes </td><td>3</td></tr>",
                            "<tr><td>zsuz</td><td>Szállítási módonként szum</td><td>16</td></tr>",
                            "<tr><td>zsuz</td><td>GLS</td><td>5</td></tr>",
                            "<tr><td>zsuz</td><td>Posta</td><td>5</td></tr>",
                            "<tr><td>zsuz</td><td>Személyes </td><td>6</td></tr>",
                            "<tr><td>zsuz</td><td>Szállítási módonként szum</td><td>16</td></tr>",
                            "<tr><td>zsuz</td><td>GLS</td><td>7</td></tr>",
                            "<tr><td>zsuz</td><td>Posta</td><td>5</td></tr>",
                            "<tr><td>zsuz</td><td>Személyes </td><td>3</td></tr>",
                            "<tr><td>zsuz</td><td>Szállítási módonként szum</td><td>15</td></tr>",
                            "<tr><td>ZSUZ</td><td>GLS</td><td>139</td></tr>",
                            "<tr><td>ZSUZ</td><td>Posta</td><td>139</td></tr>",
                            "<tr><td>ZSUZ</td><td>Személyes </td><td>142</td></tr>",
                            "<tr><td>ZSUZ</td><td>Szállítási módonként szum</td><td>420</td></tr>",
                            "<tr><td></td><td>Szállítási módonként szum</td><td>28085</td></tr>",
                            "</table>"
                        ]
                    }
                }
            ],
            "execution_count": 12
        },
        {
            "cell_type": "markdown",
            "source": [
                "2. <span style=\"background-color: rgb(255, 255, 255); color: rgb(0, 0, 0); font-family: &quot;Open Sans&quot;, sans-serif; font-size: 14.44px;\">Készítsünk listát a termékek számáról a következő csoportosítási szempontok szerint:<br>kategória azonosító, raktárkód, raktárkód+mennyiségi egység!</span>\n",
                "\n",
                "a. A listát szűrjük azokra a csoportokra, ahol a termékek száma legalább 6!"
            ],
            "metadata": {
                "azdata_cell_guid": "ea75c103-911f-41a3-a32c-3d40fb3e4e4a"
            },
            "attachments": {}
        },
        {
            "cell_type": "code",
            "source": [
                "SELECT KAT_ID, RAKTAR_KOD, MEGYS, COUNT(*) \r\n",
                "FROM Termek\r\n",
                "GROUP BY GROUPING SETS (KAT_ID, RAKTAR_KOD, (RAKTAR_KOD, MEGYS))\r\n",
                "HAVING count(*) >= 6"
            ],
            "metadata": {
                "azdata_cell_guid": "222b9618-a8e8-42b4-a8e8-d002257122b7",
                "language": "sql",
                "tags": []
            },
            "outputs": [
                {
                    "output_type": "display_data",
                    "data": {
                        "text/html": "(49 rows affected)"
                    },
                    "metadata": {}
                },
                {
                    "output_type": "display_data",
                    "data": {
                        "text/html": "Total execution time: 00:00:00.015"
                    },
                    "metadata": {}
                },
                {
                    "output_type": "execute_result",
                    "execution_count": 11,
                    "data": {
                        "application/vnd.dataresource+json": {
                            "schema": {
                                "fields": [
                                    {
                                        "name": "KAT_ID"
                                    },
                                    {
                                        "name": "RAKTAR_KOD"
                                    },
                                    {
                                        "name": "MEGYS"
                                    },
                                    {
                                        "name": "(No column name)"
                                    }
                                ]
                            },
                            "data": [
                                {
                                    "KAT_ID": "NULL",
                                    "RAKTAR_KOD": "1",
                                    "MEGYS": "db",
                                    "(No column name)": "11"
                                },
                                {
                                    "KAT_ID": "NULL",
                                    "RAKTAR_KOD": "1",
                                    "MEGYS": "NULL",
                                    "(No column name)": "11"
                                },
                                {
                                    "KAT_ID": "NULL",
                                    "RAKTAR_KOD": "3",
                                    "MEGYS": "db",
                                    "(No column name)": "14"
                                },
                                {
                                    "KAT_ID": "NULL",
                                    "RAKTAR_KOD": "3",
                                    "MEGYS": "NULL",
                                    "(No column name)": "14"
                                },
                                {
                                    "KAT_ID": "NULL",
                                    "RAKTAR_KOD": "5",
                                    "MEGYS": "csomag",
                                    "(No column name)": "7"
                                },
                                {
                                    "KAT_ID": "NULL",
                                    "RAKTAR_KOD": "5",
                                    "MEGYS": "db",
                                    "(No column name)": "72"
                                },
                                {
                                    "KAT_ID": "NULL",
                                    "RAKTAR_KOD": "5",
                                    "MEGYS": "NULL",
                                    "(No column name)": "86"
                                },
                                {
                                    "KAT_ID": "NULL",
                                    "RAKTAR_KOD": "6",
                                    "MEGYS": "csomag",
                                    "(No column name)": "9"
                                },
                                {
                                    "KAT_ID": "NULL",
                                    "RAKTAR_KOD": "6",
                                    "MEGYS": "db",
                                    "(No column name)": "94"
                                },
                                {
                                    "KAT_ID": "NULL",
                                    "RAKTAR_KOD": "6",
                                    "MEGYS": "NULL",
                                    "(No column name)": "106"
                                },
                                {
                                    "KAT_ID": "NULL",
                                    "RAKTAR_KOD": "7",
                                    "MEGYS": "csomag",
                                    "(No column name)": "9"
                                },
                                {
                                    "KAT_ID": "NULL",
                                    "RAKTAR_KOD": "7",
                                    "MEGYS": "db",
                                    "(No column name)": "88"
                                },
                                {
                                    "KAT_ID": "NULL",
                                    "RAKTAR_KOD": "7",
                                    "MEGYS": "NULL",
                                    "(No column name)": "100"
                                },
                                {
                                    "KAT_ID": "NULL",
                                    "RAKTAR_KOD": "8",
                                    "MEGYS": "csomag",
                                    "(No column name)": "8"
                                },
                                {
                                    "KAT_ID": "NULL",
                                    "RAKTAR_KOD": "8",
                                    "MEGYS": "db",
                                    "(No column name)": "109"
                                },
                                {
                                    "KAT_ID": "NULL",
                                    "RAKTAR_KOD": "8",
                                    "MEGYS": "ív",
                                    "(No column name)": "6"
                                },
                                {
                                    "KAT_ID": "NULL",
                                    "RAKTAR_KOD": "8",
                                    "MEGYS": "NULL",
                                    "(No column name)": "123"
                                },
                                {
                                    "KAT_ID": "NULL",
                                    "RAKTAR_KOD": "9",
                                    "MEGYS": "csomag",
                                    "(No column name)": "11"
                                },
                                {
                                    "KAT_ID": "NULL",
                                    "RAKTAR_KOD": "9",
                                    "MEGYS": "db",
                                    "(No column name)": "86"
                                },
                                {
                                    "KAT_ID": "NULL",
                                    "RAKTAR_KOD": "9",
                                    "MEGYS": "NULL",
                                    "(No column name)": "102"
                                },
                                {
                                    "KAT_ID": "4",
                                    "RAKTAR_KOD": "NULL",
                                    "MEGYS": "NULL",
                                    "(No column name)": "15"
                                },
                                {
                                    "KAT_ID": "6",
                                    "RAKTAR_KOD": "NULL",
                                    "MEGYS": "NULL",
                                    "(No column name)": "20"
                                },
                                {
                                    "KAT_ID": "16",
                                    "RAKTAR_KOD": "NULL",
                                    "MEGYS": "NULL",
                                    "(No column name)": "7"
                                },
                                {
                                    "KAT_ID": "19",
                                    "RAKTAR_KOD": "NULL",
                                    "MEGYS": "NULL",
                                    "(No column name)": "19"
                                },
                                {
                                    "KAT_ID": "24",
                                    "RAKTAR_KOD": "NULL",
                                    "MEGYS": "NULL",
                                    "(No column name)": "7"
                                },
                                {
                                    "KAT_ID": "30",
                                    "RAKTAR_KOD": "NULL",
                                    "MEGYS": "NULL",
                                    "(No column name)": "7"
                                },
                                {
                                    "KAT_ID": "35",
                                    "RAKTAR_KOD": "NULL",
                                    "MEGYS": "NULL",
                                    "(No column name)": "7"
                                },
                                {
                                    "KAT_ID": "41",
                                    "RAKTAR_KOD": "NULL",
                                    "MEGYS": "NULL",
                                    "(No column name)": "13"
                                },
                                {
                                    "KAT_ID": "45",
                                    "RAKTAR_KOD": "NULL",
                                    "MEGYS": "NULL",
                                    "(No column name)": "11"
                                },
                                {
                                    "KAT_ID": "46",
                                    "RAKTAR_KOD": "NULL",
                                    "MEGYS": "NULL",
                                    "(No column name)": "7"
                                },
                                {
                                    "KAT_ID": "52",
                                    "RAKTAR_KOD": "NULL",
                                    "MEGYS": "NULL",
                                    "(No column name)": "26"
                                },
                                {
                                    "KAT_ID": "54",
                                    "RAKTAR_KOD": "NULL",
                                    "MEGYS": "NULL",
                                    "(No column name)": "6"
                                },
                                {
                                    "KAT_ID": "66",
                                    "RAKTAR_KOD": "NULL",
                                    "MEGYS": "NULL",
                                    "(No column name)": "7"
                                },
                                {
                                    "KAT_ID": "78",
                                    "RAKTAR_KOD": "NULL",
                                    "MEGYS": "NULL",
                                    "(No column name)": "24"
                                },
                                {
                                    "KAT_ID": "83",
                                    "RAKTAR_KOD": "NULL",
                                    "MEGYS": "NULL",
                                    "(No column name)": "6"
                                },
                                {
                                    "KAT_ID": "85",
                                    "RAKTAR_KOD": "NULL",
                                    "MEGYS": "NULL",
                                    "(No column name)": "16"
                                },
                                {
                                    "KAT_ID": "91",
                                    "RAKTAR_KOD": "NULL",
                                    "MEGYS": "NULL",
                                    "(No column name)": "7"
                                },
                                {
                                    "KAT_ID": "93",
                                    "RAKTAR_KOD": "NULL",
                                    "MEGYS": "NULL",
                                    "(No column name)": "7"
                                },
                                {
                                    "KAT_ID": "96",
                                    "RAKTAR_KOD": "NULL",
                                    "MEGYS": "NULL",
                                    "(No column name)": "9"
                                },
                                {
                                    "KAT_ID": "97",
                                    "RAKTAR_KOD": "NULL",
                                    "MEGYS": "NULL",
                                    "(No column name)": "10"
                                },
                                {
                                    "KAT_ID": "100",
                                    "RAKTAR_KOD": "NULL",
                                    "MEGYS": "NULL",
                                    "(No column name)": "9"
                                },
                                {
                                    "KAT_ID": "118",
                                    "RAKTAR_KOD": "NULL",
                                    "MEGYS": "NULL",
                                    "(No column name)": "9"
                                },
                                {
                                    "KAT_ID": "122",
                                    "RAKTAR_KOD": "NULL",
                                    "MEGYS": "NULL",
                                    "(No column name)": "7"
                                },
                                {
                                    "KAT_ID": "124",
                                    "RAKTAR_KOD": "NULL",
                                    "MEGYS": "NULL",
                                    "(No column name)": "10"
                                },
                                {
                                    "KAT_ID": "133",
                                    "RAKTAR_KOD": "NULL",
                                    "MEGYS": "NULL",
                                    "(No column name)": "6"
                                },
                                {
                                    "KAT_ID": "145",
                                    "RAKTAR_KOD": "NULL",
                                    "MEGYS": "NULL",
                                    "(No column name)": "18"
                                },
                                {
                                    "KAT_ID": "146",
                                    "RAKTAR_KOD": "NULL",
                                    "MEGYS": "NULL",
                                    "(No column name)": "7"
                                },
                                {
                                    "KAT_ID": "149",
                                    "RAKTAR_KOD": "NULL",
                                    "MEGYS": "NULL",
                                    "(No column name)": "6"
                                },
                                {
                                    "KAT_ID": "152",
                                    "RAKTAR_KOD": "NULL",
                                    "MEGYS": "NULL",
                                    "(No column name)": "6"
                                }
                            ]
                        },
                        "text/html": "<table><tr><th>KAT_ID</th><th>RAKTAR_KOD</th><th>MEGYS</th><th>(No column name)</th></tr><tr><td>NULL</td><td>1</td><td>db</td><td>11</td></tr><tr><td>NULL</td><td>1</td><td>NULL</td><td>11</td></tr><tr><td>NULL</td><td>3</td><td>db</td><td>14</td></tr><tr><td>NULL</td><td>3</td><td>NULL</td><td>14</td></tr><tr><td>NULL</td><td>5</td><td>csomag</td><td>7</td></tr><tr><td>NULL</td><td>5</td><td>db</td><td>72</td></tr><tr><td>NULL</td><td>5</td><td>NULL</td><td>86</td></tr><tr><td>NULL</td><td>6</td><td>csomag</td><td>9</td></tr><tr><td>NULL</td><td>6</td><td>db</td><td>94</td></tr><tr><td>NULL</td><td>6</td><td>NULL</td><td>106</td></tr><tr><td>NULL</td><td>7</td><td>csomag</td><td>9</td></tr><tr><td>NULL</td><td>7</td><td>db</td><td>88</td></tr><tr><td>NULL</td><td>7</td><td>NULL</td><td>100</td></tr><tr><td>NULL</td><td>8</td><td>csomag</td><td>8</td></tr><tr><td>NULL</td><td>8</td><td>db</td><td>109</td></tr><tr><td>NULL</td><td>8</td><td>ív</td><td>6</td></tr><tr><td>NULL</td><td>8</td><td>NULL</td><td>123</td></tr><tr><td>NULL</td><td>9</td><td>csomag</td><td>11</td></tr><tr><td>NULL</td><td>9</td><td>db</td><td>86</td></tr><tr><td>NULL</td><td>9</td><td>NULL</td><td>102</td></tr><tr><td>4</td><td>NULL</td><td>NULL</td><td>15</td></tr><tr><td>6</td><td>NULL</td><td>NULL</td><td>20</td></tr><tr><td>16</td><td>NULL</td><td>NULL</td><td>7</td></tr><tr><td>19</td><td>NULL</td><td>NULL</td><td>19</td></tr><tr><td>24</td><td>NULL</td><td>NULL</td><td>7</td></tr><tr><td>30</td><td>NULL</td><td>NULL</td><td>7</td></tr><tr><td>35</td><td>NULL</td><td>NULL</td><td>7</td></tr><tr><td>41</td><td>NULL</td><td>NULL</td><td>13</td></tr><tr><td>45</td><td>NULL</td><td>NULL</td><td>11</td></tr><tr><td>46</td><td>NULL</td><td>NULL</td><td>7</td></tr><tr><td>52</td><td>NULL</td><td>NULL</td><td>26</td></tr><tr><td>54</td><td>NULL</td><td>NULL</td><td>6</td></tr><tr><td>66</td><td>NULL</td><td>NULL</td><td>7</td></tr><tr><td>78</td><td>NULL</td><td>NULL</td><td>24</td></tr><tr><td>83</td><td>NULL</td><td>NULL</td><td>6</td></tr><tr><td>85</td><td>NULL</td><td>NULL</td><td>16</td></tr><tr><td>91</td><td>NULL</td><td>NULL</td><td>7</td></tr><tr><td>93</td><td>NULL</td><td>NULL</td><td>7</td></tr><tr><td>96</td><td>NULL</td><td>NULL</td><td>9</td></tr><tr><td>97</td><td>NULL</td><td>NULL</td><td>10</td></tr><tr><td>100</td><td>NULL</td><td>NULL</td><td>9</td></tr><tr><td>118</td><td>NULL</td><td>NULL</td><td>9</td></tr><tr><td>122</td><td>NULL</td><td>NULL</td><td>7</td></tr><tr><td>124</td><td>NULL</td><td>NULL</td><td>10</td></tr><tr><td>133</td><td>NULL</td><td>NULL</td><td>6</td></tr><tr><td>145</td><td>NULL</td><td>NULL</td><td>18</td></tr><tr><td>146</td><td>NULL</td><td>NULL</td><td>7</td></tr><tr><td>149</td><td>NULL</td><td>NULL</td><td>6</td></tr><tr><td>152</td><td>NULL</td><td>NULL</td><td>6</td></tr></table>"
                    },
                    "metadata": {}
                }
            ],
            "execution_count": 11
        },
        {
            "cell_type": "markdown",
            "source": [
                "```\n",
                "3. Készítsünk listát az egyes termékkategóriákban lévő termékek számáról! \n",
                "\n",
                "```\n",
                "\n",
                "a. Elég megjeleníteni a kategóriák azonosítóit és a darabszámokat!   \n",
                "<span style=\"color: var(--vscode-foreground);\">b. A lista megfelelően jelölve tartalmazza a végösszeget is!&nbsp;<br></span> <span style=\"color: var(--vscode-foreground);\">c. Az oszlopokat nevezzük el értelemszerűen!&nbsp;<br></span> <span style=\"color: var(--vscode-foreground);\">d. A listát rendezzük a darabszám szerint növekvő sorrendbe!</span>\n",
                "\n",
                "  \n",
                "\n",
                "![](https://moodle.uni-corvinus.hu/theme/image.php/adaptable/atto_h5p/1709548862/icon)"
            ],
            "metadata": {
                "azdata_cell_guid": "d7876bb9-76d0-4d07-baed-3cb17b2f96c3"
            },
            "attachments": {}
        },
        {
            "cell_type": "code",
            "source": [
                "SELECT (\r\n",
                "CASE GROUPING_ID(KAT_ID) \r\n",
                "WHEN 0 THEN CAST(KAT_ID as varchar)\r\n",
                "WHEN 1 THEN 'Összesen' END\r\n",
                "), count(*)\r\n",
                "FROM Termek\r\n",
                "GROUP BY ROLLUP(KAT_ID)\r\n",
                "ORDER BY count(*) ASC"
            ],
            "metadata": {
                "azdata_cell_guid": "56ec19ce-e249-4551-b2a8-f17569765acc",
                "language": "sql"
            },
            "outputs": [
                {
                    "output_type": "display_data",
                    "data": {
                        "text/html": "(144 rows affected)"
                    },
                    "metadata": {}
                },
                {
                    "output_type": "display_data",
                    "data": {
                        "text/html": "Total execution time: 00:00:00.007"
                    },
                    "metadata": {}
                },
                {
                    "output_type": "execute_result",
                    "execution_count": 22,
                    "data": {
                        "application/vnd.dataresource+json": {
                            "schema": {
                                "fields": [
                                    {
                                        "name": "(No column name)"
                                    },
                                    {
                                        "name": "(No column name)"
                                    }
                                ]
                            },
                            "data": [
                                {
                                    "(No column name)": "1"
                                },
                                {
                                    "(No column name)": "1"
                                },
                                {
                                    "(No column name)": "1"
                                },
                                {
                                    "(No column name)": "1"
                                },
                                {
                                    "(No column name)": "1"
                                },
                                {
                                    "(No column name)": "1"
                                },
                                {
                                    "(No column name)": "1"
                                },
                                {
                                    "(No column name)": "1"
                                },
                                {
                                    "(No column name)": "1"
                                },
                                {
                                    "(No column name)": "1"
                                },
                                {
                                    "(No column name)": "1"
                                },
                                {
                                    "(No column name)": "1"
                                },
                                {
                                    "(No column name)": "1"
                                },
                                {
                                    "(No column name)": "1"
                                },
                                {
                                    "(No column name)": "1"
                                },
                                {
                                    "(No column name)": "1"
                                },
                                {
                                    "(No column name)": "1"
                                },
                                {
                                    "(No column name)": "1"
                                },
                                {
                                    "(No column name)": "1"
                                },
                                {
                                    "(No column name)": "1"
                                },
                                {
                                    "(No column name)": "1"
                                },
                                {
                                    "(No column name)": "1"
                                },
                                {
                                    "(No column name)": "1"
                                },
                                {
                                    "(No column name)": "1"
                                },
                                {
                                    "(No column name)": "1"
                                },
                                {
                                    "(No column name)": "1"
                                },
                                {
                                    "(No column name)": "1"
                                },
                                {
                                    "(No column name)": "1"
                                },
                                {
                                    "(No column name)": "1"
                                },
                                {
                                    "(No column name)": "1"
                                },
                                {
                                    "(No column name)": "1"
                                },
                                {
                                    "(No column name)": "1"
                                },
                                {
                                    "(No column name)": "1"
                                },
                                {
                                    "(No column name)": "1"
                                },
                                {
                                    "(No column name)": "1"
                                },
                                {
                                    "(No column name)": "1"
                                },
                                {
                                    "(No column name)": "1"
                                },
                                {
                                    "(No column name)": "1"
                                },
                                {
                                    "(No column name)": "1"
                                },
                                {
                                    "(No column name)": "1"
                                },
                                {
                                    "(No column name)": "1"
                                },
                                {
                                    "(No column name)": "1"
                                },
                                {
                                    "(No column name)": "1"
                                },
                                {
                                    "(No column name)": "1"
                                },
                                {
                                    "(No column name)": "2"
                                },
                                {
                                    "(No column name)": "2"
                                },
                                {
                                    "(No column name)": "2"
                                },
                                {
                                    "(No column name)": "2"
                                },
                                {
                                    "(No column name)": "2"
                                },
                                {
                                    "(No column name)": "2"
                                },
                                {
                                    "(No column name)": "2"
                                },
                                {
                                    "(No column name)": "2"
                                },
                                {
                                    "(No column name)": "2"
                                },
                                {
                                    "(No column name)": "2"
                                },
                                {
                                    "(No column name)": "2"
                                },
                                {
                                    "(No column name)": "2"
                                },
                                {
                                    "(No column name)": "2"
                                },
                                {
                                    "(No column name)": "2"
                                },
                                {
                                    "(No column name)": "2"
                                },
                                {
                                    "(No column name)": "2"
                                },
                                {
                                    "(No column name)": "2"
                                },
                                {
                                    "(No column name)": "2"
                                },
                                {
                                    "(No column name)": "2"
                                },
                                {
                                    "(No column name)": "2"
                                },
                                {
                                    "(No column name)": "2"
                                },
                                {
                                    "(No column name)": "2"
                                },
                                {
                                    "(No column name)": "2"
                                },
                                {
                                    "(No column name)": "2"
                                },
                                {
                                    "(No column name)": "2"
                                },
                                {
                                    "(No column name)": "2"
                                },
                                {
                                    "(No column name)": "2"
                                },
                                {
                                    "(No column name)": "2"
                                },
                                {
                                    "(No column name)": "2"
                                },
                                {
                                    "(No column name)": "2"
                                },
                                {
                                    "(No column name)": "2"
                                },
                                {
                                    "(No column name)": "2"
                                },
                                {
                                    "(No column name)": "2"
                                },
                                {
                                    "(No column name)": "2"
                                },
                                {
                                    "(No column name)": "2"
                                },
                                {
                                    "(No column name)": "2"
                                },
                                {
                                    "(No column name)": "2"
                                },
                                {
                                    "(No column name)": "3"
                                },
                                {
                                    "(No column name)": "3"
                                },
                                {
                                    "(No column name)": "3"
                                },
                                {
                                    "(No column name)": "3"
                                },
                                {
                                    "(No column name)": "3"
                                },
                                {
                                    "(No column name)": "3"
                                },
                                {
                                    "(No column name)": "3"
                                },
                                {
                                    "(No column name)": "3"
                                },
                                {
                                    "(No column name)": "3"
                                },
                                {
                                    "(No column name)": "3"
                                },
                                {
                                    "(No column name)": "3"
                                },
                                {
                                    "(No column name)": "3"
                                },
                                {
                                    "(No column name)": "3"
                                },
                                {
                                    "(No column name)": "3"
                                },
                                {
                                    "(No column name)": "3"
                                },
                                {
                                    "(No column name)": "4"
                                },
                                {
                                    "(No column name)": "4"
                                },
                                {
                                    "(No column name)": "4"
                                },
                                {
                                    "(No column name)": "4"
                                },
                                {
                                    "(No column name)": "4"
                                },
                                {
                                    "(No column name)": "4"
                                },
                                {
                                    "(No column name)": "4"
                                },
                                {
                                    "(No column name)": "4"
                                },
                                {
                                    "(No column name)": "4"
                                },
                                {
                                    "(No column name)": "4"
                                },
                                {
                                    "(No column name)": "4"
                                },
                                {
                                    "(No column name)": "5"
                                },
                                {
                                    "(No column name)": "5"
                                },
                                {
                                    "(No column name)": "5"
                                },
                                {
                                    "(No column name)": "5"
                                },
                                {
                                    "(No column name)": "5"
                                },
                                {
                                    "(No column name)": "5"
                                },
                                {
                                    "(No column name)": "5"
                                },
                                {
                                    "(No column name)": "6"
                                },
                                {
                                    "(No column name)": "6"
                                },
                                {
                                    "(No column name)": "6"
                                },
                                {
                                    "(No column name)": "6"
                                },
                                {
                                    "(No column name)": "6"
                                },
                                {
                                    "(No column name)": "7"
                                },
                                {
                                    "(No column name)": "7"
                                },
                                {
                                    "(No column name)": "7"
                                },
                                {
                                    "(No column name)": "7"
                                },
                                {
                                    "(No column name)": "7"
                                },
                                {
                                    "(No column name)": "7"
                                },
                                {
                                    "(No column name)": "7"
                                },
                                {
                                    "(No column name)": "7"
                                },
                                {
                                    "(No column name)": "7"
                                },
                                {
                                    "(No column name)": "7"
                                },
                                {
                                    "(No column name)": "9"
                                },
                                {
                                    "(No column name)": "9"
                                },
                                {
                                    "(No column name)": "9"
                                },
                                {
                                    "(No column name)": "10"
                                },
                                {
                                    "(No column name)": "10"
                                },
                                {
                                    "(No column name)": "11"
                                },
                                {
                                    "(No column name)": "13"
                                },
                                {
                                    "(No column name)": "15"
                                },
                                {
                                    "(No column name)": "16"
                                },
                                {
                                    "(No column name)": "18"
                                },
                                {
                                    "(No column name)": "19"
                                },
                                {
                                    "(No column name)": "20"
                                },
                                {
                                    "(No column name)": "24"
                                },
                                {
                                    "(No column name)": "26"
                                },
                                {
                                    "(No column name)": "551"
                                }
                            ]
                        },
                        "text/html": "<table><tr><th>(No column name)</th><th>(No column name)</th></tr><tr><td>10</td><td>1</td></tr><tr><td>11</td><td>1</td></tr><tr><td>12</td><td>1</td></tr><tr><td>15</td><td>1</td></tr><tr><td>17</td><td>1</td></tr><tr><td>26</td><td>1</td></tr><tr><td>29</td><td>1</td></tr><tr><td>31</td><td>1</td></tr><tr><td>33</td><td>1</td></tr><tr><td>34</td><td>1</td></tr><tr><td>37</td><td>1</td></tr><tr><td>38</td><td>1</td></tr><tr><td>40</td><td>1</td></tr><tr><td>42</td><td>1</td></tr><tr><td>44</td><td>1</td></tr><tr><td>50</td><td>1</td></tr><tr><td>53</td><td>1</td></tr><tr><td>61</td><td>1</td></tr><tr><td>74</td><td>1</td></tr><tr><td>80</td><td>1</td></tr><tr><td>82</td><td>1</td></tr><tr><td>84</td><td>1</td></tr><tr><td>86</td><td>1</td></tr><tr><td>99</td><td>1</td></tr><tr><td>101</td><td>1</td></tr><tr><td>103</td><td>1</td></tr><tr><td>105</td><td>1</td></tr><tr><td>107</td><td>1</td></tr><tr><td>108</td><td>1</td></tr><tr><td>109</td><td>1</td></tr><tr><td>114</td><td>1</td></tr><tr><td>115</td><td>1</td></tr><tr><td>126</td><td>1</td></tr><tr><td>130</td><td>1</td></tr><tr><td>131</td><td>1</td></tr><tr><td>132</td><td>1</td></tr><tr><td>135</td><td>1</td></tr><tr><td>139</td><td>1</td></tr><tr><td>140</td><td>1</td></tr><tr><td>142</td><td>1</td></tr><tr><td>147</td><td>1</td></tr><tr><td>148</td><td>1</td></tr><tr><td>153</td><td>1</td></tr><tr><td>155</td><td>1</td></tr><tr><td>150</td><td>2</td></tr><tr><td>144</td><td>2</td></tr><tr><td>141</td><td>2</td></tr><tr><td>136</td><td>2</td></tr><tr><td>123</td><td>2</td></tr><tr><td>134</td><td>2</td></tr><tr><td>127</td><td>2</td></tr><tr><td>128</td><td>2</td></tr><tr><td>129</td><td>2</td></tr><tr><td>116</td><td>2</td></tr><tr><td>117</td><td>2</td></tr><tr><td>112</td><td>2</td></tr><tr><td>121</td><td>2</td></tr><tr><td>110</td><td>2</td></tr><tr><td>104</td><td>2</td></tr><tr><td>94</td><td>2</td></tr><tr><td>95</td><td>2</td></tr><tr><td>88</td><td>2</td></tr><tr><td>90</td><td>2</td></tr><tr><td>92</td><td>2</td></tr><tr><td>71</td><td>2</td></tr><tr><td>72</td><td>2</td></tr><tr><td>73</td><td>2</td></tr><tr><td>75</td><td>2</td></tr><tr><td>62</td><td>2</td></tr><tr><td>55</td><td>2</td></tr><tr><td>65</td><td>2</td></tr><tr><td>67</td><td>2</td></tr><tr><td>68</td><td>2</td></tr><tr><td>57</td><td>2</td></tr><tr><td>48</td><td>2</td></tr><tr><td>49</td><td>2</td></tr><tr><td>39</td><td>2</td></tr><tr><td>22</td><td>2</td></tr><tr><td>18</td><td>2</td></tr><tr><td>9</td><td>2</td></tr><tr><td>13</td><td>2</td></tr><tr><td>5</td><td>3</td></tr><tr><td>7</td><td>3</td></tr><tr><td>8</td><td>3</td></tr><tr><td>20</td><td>3</td></tr><tr><td>27</td><td>3</td></tr><tr><td>32</td><td>3</td></tr><tr><td>43</td><td>3</td></tr><tr><td>58</td><td>3</td></tr><tr><td>51</td><td>3</td></tr><tr><td>70</td><td>3</td></tr><tr><td>89</td><td>3</td></tr><tr><td>111</td><td>3</td></tr><tr><td>119</td><td>3</td></tr><tr><td>137</td><td>3</td></tr><tr><td>143</td><td>3</td></tr><tr><td>151</td><td>4</td></tr><tr><td>154</td><td>4</td></tr><tr><td>125</td><td>4</td></tr><tr><td>79</td><td>4</td></tr><tr><td>98</td><td>4</td></tr><tr><td>56</td><td>4</td></tr><tr><td>64</td><td>4</td></tr><tr><td>59</td><td>4</td></tr><tr><td>47</td><td>4</td></tr><tr><td>25</td><td>4</td></tr><tr><td>14</td><td>4</td></tr><tr><td>21</td><td>5</td></tr><tr><td>36</td><td>5</td></tr><tr><td>28</td><td>5</td></tr><tr><td>60</td><td>5</td></tr><tr><td>76</td><td>5</td></tr><tr><td>106</td><td>5</td></tr><tr><td>138</td><td>5</td></tr><tr><td>133</td><td>6</td></tr><tr><td>152</td><td>6</td></tr><tr><td>149</td><td>6</td></tr><tr><td>83</td><td>6</td></tr><tr><td>54</td><td>6</td></tr><tr><td>46</td><td>7</td></tr><tr><td>66</td><td>7</td></tr><tr><td>24</td><td>7</td></tr><tr><td>30</td><td>7</td></tr><tr><td>35</td><td>7</td></tr><tr><td>16</td><td>7</td></tr><tr><td>146</td><td>7</td></tr><tr><td>122</td><td>7</td></tr><tr><td>93</td><td>7</td></tr><tr><td>91</td><td>7</td></tr><tr><td>100</td><td>9</td></tr><tr><td>96</td><td>9</td></tr><tr><td>118</td><td>9</td></tr><tr><td>97</td><td>10</td></tr><tr><td>124</td><td>10</td></tr><tr><td>45</td><td>11</td></tr><tr><td>41</td><td>13</td></tr><tr><td>4</td><td>15</td></tr><tr><td>85</td><td>16</td></tr><tr><td>145</td><td>18</td></tr><tr><td>19</td><td>19</td></tr><tr><td>6</td><td>20</td></tr><tr><td>78</td><td>24</td></tr><tr><td>52</td><td>26</td></tr><tr><td>Összesen</td><td>551</td></tr></table>"
                    },
                    "metadata": {}
                }
            ],
            "execution_count": 22
        },
        {
            "cell_type": "markdown",
            "source": [
                "4. <span style=\"background-color: rgb(255, 255, 255); color: rgb(0, 0, 0); font-family: &quot;Open Sans&quot;, sans-serif; font-size: 14.44px;\">Készítsünk listát az ügyfelek számáról születési év szerint, azon belül nem szerinti bontásban!&nbsp;</span> \n",
                "\n",
                "a. A lista megfelelően jelölve tartalmazza a részösszegeket és a végösszeget is!  \n",
                "b. Az oszlopoknak adjunk nevet értelemszerűen!"
            ],
            "metadata": {
                "azdata_cell_guid": "8e7fef82-8022-49a0-8255-fc2846c2134b"
            },
            "attachments": {}
        },
        {
            "cell_type": "code",
            "source": [
                ""
            ],
            "metadata": {
                "azdata_cell_guid": "36f7b396-4a1f-45e5-8720-2302537c91bc",
                "language": "sql"
            },
            "outputs": [],
            "execution_count": null
        },
        {
            "cell_type": "markdown",
            "source": [
                "5. <span style=\"background-color: rgb(255, 255, 255); color: rgb(0, 0, 0); font-family: &quot;Open Sans&quot;, sans-serif; font-size: 14.44px;\">Készítsünk listát a termékek számáról a felvitel hónapja, azon belül napja szerint csoportosítva.&nbsp;</span> \n",
                "\n",
                "a. A lista csak a részösszegeket és a végösszeget tartalmazza!  \n",
                "b. Az oszlopoknak adjunk megfelelő nevet!  \n",
                "c. Ötlet: HAVING + GROUPING\\_ID fv együttes használata"
            ],
            "metadata": {
                "azdata_cell_guid": "84239ca2-6b5e-49f5-9860-d44c11d6de32"
            },
            "attachments": {}
        },
        {
            "cell_type": "code",
            "source": [
                ""
            ],
            "metadata": {
                "azdata_cell_guid": "06d9a62b-9430-424b-a135-d80e675f0eb3",
                "language": "sql"
            },
            "outputs": [],
            "execution_count": null
        }
    ]
}